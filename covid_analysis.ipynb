{
  "nbformat": 4,
  "nbformat_minor": 0,
  "metadata": {
    "kernelspec": {
      "display_name": "Python 3",
      "language": "python",
      "name": "python3"
    },
    "language_info": {
      "codemirror_mode": {
        "name": "ipython",
        "version": 3
      },
      "file_extension": ".py",
      "mimetype": "text/x-python",
      "name": "python",
      "nbconvert_exporter": "python",
      "pygments_lexer": "ipython3",
      "version": "3.7.3"
    },
    "colab": {
      "name": "covid_analysis.ipynb",
      "provenance": [],
      "include_colab_link": true
    }
  },
  "cells": [
    {
      "cell_type": "markdown",
      "metadata": {
        "id": "view-in-github",
        "colab_type": "text"
      },
      "source": [
        "<a href=\"https://colab.research.google.com/github/restrepo/COVID-19/blob/master/covid_analysis.ipynb\" target=\"_parent\"><img src=\"https://colab.research.google.com/assets/colab-badge.svg\" alt=\"Open In Colab\"/></a>"
      ]
    },
    {
      "cell_type": "markdown",
      "metadata": {
        "id": "AyVdvXDHSegL",
        "colab_type": "text"
      },
      "source": [
        "# Covid-19 data"
      ]
    },
    {
      "cell_type": "markdown",
      "metadata": {
        "id": "mgzzuuteSegO",
        "colab_type": "text"
      },
      "source": [
        "Use of [public Covid-19 in GitHub](https://github.com/CSSEGISandData/COVID-19) data from: \n",
        "[Center for Systems Science and Engineering (CSSE)](https://systems.jhu.edu/):\n",
        "\n",
        "* Hongru Du, Lauren Gardner, and Ensheng Dong, An interactive web-based dashboard to track COVID-19 in real time, http://www.thelancet.com/infection Published:February 19, 2020, DOI:https://doi.org/10.1016/S1473-3099(20)30120-1\n",
        "\n",
        "As an example of use of the data, we want to reproduce the results of:\n",
        "* [Así evoluciona la curva del Coronavirus en España y en cada CCAA](https://elpais.com/sociedad/2020/03/13/actualidad/1584091954_865510.html)\n",
        "\n",
        "<img src='https://github.com/restrepo/Covid-19/blob/master/img/elpais.png?raw=1' height=\"80\" >\n",
        "\n",
        "and to make similar plots for other countries\n"
      ]
    },
    {
      "cell_type": "code",
      "metadata": {
        "id": "CETEHcSKSegP",
        "colab_type": "code",
        "outputId": "e0a5636f-81a5-42d5-bc2d-d85cd88ab3e7",
        "colab": {
          "base_uri": "https://localhost:8080/",
          "height": 34
        }
      },
      "source": [
        "%pylab inline"
      ],
      "execution_count": 0,
      "outputs": [
        {
          "output_type": "stream",
          "text": [
            "Populating the interactive namespace from numpy and matplotlib\n"
          ],
          "name": "stdout"
        }
      ]
    },
    {
      "cell_type": "code",
      "metadata": {
        "id": "ayDS570kSegT",
        "colab_type": "code",
        "colab": {}
      },
      "source": [
        "import pandas as pd\n",
        "import re\n",
        "#See https://strftime.org/\n",
        "import datetime\n",
        "import time"
      ],
      "execution_count": 0,
      "outputs": []
    },
    {
      "cell_type": "code",
      "metadata": {
        "id": "0T7aE4JgoGJI",
        "colab_type": "code",
        "colab": {}
      },
      "source": [
        "def get_sum_series(cvn):\n",
        "    cs=cvn.sum()\n",
        "    cs['Province/State']='All'\n",
        "    cs['Country/Region']=cvn['Country/Region'].unique()[0]\n",
        "    cs['Lat']=round( cvn['Lat'].mean(),3 )\n",
        "    cs['Long']=round( cvn['Long'].mean(),3 )\n",
        "    return cs\n",
        "\n",
        "def merge_country(cva):\n",
        "    cvo=pd.DataFrame()\n",
        "\n",
        "    multi_country=[]\n",
        "    for c in cva['Country/Region']:\n",
        "        if c not in multi_country:\n",
        "            cvn=cva[cva['Country/Region']==c].reset_index(drop=True)\n",
        "            if cvn.shape[0]>1:\n",
        "                multi_country.append(c)\n",
        "                cvo=cvo.append(get_sum_series(cvn),ignore_index=True)\n",
        "            else:\n",
        "                cvo=cvo.append(cvn,sort=False)\n",
        "\n",
        "    cvo=cvo[cva.columns].reset_index(drop=True)\n",
        "\n",
        "    #Special cases\n",
        "    sc=cva[cva['Province/State']=='Hong Kong'].reset_index(drop=True)\n",
        "    sc['Country/Region']='Hong Kong'\n",
        "    if sc.shape[0]==1:\n",
        "        cvo=cvo.append(sc,sort=False)\n",
        "        cvo=cvo.reset_index(drop=True)    \n",
        "    return cvo"
      ],
      "execution_count": 0,
      "outputs": []
    },
    {
      "cell_type": "markdown",
      "metadata": {
        "id": "YhCXT6zdSegW",
        "colab_type": "text"
      },
      "source": [
        "## Load data"
      ]
    },
    {
      "cell_type": "code",
      "metadata": {
        "id": "0_gnDzNISegX",
        "colab_type": "code",
        "colab": {}
      },
      "source": [
        "ALL_DATA=True\n",
        "DataSource='https://raw.githubusercontent.com/CSSEGISandData/COVID-19/'\n",
        "DataDir='master/csse_covid_19_data/csse_covid_19_time_series/'\n",
        "DataFile='time_series_19-covid-Confirmed.csv'\n",
        "cva=pd.read_csv('{}{}{}'.format(DataSource,DataDir,DataFile))\n",
        "cva=cva.reset_index(drop=True)\n",
        "if ALL_DATA:\n",
        "    DataDeaths='time_series_19-covid-Deaths.csv'\n",
        "    time.sleep(1)\n",
        "    cvd=pd.read_csv('{}{}{}'.format(DataSource,DataDir,DataDeaths))\n",
        "    cvd=cvd.reset_index(drop=True)\n",
        "    time.sleep(1)\n",
        "    DataRecovered='time_series_19-covid-Recovered.csv'\n",
        "    cvr=pd.read_csv('{}{}{}'.format(DataSource,DataDir,DataRecovered))\n",
        "    cvr=cvr.reset_index(drop=True)"
      ],
      "execution_count": 0,
      "outputs": []
    },
    {
      "cell_type": "markdown",
      "metadata": {
        "id": "jRbRPRjSSega",
        "colab_type": "text"
      },
      "source": [
        "## Normalize data\n",
        "Be sure to have only a row for country"
      ]
    },
    {
      "cell_type": "code",
      "metadata": {
        "id": "j_a5EKDRs_7z",
        "colab_type": "code",
        "colab": {
          "base_uri": "https://localhost:8080/",
          "height": 34
        },
        "outputId": "b5a63bb3-f776-447c-9357-09bdfd820465"
      },
      "source": [
        "cv=merge_country(cva)\n",
        "print(cv.shape)\n",
        "if ALL_DATA:\n",
        "    cvd=merge_country(cvd)\n",
        "    cvr=merge_country(cvr)"
      ],
      "execution_count": 36,
      "outputs": [
        {
          "output_type": "stream",
          "text": [
            "(167, 64)\n"
          ],
          "name": "stdout"
        }
      ]
    },
    {
      "cell_type": "code",
      "metadata": {
        "id": "LnAE9hicpi7m",
        "colab_type": "code",
        "colab": {
          "base_uri": "https://localhost:8080/",
          "height": 436
        },
        "outputId": "89db10be-dffd-4cc9-b54d-48cef46b94fc"
      },
      "source": [
        "cvd"
      ],
      "execution_count": 37,
      "outputs": [
        {
          "output_type": "execute_result",
          "data": {
            "text/html": [
              "<div>\n",
              "<style scoped>\n",
              "    .dataframe tbody tr th:only-of-type {\n",
              "        vertical-align: middle;\n",
              "    }\n",
              "\n",
              "    .dataframe tbody tr th {\n",
              "        vertical-align: top;\n",
              "    }\n",
              "\n",
              "    .dataframe thead th {\n",
              "        text-align: right;\n",
              "    }\n",
              "</style>\n",
              "<table border=\"1\" class=\"dataframe\">\n",
              "  <thead>\n",
              "    <tr style=\"text-align: right;\">\n",
              "      <th></th>\n",
              "      <th>Province/State</th>\n",
              "      <th>Country/Region</th>\n",
              "      <th>Lat</th>\n",
              "      <th>Long</th>\n",
              "      <th>1/22/20</th>\n",
              "      <th>1/23/20</th>\n",
              "      <th>1/24/20</th>\n",
              "      <th>1/25/20</th>\n",
              "      <th>1/26/20</th>\n",
              "      <th>1/27/20</th>\n",
              "      <th>1/28/20</th>\n",
              "      <th>1/29/20</th>\n",
              "      <th>1/30/20</th>\n",
              "      <th>1/31/20</th>\n",
              "      <th>2/1/20</th>\n",
              "      <th>2/2/20</th>\n",
              "      <th>2/3/20</th>\n",
              "      <th>2/4/20</th>\n",
              "      <th>2/5/20</th>\n",
              "      <th>2/6/20</th>\n",
              "      <th>2/7/20</th>\n",
              "      <th>2/8/20</th>\n",
              "      <th>2/9/20</th>\n",
              "      <th>2/10/20</th>\n",
              "      <th>2/11/20</th>\n",
              "      <th>2/12/20</th>\n",
              "      <th>2/13/20</th>\n",
              "      <th>2/14/20</th>\n",
              "      <th>2/15/20</th>\n",
              "      <th>2/16/20</th>\n",
              "      <th>2/17/20</th>\n",
              "      <th>2/18/20</th>\n",
              "      <th>2/19/20</th>\n",
              "      <th>2/20/20</th>\n",
              "      <th>2/21/20</th>\n",
              "      <th>2/22/20</th>\n",
              "      <th>2/23/20</th>\n",
              "      <th>2/24/20</th>\n",
              "      <th>2/25/20</th>\n",
              "      <th>2/26/20</th>\n",
              "      <th>2/27/20</th>\n",
              "      <th>2/28/20</th>\n",
              "      <th>2/29/20</th>\n",
              "      <th>3/1/20</th>\n",
              "      <th>3/2/20</th>\n",
              "      <th>3/3/20</th>\n",
              "      <th>3/4/20</th>\n",
              "      <th>3/5/20</th>\n",
              "      <th>3/6/20</th>\n",
              "      <th>3/7/20</th>\n",
              "      <th>3/8/20</th>\n",
              "      <th>3/9/20</th>\n",
              "      <th>3/10/20</th>\n",
              "      <th>3/11/20</th>\n",
              "      <th>3/12/20</th>\n",
              "      <th>3/13/20</th>\n",
              "      <th>3/14/20</th>\n",
              "      <th>3/15/20</th>\n",
              "      <th>3/16/20</th>\n",
              "      <th>3/17/20</th>\n",
              "      <th>3/18/20</th>\n",
              "      <th>3/19/20</th>\n",
              "      <th>3/20/20</th>\n",
              "      <th>3/21/20</th>\n",
              "    </tr>\n",
              "  </thead>\n",
              "  <tbody>\n",
              "    <tr>\n",
              "      <th>0</th>\n",
              "      <td>NaN</td>\n",
              "      <td>Thailand</td>\n",
              "      <td>15.0000</td>\n",
              "      <td>101.0000</td>\n",
              "      <td>0</td>\n",
              "      <td>0</td>\n",
              "      <td>0</td>\n",
              "      <td>0</td>\n",
              "      <td>0</td>\n",
              "      <td>0</td>\n",
              "      <td>0</td>\n",
              "      <td>0</td>\n",
              "      <td>0</td>\n",
              "      <td>0</td>\n",
              "      <td>0</td>\n",
              "      <td>0</td>\n",
              "      <td>0</td>\n",
              "      <td>0</td>\n",
              "      <td>0</td>\n",
              "      <td>0</td>\n",
              "      <td>0</td>\n",
              "      <td>0</td>\n",
              "      <td>0</td>\n",
              "      <td>0</td>\n",
              "      <td>0</td>\n",
              "      <td>0</td>\n",
              "      <td>0</td>\n",
              "      <td>0</td>\n",
              "      <td>0</td>\n",
              "      <td>0</td>\n",
              "      <td>0</td>\n",
              "      <td>0</td>\n",
              "      <td>0</td>\n",
              "      <td>0</td>\n",
              "      <td>0</td>\n",
              "      <td>0</td>\n",
              "      <td>0</td>\n",
              "      <td>0</td>\n",
              "      <td>0</td>\n",
              "      <td>0</td>\n",
              "      <td>0</td>\n",
              "      <td>0</td>\n",
              "      <td>0</td>\n",
              "      <td>1</td>\n",
              "      <td>1</td>\n",
              "      <td>1</td>\n",
              "      <td>1</td>\n",
              "      <td>1</td>\n",
              "      <td>1</td>\n",
              "      <td>1</td>\n",
              "      <td>1</td>\n",
              "      <td>1</td>\n",
              "      <td>1</td>\n",
              "      <td>1</td>\n",
              "      <td>1</td>\n",
              "      <td>1</td>\n",
              "      <td>1</td>\n",
              "      <td>1</td>\n",
              "      <td>1</td>\n",
              "      <td>1</td>\n",
              "      <td>1</td>\n",
              "      <td>1</td>\n",
              "      <td>1</td>\n",
              "      <td>1</td>\n",
              "    </tr>\n",
              "    <tr>\n",
              "      <th>1</th>\n",
              "      <td>NaN</td>\n",
              "      <td>Japan</td>\n",
              "      <td>36.0000</td>\n",
              "      <td>138.0000</td>\n",
              "      <td>0</td>\n",
              "      <td>0</td>\n",
              "      <td>0</td>\n",
              "      <td>0</td>\n",
              "      <td>0</td>\n",
              "      <td>0</td>\n",
              "      <td>0</td>\n",
              "      <td>0</td>\n",
              "      <td>0</td>\n",
              "      <td>0</td>\n",
              "      <td>0</td>\n",
              "      <td>0</td>\n",
              "      <td>0</td>\n",
              "      <td>0</td>\n",
              "      <td>0</td>\n",
              "      <td>0</td>\n",
              "      <td>0</td>\n",
              "      <td>0</td>\n",
              "      <td>0</td>\n",
              "      <td>0</td>\n",
              "      <td>0</td>\n",
              "      <td>0</td>\n",
              "      <td>1</td>\n",
              "      <td>1</td>\n",
              "      <td>1</td>\n",
              "      <td>1</td>\n",
              "      <td>1</td>\n",
              "      <td>1</td>\n",
              "      <td>1</td>\n",
              "      <td>1</td>\n",
              "      <td>1</td>\n",
              "      <td>1</td>\n",
              "      <td>1</td>\n",
              "      <td>1</td>\n",
              "      <td>1</td>\n",
              "      <td>2</td>\n",
              "      <td>4</td>\n",
              "      <td>4</td>\n",
              "      <td>5</td>\n",
              "      <td>6</td>\n",
              "      <td>6</td>\n",
              "      <td>6</td>\n",
              "      <td>6</td>\n",
              "      <td>6</td>\n",
              "      <td>6</td>\n",
              "      <td>6</td>\n",
              "      <td>6</td>\n",
              "      <td>10</td>\n",
              "      <td>10</td>\n",
              "      <td>15</td>\n",
              "      <td>16</td>\n",
              "      <td>19</td>\n",
              "      <td>22</td>\n",
              "      <td>22</td>\n",
              "      <td>27</td>\n",
              "      <td>29</td>\n",
              "      <td>29</td>\n",
              "      <td>29</td>\n",
              "      <td>33</td>\n",
              "      <td>35</td>\n",
              "    </tr>\n",
              "    <tr>\n",
              "      <th>2</th>\n",
              "      <td>NaN</td>\n",
              "      <td>Singapore</td>\n",
              "      <td>1.2833</td>\n",
              "      <td>103.8333</td>\n",
              "      <td>0</td>\n",
              "      <td>0</td>\n",
              "      <td>0</td>\n",
              "      <td>0</td>\n",
              "      <td>0</td>\n",
              "      <td>0</td>\n",
              "      <td>0</td>\n",
              "      <td>0</td>\n",
              "      <td>0</td>\n",
              "      <td>0</td>\n",
              "      <td>0</td>\n",
              "      <td>0</td>\n",
              "      <td>0</td>\n",
              "      <td>0</td>\n",
              "      <td>0</td>\n",
              "      <td>0</td>\n",
              "      <td>0</td>\n",
              "      <td>0</td>\n",
              "      <td>0</td>\n",
              "      <td>0</td>\n",
              "      <td>0</td>\n",
              "      <td>0</td>\n",
              "      <td>0</td>\n",
              "      <td>0</td>\n",
              "      <td>0</td>\n",
              "      <td>0</td>\n",
              "      <td>0</td>\n",
              "      <td>0</td>\n",
              "      <td>0</td>\n",
              "      <td>0</td>\n",
              "      <td>0</td>\n",
              "      <td>0</td>\n",
              "      <td>0</td>\n",
              "      <td>0</td>\n",
              "      <td>0</td>\n",
              "      <td>0</td>\n",
              "      <td>0</td>\n",
              "      <td>0</td>\n",
              "      <td>0</td>\n",
              "      <td>0</td>\n",
              "      <td>0</td>\n",
              "      <td>0</td>\n",
              "      <td>0</td>\n",
              "      <td>0</td>\n",
              "      <td>0</td>\n",
              "      <td>0</td>\n",
              "      <td>0</td>\n",
              "      <td>0</td>\n",
              "      <td>0</td>\n",
              "      <td>0</td>\n",
              "      <td>0</td>\n",
              "      <td>0</td>\n",
              "      <td>0</td>\n",
              "      <td>0</td>\n",
              "      <td>0</td>\n",
              "      <td>0</td>\n",
              "      <td>0</td>\n",
              "      <td>0</td>\n",
              "      <td>0</td>\n",
              "      <td>2</td>\n",
              "    </tr>\n",
              "    <tr>\n",
              "      <th>3</th>\n",
              "      <td>NaN</td>\n",
              "      <td>Nepal</td>\n",
              "      <td>28.1667</td>\n",
              "      <td>84.2500</td>\n",
              "      <td>0</td>\n",
              "      <td>0</td>\n",
              "      <td>0</td>\n",
              "      <td>0</td>\n",
              "      <td>0</td>\n",
              "      <td>0</td>\n",
              "      <td>0</td>\n",
              "      <td>0</td>\n",
              "      <td>0</td>\n",
              "      <td>0</td>\n",
              "      <td>0</td>\n",
              "      <td>0</td>\n",
              "      <td>0</td>\n",
              "      <td>0</td>\n",
              "      <td>0</td>\n",
              "      <td>0</td>\n",
              "      <td>0</td>\n",
              "      <td>0</td>\n",
              "      <td>0</td>\n",
              "      <td>0</td>\n",
              "      <td>0</td>\n",
              "      <td>0</td>\n",
              "      <td>0</td>\n",
              "      <td>0</td>\n",
              "      <td>0</td>\n",
              "      <td>0</td>\n",
              "      <td>0</td>\n",
              "      <td>0</td>\n",
              "      <td>0</td>\n",
              "      <td>0</td>\n",
              "      <td>0</td>\n",
              "      <td>0</td>\n",
              "      <td>0</td>\n",
              "      <td>0</td>\n",
              "      <td>0</td>\n",
              "      <td>0</td>\n",
              "      <td>0</td>\n",
              "      <td>0</td>\n",
              "      <td>0</td>\n",
              "      <td>0</td>\n",
              "      <td>0</td>\n",
              "      <td>0</td>\n",
              "      <td>0</td>\n",
              "      <td>0</td>\n",
              "      <td>0</td>\n",
              "      <td>0</td>\n",
              "      <td>0</td>\n",
              "      <td>0</td>\n",
              "      <td>0</td>\n",
              "      <td>0</td>\n",
              "      <td>0</td>\n",
              "      <td>0</td>\n",
              "      <td>0</td>\n",
              "      <td>0</td>\n",
              "      <td>0</td>\n",
              "      <td>0</td>\n",
              "      <td>0</td>\n",
              "      <td>0</td>\n",
              "      <td>0</td>\n",
              "      <td>0</td>\n",
              "    </tr>\n",
              "    <tr>\n",
              "      <th>4</th>\n",
              "      <td>NaN</td>\n",
              "      <td>Malaysia</td>\n",
              "      <td>2.5000</td>\n",
              "      <td>112.5000</td>\n",
              "      <td>0</td>\n",
              "      <td>0</td>\n",
              "      <td>0</td>\n",
              "      <td>0</td>\n",
              "      <td>0</td>\n",
              "      <td>0</td>\n",
              "      <td>0</td>\n",
              "      <td>0</td>\n",
              "      <td>0</td>\n",
              "      <td>0</td>\n",
              "      <td>0</td>\n",
              "      <td>0</td>\n",
              "      <td>0</td>\n",
              "      <td>0</td>\n",
              "      <td>0</td>\n",
              "      <td>0</td>\n",
              "      <td>0</td>\n",
              "      <td>0</td>\n",
              "      <td>0</td>\n",
              "      <td>0</td>\n",
              "      <td>0</td>\n",
              "      <td>0</td>\n",
              "      <td>0</td>\n",
              "      <td>0</td>\n",
              "      <td>0</td>\n",
              "      <td>0</td>\n",
              "      <td>0</td>\n",
              "      <td>0</td>\n",
              "      <td>0</td>\n",
              "      <td>0</td>\n",
              "      <td>0</td>\n",
              "      <td>0</td>\n",
              "      <td>0</td>\n",
              "      <td>0</td>\n",
              "      <td>0</td>\n",
              "      <td>0</td>\n",
              "      <td>0</td>\n",
              "      <td>0</td>\n",
              "      <td>0</td>\n",
              "      <td>0</td>\n",
              "      <td>0</td>\n",
              "      <td>0</td>\n",
              "      <td>0</td>\n",
              "      <td>0</td>\n",
              "      <td>0</td>\n",
              "      <td>0</td>\n",
              "      <td>0</td>\n",
              "      <td>0</td>\n",
              "      <td>0</td>\n",
              "      <td>0</td>\n",
              "      <td>0</td>\n",
              "      <td>0</td>\n",
              "      <td>0</td>\n",
              "      <td>0</td>\n",
              "      <td>0</td>\n",
              "      <td>2</td>\n",
              "      <td>2</td>\n",
              "      <td>2</td>\n",
              "      <td>3</td>\n",
              "      <td>4</td>\n",
              "    </tr>\n",
              "    <tr>\n",
              "      <th>...</th>\n",
              "      <td>...</td>\n",
              "      <td>...</td>\n",
              "      <td>...</td>\n",
              "      <td>...</td>\n",
              "      <td>...</td>\n",
              "      <td>...</td>\n",
              "      <td>...</td>\n",
              "      <td>...</td>\n",
              "      <td>...</td>\n",
              "      <td>...</td>\n",
              "      <td>...</td>\n",
              "      <td>...</td>\n",
              "      <td>...</td>\n",
              "      <td>...</td>\n",
              "      <td>...</td>\n",
              "      <td>...</td>\n",
              "      <td>...</td>\n",
              "      <td>...</td>\n",
              "      <td>...</td>\n",
              "      <td>...</td>\n",
              "      <td>...</td>\n",
              "      <td>...</td>\n",
              "      <td>...</td>\n",
              "      <td>...</td>\n",
              "      <td>...</td>\n",
              "      <td>...</td>\n",
              "      <td>...</td>\n",
              "      <td>...</td>\n",
              "      <td>...</td>\n",
              "      <td>...</td>\n",
              "      <td>...</td>\n",
              "      <td>...</td>\n",
              "      <td>...</td>\n",
              "      <td>...</td>\n",
              "      <td>...</td>\n",
              "      <td>...</td>\n",
              "      <td>...</td>\n",
              "      <td>...</td>\n",
              "      <td>...</td>\n",
              "      <td>...</td>\n",
              "      <td>...</td>\n",
              "      <td>...</td>\n",
              "      <td>...</td>\n",
              "      <td>...</td>\n",
              "      <td>...</td>\n",
              "      <td>...</td>\n",
              "      <td>...</td>\n",
              "      <td>...</td>\n",
              "      <td>...</td>\n",
              "      <td>...</td>\n",
              "      <td>...</td>\n",
              "      <td>...</td>\n",
              "      <td>...</td>\n",
              "      <td>...</td>\n",
              "      <td>...</td>\n",
              "      <td>...</td>\n",
              "      <td>...</td>\n",
              "      <td>...</td>\n",
              "      <td>...</td>\n",
              "      <td>...</td>\n",
              "      <td>...</td>\n",
              "      <td>...</td>\n",
              "      <td>...</td>\n",
              "      <td>...</td>\n",
              "    </tr>\n",
              "    <tr>\n",
              "      <th>162</th>\n",
              "      <td>NaN</td>\n",
              "      <td>Cape Verde</td>\n",
              "      <td>15.1111</td>\n",
              "      <td>-23.6167</td>\n",
              "      <td>0</td>\n",
              "      <td>0</td>\n",
              "      <td>0</td>\n",
              "      <td>0</td>\n",
              "      <td>0</td>\n",
              "      <td>0</td>\n",
              "      <td>0</td>\n",
              "      <td>0</td>\n",
              "      <td>0</td>\n",
              "      <td>0</td>\n",
              "      <td>0</td>\n",
              "      <td>0</td>\n",
              "      <td>0</td>\n",
              "      <td>0</td>\n",
              "      <td>0</td>\n",
              "      <td>0</td>\n",
              "      <td>0</td>\n",
              "      <td>0</td>\n",
              "      <td>0</td>\n",
              "      <td>0</td>\n",
              "      <td>0</td>\n",
              "      <td>0</td>\n",
              "      <td>0</td>\n",
              "      <td>0</td>\n",
              "      <td>0</td>\n",
              "      <td>0</td>\n",
              "      <td>0</td>\n",
              "      <td>0</td>\n",
              "      <td>0</td>\n",
              "      <td>0</td>\n",
              "      <td>0</td>\n",
              "      <td>0</td>\n",
              "      <td>0</td>\n",
              "      <td>0</td>\n",
              "      <td>0</td>\n",
              "      <td>0</td>\n",
              "      <td>0</td>\n",
              "      <td>0</td>\n",
              "      <td>0</td>\n",
              "      <td>0</td>\n",
              "      <td>0</td>\n",
              "      <td>0</td>\n",
              "      <td>0</td>\n",
              "      <td>0</td>\n",
              "      <td>0</td>\n",
              "      <td>0</td>\n",
              "      <td>0</td>\n",
              "      <td>0</td>\n",
              "      <td>0</td>\n",
              "      <td>0</td>\n",
              "      <td>0</td>\n",
              "      <td>0</td>\n",
              "      <td>0</td>\n",
              "      <td>0</td>\n",
              "      <td>0</td>\n",
              "      <td>0</td>\n",
              "      <td>0</td>\n",
              "      <td>0</td>\n",
              "      <td>0</td>\n",
              "      <td>0</td>\n",
              "    </tr>\n",
              "    <tr>\n",
              "      <th>163</th>\n",
              "      <td>NaN</td>\n",
              "      <td>East Timor</td>\n",
              "      <td>-8.5500</td>\n",
              "      <td>125.5600</td>\n",
              "      <td>0</td>\n",
              "      <td>0</td>\n",
              "      <td>0</td>\n",
              "      <td>0</td>\n",
              "      <td>0</td>\n",
              "      <td>0</td>\n",
              "      <td>0</td>\n",
              "      <td>0</td>\n",
              "      <td>0</td>\n",
              "      <td>0</td>\n",
              "      <td>0</td>\n",
              "      <td>0</td>\n",
              "      <td>0</td>\n",
              "      <td>0</td>\n",
              "      <td>0</td>\n",
              "      <td>0</td>\n",
              "      <td>0</td>\n",
              "      <td>0</td>\n",
              "      <td>0</td>\n",
              "      <td>0</td>\n",
              "      <td>0</td>\n",
              "      <td>0</td>\n",
              "      <td>0</td>\n",
              "      <td>0</td>\n",
              "      <td>0</td>\n",
              "      <td>0</td>\n",
              "      <td>0</td>\n",
              "      <td>0</td>\n",
              "      <td>0</td>\n",
              "      <td>0</td>\n",
              "      <td>0</td>\n",
              "      <td>0</td>\n",
              "      <td>0</td>\n",
              "      <td>0</td>\n",
              "      <td>0</td>\n",
              "      <td>0</td>\n",
              "      <td>0</td>\n",
              "      <td>0</td>\n",
              "      <td>0</td>\n",
              "      <td>0</td>\n",
              "      <td>0</td>\n",
              "      <td>0</td>\n",
              "      <td>0</td>\n",
              "      <td>0</td>\n",
              "      <td>0</td>\n",
              "      <td>0</td>\n",
              "      <td>0</td>\n",
              "      <td>0</td>\n",
              "      <td>0</td>\n",
              "      <td>0</td>\n",
              "      <td>0</td>\n",
              "      <td>0</td>\n",
              "      <td>0</td>\n",
              "      <td>0</td>\n",
              "      <td>0</td>\n",
              "      <td>0</td>\n",
              "      <td>0</td>\n",
              "      <td>0</td>\n",
              "      <td>0</td>\n",
              "      <td>0</td>\n",
              "    </tr>\n",
              "    <tr>\n",
              "      <th>164</th>\n",
              "      <td>NaN</td>\n",
              "      <td>Eritrea</td>\n",
              "      <td>15.1794</td>\n",
              "      <td>39.7823</td>\n",
              "      <td>0</td>\n",
              "      <td>0</td>\n",
              "      <td>0</td>\n",
              "      <td>0</td>\n",
              "      <td>0</td>\n",
              "      <td>0</td>\n",
              "      <td>0</td>\n",
              "      <td>0</td>\n",
              "      <td>0</td>\n",
              "      <td>0</td>\n",
              "      <td>0</td>\n",
              "      <td>0</td>\n",
              "      <td>0</td>\n",
              "      <td>0</td>\n",
              "      <td>0</td>\n",
              "      <td>0</td>\n",
              "      <td>0</td>\n",
              "      <td>0</td>\n",
              "      <td>0</td>\n",
              "      <td>0</td>\n",
              "      <td>0</td>\n",
              "      <td>0</td>\n",
              "      <td>0</td>\n",
              "      <td>0</td>\n",
              "      <td>0</td>\n",
              "      <td>0</td>\n",
              "      <td>0</td>\n",
              "      <td>0</td>\n",
              "      <td>0</td>\n",
              "      <td>0</td>\n",
              "      <td>0</td>\n",
              "      <td>0</td>\n",
              "      <td>0</td>\n",
              "      <td>0</td>\n",
              "      <td>0</td>\n",
              "      <td>0</td>\n",
              "      <td>0</td>\n",
              "      <td>0</td>\n",
              "      <td>0</td>\n",
              "      <td>0</td>\n",
              "      <td>0</td>\n",
              "      <td>0</td>\n",
              "      <td>0</td>\n",
              "      <td>0</td>\n",
              "      <td>0</td>\n",
              "      <td>0</td>\n",
              "      <td>0</td>\n",
              "      <td>0</td>\n",
              "      <td>0</td>\n",
              "      <td>0</td>\n",
              "      <td>0</td>\n",
              "      <td>0</td>\n",
              "      <td>0</td>\n",
              "      <td>0</td>\n",
              "      <td>0</td>\n",
              "      <td>0</td>\n",
              "      <td>0</td>\n",
              "      <td>0</td>\n",
              "      <td>0</td>\n",
              "      <td>0</td>\n",
              "    </tr>\n",
              "    <tr>\n",
              "      <th>165</th>\n",
              "      <td>NaN</td>\n",
              "      <td>Uganda</td>\n",
              "      <td>1.0000</td>\n",
              "      <td>32.0000</td>\n",
              "      <td>0</td>\n",
              "      <td>0</td>\n",
              "      <td>0</td>\n",
              "      <td>0</td>\n",
              "      <td>0</td>\n",
              "      <td>0</td>\n",
              "      <td>0</td>\n",
              "      <td>0</td>\n",
              "      <td>0</td>\n",
              "      <td>0</td>\n",
              "      <td>0</td>\n",
              "      <td>0</td>\n",
              "      <td>0</td>\n",
              "      <td>0</td>\n",
              "      <td>0</td>\n",
              "      <td>0</td>\n",
              "      <td>0</td>\n",
              "      <td>0</td>\n",
              "      <td>0</td>\n",
              "      <td>0</td>\n",
              "      <td>0</td>\n",
              "      <td>0</td>\n",
              "      <td>0</td>\n",
              "      <td>0</td>\n",
              "      <td>0</td>\n",
              "      <td>0</td>\n",
              "      <td>0</td>\n",
              "      <td>0</td>\n",
              "      <td>0</td>\n",
              "      <td>0</td>\n",
              "      <td>0</td>\n",
              "      <td>0</td>\n",
              "      <td>0</td>\n",
              "      <td>0</td>\n",
              "      <td>0</td>\n",
              "      <td>0</td>\n",
              "      <td>0</td>\n",
              "      <td>0</td>\n",
              "      <td>0</td>\n",
              "      <td>0</td>\n",
              "      <td>0</td>\n",
              "      <td>0</td>\n",
              "      <td>0</td>\n",
              "      <td>0</td>\n",
              "      <td>0</td>\n",
              "      <td>0</td>\n",
              "      <td>0</td>\n",
              "      <td>0</td>\n",
              "      <td>0</td>\n",
              "      <td>0</td>\n",
              "      <td>0</td>\n",
              "      <td>0</td>\n",
              "      <td>0</td>\n",
              "      <td>0</td>\n",
              "      <td>0</td>\n",
              "      <td>0</td>\n",
              "      <td>0</td>\n",
              "      <td>0</td>\n",
              "      <td>0</td>\n",
              "      <td>0</td>\n",
              "    </tr>\n",
              "    <tr>\n",
              "      <th>166</th>\n",
              "      <td>Hong Kong</td>\n",
              "      <td>Hong Kong</td>\n",
              "      <td>22.3000</td>\n",
              "      <td>114.2000</td>\n",
              "      <td>0</td>\n",
              "      <td>0</td>\n",
              "      <td>0</td>\n",
              "      <td>0</td>\n",
              "      <td>0</td>\n",
              "      <td>0</td>\n",
              "      <td>0</td>\n",
              "      <td>0</td>\n",
              "      <td>0</td>\n",
              "      <td>0</td>\n",
              "      <td>0</td>\n",
              "      <td>0</td>\n",
              "      <td>0</td>\n",
              "      <td>1</td>\n",
              "      <td>1</td>\n",
              "      <td>1</td>\n",
              "      <td>1</td>\n",
              "      <td>1</td>\n",
              "      <td>1</td>\n",
              "      <td>1</td>\n",
              "      <td>1</td>\n",
              "      <td>1</td>\n",
              "      <td>1</td>\n",
              "      <td>1</td>\n",
              "      <td>1</td>\n",
              "      <td>1</td>\n",
              "      <td>1</td>\n",
              "      <td>1</td>\n",
              "      <td>2</td>\n",
              "      <td>2</td>\n",
              "      <td>2</td>\n",
              "      <td>2</td>\n",
              "      <td>2</td>\n",
              "      <td>2</td>\n",
              "      <td>2</td>\n",
              "      <td>2</td>\n",
              "      <td>2</td>\n",
              "      <td>2</td>\n",
              "      <td>2</td>\n",
              "      <td>2</td>\n",
              "      <td>2</td>\n",
              "      <td>2</td>\n",
              "      <td>2</td>\n",
              "      <td>2</td>\n",
              "      <td>2</td>\n",
              "      <td>2</td>\n",
              "      <td>3</td>\n",
              "      <td>3</td>\n",
              "      <td>3</td>\n",
              "      <td>3</td>\n",
              "      <td>3</td>\n",
              "      <td>4</td>\n",
              "      <td>4</td>\n",
              "      <td>4</td>\n",
              "      <td>4</td>\n",
              "      <td>4</td>\n",
              "      <td>4</td>\n",
              "      <td>4</td>\n",
              "      <td>4</td>\n",
              "      <td>4</td>\n",
              "    </tr>\n",
              "  </tbody>\n",
              "</table>\n",
              "<p>167 rows × 64 columns</p>\n",
              "</div>"
            ],
            "text/plain": [
              "    Province/State Country/Region      Lat  ...  3/19/20  3/20/20  3/21/20\n",
              "0              NaN       Thailand  15.0000  ...        1        1        1\n",
              "1              NaN          Japan  36.0000  ...       29       33       35\n",
              "2              NaN      Singapore   1.2833  ...        0        0        2\n",
              "3              NaN          Nepal  28.1667  ...        0        0        0\n",
              "4              NaN       Malaysia   2.5000  ...        2        3        4\n",
              "..             ...            ...      ...  ...      ...      ...      ...\n",
              "162            NaN     Cape Verde  15.1111  ...        0        0        0\n",
              "163            NaN     East Timor  -8.5500  ...        0        0        0\n",
              "164            NaN        Eritrea  15.1794  ...        0        0        0\n",
              "165            NaN         Uganda   1.0000  ...        0        0        0\n",
              "166      Hong Kong      Hong Kong  22.3000  ...        4        4        4\n",
              "\n",
              "[167 rows x 64 columns]"
            ]
          },
          "metadata": {
            "tags": []
          },
          "execution_count": 37
        }
      ]
    },
    {
      "cell_type": "markdown",
      "metadata": {
        "id": "8PJ5bGjxSegf",
        "colab_type": "text"
      },
      "source": [
        "## Make a list from infections rows"
      ]
    },
    {
      "cell_type": "code",
      "metadata": {
        "id": "LP6kSUL4Segg",
        "colab_type": "code",
        "outputId": "836adf2e-ae6f-48f3-e75f-e82f4a28e7f0",
        "colab": {
          "base_uri": "https://localhost:8080/",
          "height": 185
        }
      },
      "source": [
        "d=[ c for c in cv.columns if re.search(r'^[0-9]{1,2}\\/[0-9]{1,2}\\/[1920]{2}',c)]\n",
        "\n",
        "#https://www.tutorialspoint.com/How-to-sort-a-Python-date-string-list\n",
        "#updeted date\n",
        "cv['tolist']=cv[d].values.tolist()\n",
        "dd=[ c for c in cvd.columns if re.search(r'^[0-9]{1,2}\\/[0-9]{1,2}\\/[1920]{2}',c)]\n",
        "cvd['tolist']=cvd[dd].values.tolist()\n",
        "dr=[ c for c in cvr.columns if re.search(r'^[0-9]{1,2}\\/[0-9]{1,2}\\/[1920]{2}',c)]\n",
        "cvr['tolist']=cvr[dd].values.tolist()\n",
        "\n",
        "\n",
        "d.sort(key=lambda date: datetime.datetime.strptime(date, \"%m/%d/%y\"))\n",
        "\n",
        "cv[:1]"
      ],
      "execution_count": 38,
      "outputs": [
        {
          "output_type": "execute_result",
          "data": {
            "text/html": [
              "<div>\n",
              "<style scoped>\n",
              "    .dataframe tbody tr th:only-of-type {\n",
              "        vertical-align: middle;\n",
              "    }\n",
              "\n",
              "    .dataframe tbody tr th {\n",
              "        vertical-align: top;\n",
              "    }\n",
              "\n",
              "    .dataframe thead th {\n",
              "        text-align: right;\n",
              "    }\n",
              "</style>\n",
              "<table border=\"1\" class=\"dataframe\">\n",
              "  <thead>\n",
              "    <tr style=\"text-align: right;\">\n",
              "      <th></th>\n",
              "      <th>Province/State</th>\n",
              "      <th>Country/Region</th>\n",
              "      <th>Lat</th>\n",
              "      <th>Long</th>\n",
              "      <th>1/22/20</th>\n",
              "      <th>1/23/20</th>\n",
              "      <th>1/24/20</th>\n",
              "      <th>1/25/20</th>\n",
              "      <th>1/26/20</th>\n",
              "      <th>1/27/20</th>\n",
              "      <th>1/28/20</th>\n",
              "      <th>1/29/20</th>\n",
              "      <th>1/30/20</th>\n",
              "      <th>1/31/20</th>\n",
              "      <th>2/1/20</th>\n",
              "      <th>2/2/20</th>\n",
              "      <th>2/3/20</th>\n",
              "      <th>2/4/20</th>\n",
              "      <th>2/5/20</th>\n",
              "      <th>2/6/20</th>\n",
              "      <th>2/7/20</th>\n",
              "      <th>2/8/20</th>\n",
              "      <th>2/9/20</th>\n",
              "      <th>2/10/20</th>\n",
              "      <th>2/11/20</th>\n",
              "      <th>2/12/20</th>\n",
              "      <th>2/13/20</th>\n",
              "      <th>2/14/20</th>\n",
              "      <th>2/15/20</th>\n",
              "      <th>2/16/20</th>\n",
              "      <th>2/17/20</th>\n",
              "      <th>2/18/20</th>\n",
              "      <th>2/19/20</th>\n",
              "      <th>2/20/20</th>\n",
              "      <th>2/21/20</th>\n",
              "      <th>2/22/20</th>\n",
              "      <th>2/23/20</th>\n",
              "      <th>2/24/20</th>\n",
              "      <th>2/25/20</th>\n",
              "      <th>2/26/20</th>\n",
              "      <th>2/27/20</th>\n",
              "      <th>2/28/20</th>\n",
              "      <th>2/29/20</th>\n",
              "      <th>3/1/20</th>\n",
              "      <th>3/2/20</th>\n",
              "      <th>3/3/20</th>\n",
              "      <th>3/4/20</th>\n",
              "      <th>3/5/20</th>\n",
              "      <th>3/6/20</th>\n",
              "      <th>3/7/20</th>\n",
              "      <th>3/8/20</th>\n",
              "      <th>3/9/20</th>\n",
              "      <th>3/10/20</th>\n",
              "      <th>3/11/20</th>\n",
              "      <th>3/12/20</th>\n",
              "      <th>3/13/20</th>\n",
              "      <th>3/14/20</th>\n",
              "      <th>3/15/20</th>\n",
              "      <th>3/16/20</th>\n",
              "      <th>3/17/20</th>\n",
              "      <th>3/18/20</th>\n",
              "      <th>3/19/20</th>\n",
              "      <th>3/20/20</th>\n",
              "      <th>3/21/20</th>\n",
              "      <th>tolist</th>\n",
              "    </tr>\n",
              "  </thead>\n",
              "  <tbody>\n",
              "    <tr>\n",
              "      <th>0</th>\n",
              "      <td>NaN</td>\n",
              "      <td>Thailand</td>\n",
              "      <td>15.0</td>\n",
              "      <td>101.0</td>\n",
              "      <td>2</td>\n",
              "      <td>3</td>\n",
              "      <td>5</td>\n",
              "      <td>7</td>\n",
              "      <td>8</td>\n",
              "      <td>8</td>\n",
              "      <td>14</td>\n",
              "      <td>14</td>\n",
              "      <td>14</td>\n",
              "      <td>19</td>\n",
              "      <td>19</td>\n",
              "      <td>19</td>\n",
              "      <td>19</td>\n",
              "      <td>25</td>\n",
              "      <td>25</td>\n",
              "      <td>25</td>\n",
              "      <td>25</td>\n",
              "      <td>32</td>\n",
              "      <td>32</td>\n",
              "      <td>32</td>\n",
              "      <td>33</td>\n",
              "      <td>33</td>\n",
              "      <td>33</td>\n",
              "      <td>33</td>\n",
              "      <td>33</td>\n",
              "      <td>34</td>\n",
              "      <td>35</td>\n",
              "      <td>35</td>\n",
              "      <td>35</td>\n",
              "      <td>35</td>\n",
              "      <td>35</td>\n",
              "      <td>35</td>\n",
              "      <td>35</td>\n",
              "      <td>35</td>\n",
              "      <td>37</td>\n",
              "      <td>40</td>\n",
              "      <td>40</td>\n",
              "      <td>41</td>\n",
              "      <td>42</td>\n",
              "      <td>42</td>\n",
              "      <td>43</td>\n",
              "      <td>43</td>\n",
              "      <td>43</td>\n",
              "      <td>47</td>\n",
              "      <td>48</td>\n",
              "      <td>50</td>\n",
              "      <td>50</td>\n",
              "      <td>50</td>\n",
              "      <td>53</td>\n",
              "      <td>59</td>\n",
              "      <td>70</td>\n",
              "      <td>75</td>\n",
              "      <td>82</td>\n",
              "      <td>114</td>\n",
              "      <td>147</td>\n",
              "      <td>177</td>\n",
              "      <td>212</td>\n",
              "      <td>272</td>\n",
              "      <td>322</td>\n",
              "      <td>411</td>\n",
              "      <td>[2, 3, 5, 7, 8, 8, 14, 14, 14, 19, 19, 19, 19,...</td>\n",
              "    </tr>\n",
              "  </tbody>\n",
              "</table>\n",
              "</div>"
            ],
            "text/plain": [
              "  Province/State  ...                                             tolist\n",
              "0            NaN  ...  [2, 3, 5, 7, 8, 8, 14, 14, 14, 19, 19, 19, 19,...\n",
              "\n",
              "[1 rows x 65 columns]"
            ]
          },
          "metadata": {
            "tags": []
          },
          "execution_count": 38
        }
      ]
    },
    {
      "cell_type": "code",
      "metadata": {
        "id": "EIsLe1SJPssU",
        "colab_type": "code",
        "outputId": "341d70cf-1194-4163-c081-8dcdb25629b7",
        "colab": {
          "base_uri": "https://localhost:8080/",
          "height": 34
        }
      },
      "source": [
        "dmax=d[-1]\n",
        "dmax"
      ],
      "execution_count": 39,
      "outputs": [
        {
          "output_type": "execute_result",
          "data": {
            "text/plain": [
              "'3/21/20'"
            ]
          },
          "metadata": {
            "tags": []
          },
          "execution_count": 39
        }
      ]
    },
    {
      "cell_type": "markdown",
      "metadata": {
        "id": "3rfsqI4BSegj",
        "colab_type": "text"
      },
      "source": [
        "## Reproduce \"El País\" plot\n",
        "Set of minimal number of infections to catch up the exponential growth: `mininf=50`"
      ]
    },
    {
      "cell_type": "code",
      "metadata": {
        "id": "6nPGIAOhSegk",
        "colab_type": "code",
        "outputId": "2db5e6f3-5839-4cde-e621-6649962d3354",
        "colab": {
          "base_uri": "https://localhost:8080/",
          "height": 312
        }
      },
      "source": [
        "cntr=['Spain','Italy','France','United Kingdom','Korea, South','Germany']\n",
        "\n",
        "mininf=50\n",
        "for c in cntr:\n",
        "    idxs=cv[ cv['Country/Region']== c ].index\n",
        "    if len(idxs)==1:\n",
        "        idx=idxs[0]\n",
        "    else:\n",
        "        print('Several Province/State')\n",
        "        \n",
        "    y=[l for l in cv.loc[idx,'tolist'] if l>mininf]\n",
        "    ylen=len(y)\n",
        "    x=range( 1,ylen+1 )\n",
        "    #plt.semilogy(x,y,label='{}'.format(c))\n",
        "    plt.plot(x,y,label='{}'.format(c))\n",
        "    \n",
        "plt.legend(loc='best')\n",
        "plt.xscale('linear')\n",
        "plt.yscale('log')\n",
        "plt.title('infections > {}'.format(mininf))\n",
        "plt.xlabel('days')\n",
        "plt.ylabel('infections')\n",
        "#plt.xlim(1,10)\n",
        "#plt.ylim(1,200)\n",
        "#plt.savefig('elpais_recover_2020_03_16.png')"
      ],
      "execution_count": 40,
      "outputs": [
        {
          "output_type": "execute_result",
          "data": {
            "text/plain": [
              "Text(0, 0.5, 'infections')"
            ]
          },
          "metadata": {
            "tags": []
          },
          "execution_count": 40
        },
        {
          "output_type": "display_data",
          "data": {
            "image/png": "[encoded data removed]",
            "text/plain": [
              "<Figure size 432x288 with 1 Axes>"
            ]
          },
          "metadata": {
            "tags": []
          }
        }
      ]
    },
    {
      "cell_type": "markdown",
      "metadata": {
        "id": "BFMQs92rseOD",
        "colab_type": "text"
      },
      "source": [
        "### From [Donde estará el pico...](https://sistemaencrisis.es/2020/03/20/covid-19-donde-estara-el-pico-de-decesos-estableciendo-una-cota-inferior-en-base-a-la-curva-china/)"
      ]
    },
    {
      "cell_type": "code",
      "metadata": {
        "id": "t93jkGK2qWBm",
        "colab_type": "code",
        "colab": {
          "base_uri": "https://localhost:8080/",
          "height": 295
        },
        "outputId": "25d6b437-24ee-46ff-db6d-e8c87ee41eed"
      },
      "source": [
        "cntr=['China','Korea, South','Italy','Spain','Iran','United Kingdom','US','France']\n",
        "\n",
        "deaths=50\n",
        "for c in cntr:\n",
        "    idxs=cvd[ cvd['Country/Region']== c ].index\n",
        "    if len(idxs)==1:\n",
        "        idx=idxs[0]\n",
        "    else:\n",
        "        print('Several Province/State')\n",
        "        \n",
        "    y=[l for l in cvd.loc[idx,'tolist'] if l>deaths]\n",
        "    ylen=len(y)\n",
        "    x=range( 1,ylen+1 )\n",
        "    #plt.semilogy(x,y,label='{}'.format(c))\n",
        "    plt.plot(x,y,label='{}'.format(c))\n",
        "    \n",
        "plt.legend(loc='best')\n",
        "plt.xscale('linear')\n",
        "plt.yscale('log')\n",
        "plt.title('infections > {}'.format(mininf))\n",
        "plt.xlabel('Days from first deaths')\n",
        "plt.ylabel('Deaths')\n",
        "plt.grid()\n",
        "#plt.xlim(1,10)\n",
        "#plt.ylim(1,200)\n",
        "#plt.savefig('elpais_recover_2020_03_16.png')"
      ],
      "execution_count": 41,
      "outputs": [
        {
          "output_type": "display_data",
          "data": {
            "image/png": "[encoded data removed]",
            "text/plain": [
              "<Figure size 432x288 with 1 Axes>"
            ]
          },
          "metadata": {
            "tags": []
          }
        }
      ]
    },
    {
      "cell_type": "code",
      "metadata": {
        "id": "vsTeUg75srhX",
        "colab_type": "code",
        "colab": {
          "base_uri": "https://localhost:8080/",
          "height": 295
        },
        "outputId": "61c86967-de13-40e4-f9d9-fe1d00b50a45"
      },
      "source": [
        "cntr=['China','Korea, South','Italy','Spain','Iran','United Kingdom','US','France']\n",
        "\n",
        "deaths=50\n",
        "for c in cntr:\n",
        "    idxs=cvr[ cvr['Country/Region']== c ].index\n",
        "    if len(idxs)==1:\n",
        "        idx=idxs[0]\n",
        "    else:\n",
        "        print('Several Province/State')\n",
        "        \n",
        "    y=[l for l in cvr.loc[idx,'tolist'] if l>deaths]\n",
        "    ylen=len(y)\n",
        "    x=range( 1,ylen+1 )\n",
        "    #plt.semilogy(x,y,label='{}'.format(c))\n",
        "    plt.plot(x,y,label='{}'.format(c))\n",
        "    \n",
        "plt.legend(loc='best')\n",
        "plt.xscale('linear')\n",
        "plt.yscale('log')\n",
        "plt.title('infections > {}'.format(mininf))\n",
        "plt.xlabel('Days from first deaths')\n",
        "plt.ylabel('Deaths')\n",
        "plt.grid()\n",
        "#plt.xlim(1,10)\n",
        "#plt.ylim(1,200)\n",
        "#plt.savefig('elpais_recover_2020_03_16.png')"
      ],
      "execution_count": 42,
      "outputs": [
        {
          "output_type": "display_data",
          "data": {
            "image/png": "[encoded data removed]",
            "text/plain": [
              "<Figure size 432x288 with 1 Axes>"
            ]
          },
          "metadata": {
            "tags": []
          }
        }
      ]
    },
    {
      "cell_type": "markdown",
      "metadata": {
        "id": "XvJ210bISegm",
        "colab_type": "text"
      },
      "source": [
        "## Make similar plots for all the countries"
      ]
    },
    {
      "cell_type": "code",
      "metadata": {
        "id": "ZuNiCv07Segn",
        "colab_type": "code",
        "outputId": "9d673a48-1fc1-4613-8a57-29c58c322aa7",
        "colab": {
          "base_uri": "https://localhost:8080/",
          "height": 466
        }
      },
      "source": [
        "print('Country','Lat')\n",
        "print('-'*20)\n",
        "cntr=cv['Country/Region'].values\n",
        "low_countries=[]\n",
        "mininf=50\n",
        "days_after=13\n",
        "maxinf=300\n",
        "for c in cntr:\n",
        "    idxs=cv[ cv['Country/Region']== c ].index\n",
        "    #Avoid multi_contry entries\n",
        "    if len(idxs)==1:\n",
        "        idx=idxs[0]\n",
        "    else:\n",
        "        pass\n",
        "        #print('Several Province/State')\n",
        "        \n",
        "    y=[l for l in cv.loc[idx,'tolist'] if l>mininf]\n",
        "    ylen=len(y)\n",
        "    x=range( 1,ylen+1 )\n",
        "    if len(x)>days_after and y[days_after]<maxinf:\n",
        "        low_countries.append(c)\n",
        "        print(c,cv.loc[idx,'Lat'])\n",
        "    if c in ['Spain','Italy','France','Norway','Korea, South','Germany']:\n",
        "        plt.plot(x,y,label='{}'.format(c))\n",
        "    elif c in low_countries:\n",
        "        plt.plot(x,y,'--',label='{}'.format(c))\n",
        "    else:\n",
        "        plt.plot(x,y,':')\n",
        "\n",
        "print('-'*20)\n",
        "plt.legend(loc='best')\n",
        "plt.xscale('linear')\n",
        "plt.yscale('log')\n",
        "plt.title('infections > {}'.format(mininf))\n",
        "plt.xlabel('days')\n",
        "plt.ylabel('infections')\n",
        "#plt.xlim(10,20)\n",
        "plt.ylim(mininf-10,30000)"
      ],
      "execution_count": 0,
      "outputs": [
        {
          "output_type": "stream",
          "text": [
            "Country Lat\n",
            "--------------------\n",
            "Japan 36.0\n",
            "Singapore 1.2833\n",
            "Iraq 33.0\n",
            "Bahrain 26.0275\n",
            "Kuwait 29.5\n",
            "Hong Kong 22.3\n",
            "--------------------\n"
          ],
          "name": "stdout"
        },
        {
          "output_type": "execute_result",
          "data": {
            "text/plain": [
              "(40, 30000)"
            ]
          },
          "metadata": {
            "tags": []
          },
          "execution_count": 9
        },
        {
          "output_type": "display_data",
          "data": {
            "image/png": "[encoded data removed]",
            "text/plain": [
              "<Figure size 432x288 with 1 Axes>"
            ]
          },
          "metadata": {
            "tags": []
          }
        }
      ]
    },
    {
      "cell_type": "markdown",
      "metadata": {
        "id": "zvzMhoRgd69V",
        "colab_type": "text"
      },
      "source": [
        "## Slow-exponential-growth countries"
      ]
    },
    {
      "cell_type": "code",
      "metadata": {
        "id": "KdTCPiZsZQfR",
        "colab_type": "code",
        "outputId": "9db759d7-c1bc-4ae0-f672-96f200701c22",
        "colab": {
          "base_uri": "https://localhost:8080/",
          "height": 534
        }
      },
      "source": [
        "print('Country','Lat')\n",
        "print('-'*20)\n",
        "cntr=cv['Country/Region'].values\n",
        "low_countries=[]\n",
        "mininf=10\n",
        "days_after=35\n",
        "maxinf=400\n",
        "for c in cntr:\n",
        "    idxs=cv[ cv['Country/Region']== c ].index\n",
        "    #Avoid multi_contry entries\n",
        "    if len(idxs)==1:\n",
        "        idx=idxs[0]\n",
        "    else:\n",
        "        pass\n",
        "        #print('Several Province/State')\n",
        "        \n",
        "    y=[l for l in cv.loc[idx,'tolist'] if l>mininf]\n",
        "    ylen=len(y)\n",
        "    x=range( 1,ylen+1 )\n",
        "    if len(x)>days_after and y[days_after]<maxinf:\n",
        "        low_countries.append(c)\n",
        "        print(c,cv.loc[idx,'Lat'])\n",
        "    if c in ['Ecuador','Colombia']:\n",
        "        plt.plot(x,y,label='{}'.format(c),lw=5)\n",
        "    elif c in low_countries:\n",
        "        plt.plot(x,y,'--',label='{}'.format(c))\n",
        "    else:\n",
        "        plt.plot(x,y,':')\n",
        "\n",
        "print('-'*20)\n",
        "plt.legend(loc='upper right')\n",
        "plt.xscale('linear')\n",
        "plt.yscale('log')\n",
        "plt.title('infections > {}'.format(mininf))\n",
        "plt.xlabel('days')\n",
        "plt.ylabel('infections')\n",
        "plt.xlim(0,80)\n",
        "plt.ylim(mininf-10,7000)"
      ],
      "execution_count": 0,
      "outputs": [
        {
          "output_type": "stream",
          "text": [
            "Country Lat\n",
            "--------------------\n",
            "Thailand 15.0\n",
            "Japan 36.0\n",
            "Singapore 1.2833\n",
            "Malaysia 2.5\n",
            "Australia -24.503\n",
            "Taiwan* 23.7\n",
            "Vietnam 16.0\n",
            "Hong Kong 22.3\n",
            "--------------------\n"
          ],
          "name": "stdout"
        },
        {
          "output_type": "stream",
          "text": [
            "/usr/local/lib/python3.6/dist-packages/ipykernel_launcher.py:38: UserWarning: Attempted to set non-positive bottom ylim on a log-scaled axis.\n",
            "Invalid limit will be ignored.\n"
          ],
          "name": "stderr"
        },
        {
          "output_type": "execute_result",
          "data": {
            "text/plain": [
              "(7.046462595721836, 7000)"
            ]
          },
          "metadata": {
            "tags": []
          },
          "execution_count": 10
        },
        {
          "output_type": "display_data",
          "data": {
            "image/png": "[encoded data removed]",
            "text/plain": [
              "<Figure size 432x288 with 1 Axes>"
            ]
          },
          "metadata": {
            "tags": []
          }
        }
      ]
    },
    {
      "cell_type": "markdown",
      "metadata": {
        "id": "3pzQW1-vSegq",
        "colab_type": "text"
      },
      "source": [
        "To check the reason why some contries may no exhibit an strong exponential growth, see [References](./covid.ipynb#References) at the end\n"
      ]
    },
    {
      "cell_type": "markdown",
      "metadata": {
        "id": "VsecvPxEWqMX",
        "colab_type": "text"
      },
      "source": [
        "## Latin America"
      ]
    },
    {
      "cell_type": "code",
      "metadata": {
        "id": "UZPbiaAqWxZs",
        "colab_type": "code",
        "outputId": "33a21dad-2ba1-42de-c964-261a3caa3023",
        "colab": {
          "base_uri": "https://localhost:8080/",
          "height": 312
        }
      },
      "source": [
        "cntr=['Spain','Colombia','Brazil','Peru','Ecuador', 'Chile','Argentina']\n",
        "\n",
        "mininf=10\n",
        "for c in cntr:\n",
        "    idxs=cv[ cv['Country/Region']== c ].index\n",
        "    if len(idxs)==1:\n",
        "        idx=idxs[0]\n",
        "    else:\n",
        "        print('Several Province/State')\n",
        "        \n",
        "    y=[l for l in cv.loc[idx,'tolist'] if l>mininf]\n",
        "    ylen=len(y)\n",
        "    x=range( 1,ylen+1 )\n",
        "    #plt.semilogy(x,y,label='{}'.format(c))\n",
        "    plt.plot(x,y,label='{}'.format(c))\n",
        "    \n",
        "plt.legend(loc='best')\n",
        "plt.xscale('linear')\n",
        "plt.yscale('log')\n",
        "plt.title('infections > {}'.format(mininf))\n",
        "plt.xlabel('days')\n",
        "plt.ylabel('infections')\n",
        "#plt.xlim(1,12)\n",
        "#plt.ylim(1,200)\n",
        "#plt.savefig('elpais_recover_2020_03_16.png')"
      ],
      "execution_count": 0,
      "outputs": [
        {
          "output_type": "execute_result",
          "data": {
            "text/plain": [
              "Text(0, 0.5, 'infections')"
            ]
          },
          "metadata": {
            "tags": []
          },
          "execution_count": 11
        },
        {
          "output_type": "display_data",
          "data": {
            "image/png": "[encoded data removed]",
            "text/plain": [
              "<Figure size 432x288 with 1 Axes>"
            ]
          },
          "metadata": {
            "tags": []
          }
        }
      ]
    },
    {
      "cell_type": "markdown",
      "metadata": {
        "id": "n0oKGDTursX1",
        "colab_type": "text"
      },
      "source": [
        "## Fit to exponential model\n",
        "See: Jupyter Notebook `covid19_analysis.ipynb`: [[local](./covid19.ipynb)] [[GitHub](https://github.com/restrepo/Covid-19/blob/master/covid.ipynb)] [[Colab](https://colab.research.google.com/github/restrepo/Covid-19/blob/master/covid.ipynb)] "
      ]
    },
    {
      "cell_type": "markdown",
      "metadata": {
        "id": "QkE6D7s7zWpy",
        "colab_type": "text"
      },
      "source": [
        "## Other models\n",
        "* Fractal kinetics of COVID-19 pandemic, Anna L. Ziff, Robert M. Ziff\n",
        "medRxiv 2020.02.16.20023820; doi: https://doi.org/10.1101/2020.02.16.20023820\n",
        "    * (https://www.zdnet.com/article/graph-theory-suggests-covid-19-might-be-a-small-world-after-all/)\n",
        "> Rather, the authors observed a period of initial exponential growth, followed by what's called a \"power law,\" which is not the same thing.\n",
        "* A mathematical model for the novel coronavirus epidemic in Wuhan, Chayu Yang, Jin Wang, Mathematical Biosciences and Engineering, 2020, 17(3): 2708-2724. doi: [10.3934/mbe.2020148](http://dx.doi.org/10.3934/mbe.2020148).\n",
        "    * [SIR Model](https://es.wikipedia.org/wiki/Modelo_SIR)\n",
        "\n",
        "* [Data minning](https://sistemaencrisis.es/2020/03/20/covid-19-donde-estara-el-pico-de-decesos-estableciendo-una-cota-inferior-en-base-a-la-curva-china/)"
      ]
    },
    {
      "cell_type": "markdown",
      "metadata": {
        "id": "HmpYZmuTloZ-",
        "colab_type": "text"
      },
      "source": [
        "## References\n",
        "About meteorological conditions for Covid-19\n",
        "\n",
        "* Sajadi, Mohammad M. and Habibzadeh, Parham and Vintzileos, Augustin and Shokouhi, Shervin and Miralles-Wilhelm, Fernando and Amoroso, Anthony, Temperature and Latitude Analysis to Predict Potential Spread and Seasonality for COVID-19 (March 5, 2020). Available at SSRN: https://ssrn.com/abstract=3550308 or http://dx.doi.org/10.2139/ssrn.3550308\n",
        "    * [El coronavirus en tierra caliente: ¿igual, peor o menos grave?](https://www.elespectador.com/coronavirus/el-coronavirus-en-tierra-caliente-igual-peor-o-menos-grave-articulo-909335)\n",
        "\n",
        "* Wang, Jingyuan and Tang, Ke and Feng, Kai and Lv, Weifeng, High Temperature and High Humidity Reduce the Transmission of COVID-19 (March 9, 2020). Available at SSRN: https://ssrn.com/abstract=3551767 or http://dx.doi.org/10.2139/ssrn.3551767 \n",
        "> $R = 3.968 - 0.0383\\cdot \\text{Temperature} - 0.0224\\cdot \\text{Relative Humidity}$\n",
        "    * [Twitter thread](https://twitter.com/zuluagajorge/status/1239925580038049793)\n",
        "* [Singapore contained Coronavirus. Could other countries learn from its approach?](https://www.weforum.org/agenda/2020/03/singapore-response-contained-coronavirus-covid19-outbreak/)\n",
        "* [Will spring slow spread of coronavirus in northern hemisphere?](https://www.theguardian.com/world/2020/mar/11/will-spring-slow-spread-of-coronavirus-in-northern-hemisphere)\n",
        "* [Coronavirus: Why You Must Act Now](https://medium.com/@tomaspueyo/coronavirus-act-today-or-people-will-die-f4d3d9cd99ca)\n",
        "* [Es muy probable que el SARS-COV-2 se atenúe y vuelva cada invierno, como la gripe](https://www.elespectador.com/coronavirus/es-muy-probable-que-el-sars-cov-2-se-atenue-y-vuelva-cada-invierno-como-la-gripe-articulo-909696)\n",
        "> Las altas temperaturas son excelentes porque los coronavirus son muy sensibles al calor: cada día que pasan a 37 grados, pierden 10 veces su infectividad. Por tanto, en tres días calentitos se bajaría mil veces su capacidad de infección.\n",
        "* Jin Bu, Dong-Dong Peng, Hui Xiao, Qian Yue, Yan Han, Yu Lin, Gang Hu, Jing Chen, Analysis of meteorological conditions and prediction of epidemic trend of 2019-nCoV infection in 2020, medRxiv 2020.02.13.20022715; doi: https://doi.org/10.1101/2020.02.13.20022715\n",
        "> From a global perspective, cities with a mean temperature below 24 degree Celsius are all high-risk cities for 2019-nCoV transmission before June."
      ]
    },
    {
      "cell_type": "markdown",
      "metadata": {
        "id": "vy0Er744wr4M",
        "colab_type": "text"
      },
      "source": [
        "## Appendix"
      ]
    },
    {
      "cell_type": "code",
      "metadata": {
        "id": "ss6-00NTMcE3",
        "colab_type": "code",
        "colab": {}
      },
      "source": [
        "R=lambda T,H: 3.968 - 0.0383*T - 0.022*H"
      ],
      "execution_count": 0,
      "outputs": []
    },
    {
      "cell_type": "markdown",
      "metadata": {
        "id": "N0hH2KuMVqQX",
        "colab_type": "text"
      },
      "source": [
        "Global results in Fig. 4 (a) March (b) July in http://dx.doi.org/10.2139/ssrn.3551767"
      ]
    },
    {
      "cell_type": "code",
      "metadata": {
        "id": "AfBXiGisTAyr",
        "colab_type": "code",
        "outputId": "5957d890-128e-465b-88a0-0af0d7c3da96",
        "colab": {
          "base_uri": "https://localhost:8080/",
          "height": 34
        }
      },
      "source": [
        "# Japan - July from paper\n",
        "R(28,85)"
      ],
      "execution_count": 0,
      "outputs": [
        {
          "output_type": "execute_result",
          "data": {
            "text/plain": [
              "1.0256"
            ]
          },
          "metadata": {
            "tags": []
          },
          "execution_count": 13
        }
      ]
    },
    {
      "cell_type": "code",
      "metadata": {
        "id": "RTc9PU7nTHYR",
        "colab_type": "code",
        "outputId": "6c5c8e1b-729e-45ea-bf2a-6a8c6227e4d2",
        "colab": {
          "base_uri": "https://localhost:8080/",
          "height": 34
        }
      },
      "source": [
        "# Medellín - March from https://en.wikipedia.org/wiki/Medell%C3%ADn#Climate\n",
        "R(23,65)"
      ],
      "execution_count": 0,
      "outputs": [
        {
          "output_type": "execute_result",
          "data": {
            "text/plain": [
              "1.6571"
            ]
          },
          "metadata": {
            "tags": []
          },
          "execution_count": 14
        }
      ]
    },
    {
      "cell_type": "code",
      "metadata": {
        "id": "SwW8GmcdUakU",
        "colab_type": "code",
        "outputId": "e4b4bf60-1841-40da-ba93-fef1c24aea25",
        "colab": {
          "base_uri": "https://localhost:8080/",
          "height": 34
        }
      },
      "source": [
        "# Bogotá - March from https://en.wikipedia.org/wiki/Bogot%C3%A1#Climate\n",
        "R(15,75)"
      ],
      "execution_count": 0,
      "outputs": [
        {
          "output_type": "execute_result",
          "data": {
            "text/plain": [
              "1.7435"
            ]
          },
          "metadata": {
            "tags": []
          },
          "execution_count": 15
        }
      ]
    },
    {
      "cell_type": "markdown",
      "metadata": {
        "id": "TyEEXSF0IINp",
        "colab_type": "text"
      },
      "source": [
        "## Model\n",
        "See\n",
        "https://www.youtube.com/watch?v=Kas0tIxDvrg&feature=youtu.be&t=249\n",
        "\n",
        "$$N_d=(1+E p)^d N_0$$\n",
        "where $d$ is the number of days, and $N_0$ is the intial number of infections"
      ]
    },
    {
      "cell_type": "code",
      "metadata": {
        "id": "cKf-p7CWDqBv",
        "colab_type": "code",
        "colab": {}
      },
      "source": [
        "Ep=0.5\n",
        "xlen=6\n",
        "xx=list(range(1,xlen))\n",
        "yy=[y[4]]+[int((1+Ep)**d*y[4]) for d in xx[:-1]]"
      ],
      "execution_count": 0,
      "outputs": []
    },
    {
      "cell_type": "code",
      "metadata": {
        "id": "d4_F1nLPvt9D",
        "colab_type": "code",
        "outputId": "ff5839d3-170e-428c-fa4e-faeb56c1c1e5",
        "colab": {
          "base_uri": "https://localhost:8080/",
          "height": 34
        }
      },
      "source": [
        "xx"
      ],
      "execution_count": 0,
      "outputs": [
        {
          "output_type": "execute_result",
          "data": {
            "text/plain": [
              "[1, 2, 3, 4, 5]"
            ]
          },
          "metadata": {
            "tags": []
          },
          "execution_count": 17
        }
      ]
    },
    {
      "cell_type": "code",
      "metadata": {
        "id": "sZcbebeTga_T",
        "colab_type": "code",
        "colab": {}
      },
      "source": [
        "xini=xx[0]"
      ],
      "execution_count": 0,
      "outputs": []
    },
    {
      "cell_type": "code",
      "metadata": {
        "id": "yVMFzyyVvu6y",
        "colab_type": "code",
        "outputId": "91eab4af-dff8-421b-df0d-a2eae281d923",
        "colab": {
          "base_uri": "https://localhost:8080/",
          "height": 34
        }
      },
      "source": [
        "y[4:]"
      ],
      "execution_count": 0,
      "outputs": [
        {
          "output_type": "execute_result",
          "data": {
            "text/plain": [
              "[19, 31, 34, 45, 56, 68, 79, 97, 128]"
            ]
          },
          "metadata": {
            "tags": []
          },
          "execution_count": 19
        }
      ]
    },
    {
      "cell_type": "code",
      "metadata": {
        "id": "T-TBAxOuwchF",
        "colab_type": "code",
        "outputId": "0f79c8f6-3681-408c-91ba-fbb9b906c4d4",
        "colab": {
          "base_uri": "https://localhost:8080/",
          "height": 34
        }
      },
      "source": [
        "y[xini:xini+xlen]"
      ],
      "execution_count": 0,
      "outputs": [
        {
          "output_type": "execute_result",
          "data": {
            "text/plain": [
              "[12, 17, 19, 19, 31, 34]"
            ]
          },
          "metadata": {
            "tags": []
          },
          "execution_count": 20
        }
      ]
    },
    {
      "cell_type": "code",
      "metadata": {
        "colab_type": "code",
        "outputId": "7320c078-779f-41ff-ea77-e1a2086b775a",
        "id": "m9xN-entvpny",
        "colab": {
          "base_uri": "https://localhost:8080/",
          "height": 282
        }
      },
      "source": [
        "xini=4\n",
        "plt.plot(xx,y[xini:xini+xlen-1],'c-',label=c)\n",
        "plt.plot(xx,yy,'r.')"
      ],
      "execution_count": 0,
      "outputs": [
        {
          "output_type": "execute_result",
          "data": {
            "text/plain": [
              "[<matplotlib.lines.Line2D at 0x7f1dbea6f400>]"
            ]
          },
          "metadata": {
            "tags": []
          },
          "execution_count": 21
        },
        {
          "output_type": "display_data",
          "data": {
            "image/png": "[encoded data removed]",
            "text/plain": [
              "<Figure size 432x288 with 1 Axes>"
            ]
          },
          "metadata": {
            "tags": []
          }
        }
      ]
    },
    {
      "cell_type": "code",
      "metadata": {
        "id": "rLkrr7BfvsMk",
        "colab_type": "code",
        "colab": {}
      },
      "source": [
        ""
      ],
      "execution_count": 0,
      "outputs": []
    },
    {
      "cell_type": "code",
      "metadata": {
        "id": "kZdtfkauI5Vt",
        "colab_type": "code",
        "outputId": "8a571164-0843-4d71-9558-a1df829bbc8a",
        "colab": {
          "base_uri": "https://localhost:8080/",
          "height": 34
        }
      },
      "source": [
        "int((1+Ep)**4*y[4])"
      ],
      "execution_count": 0,
      "outputs": [
        {
          "output_type": "execute_result",
          "data": {
            "text/plain": [
              "96"
            ]
          },
          "metadata": {
            "tags": []
          },
          "execution_count": 22
        }
      ]
    },
    {
      "cell_type": "markdown",
      "metadata": {
        "id": "gTC5uHdLJCt6",
        "colab_type": "text"
      },
      "source": [
        "Prediction next day"
      ]
    },
    {
      "cell_type": "code",
      "metadata": {
        "id": "ajQPN2BOIwwF",
        "colab_type": "code",
        "outputId": "9747030c-f10e-438f-8c90-298da9c8b9c7",
        "colab": {
          "base_uri": "https://localhost:8080/",
          "height": 34
        }
      },
      "source": [
        "day=5\n",
        "int((1+Ep)**day*y[4])"
      ],
      "execution_count": 0,
      "outputs": [
        {
          "output_type": "execute_result",
          "data": {
            "text/plain": [
              "144"
            ]
          },
          "metadata": {
            "tags": []
          },
          "execution_count": 23
        }
      ]
    },
    {
      "cell_type": "code",
      "metadata": {
        "id": "r3SZix2TbpbJ",
        "colab_type": "code",
        "outputId": "294b2d3a-8667-4500-a582-c6d2fe092b6d",
        "colab": {
          "base_uri": "https://localhost:8080/",
          "height": 79
        }
      },
      "source": [
        "cv[cv['Country/Region']=='Colombia'][[dmax]]"
      ],
      "execution_count": 0,
      "outputs": [
        {
          "output_type": "execute_result",
          "data": {
            "text/html": [
              "<div>\n",
              "<style scoped>\n",
              "    .dataframe tbody tr th:only-of-type {\n",
              "        vertical-align: middle;\n",
              "    }\n",
              "\n",
              "    .dataframe tbody tr th {\n",
              "        vertical-align: top;\n",
              "    }\n",
              "\n",
              "    .dataframe thead th {\n",
              "        text-align: right;\n",
              "    }\n",
              "</style>\n",
              "<table border=\"1\" class=\"dataframe\">\n",
              "  <thead>\n",
              "    <tr style=\"text-align: right;\">\n",
              "      <th></th>\n",
              "      <th>3/20/20</th>\n",
              "    </tr>\n",
              "  </thead>\n",
              "  <tbody>\n",
              "    <tr>\n",
              "      <th>73</th>\n",
              "      <td>128</td>\n",
              "    </tr>\n",
              "  </tbody>\n",
              "</table>\n",
              "</div>"
            ],
            "text/plain": [
              "    3/20/20\n",
              "73      128"
            ]
          },
          "metadata": {
            "tags": []
          },
          "execution_count": 24
        }
      ]
    }
  ]
}