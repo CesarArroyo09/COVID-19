{
  "nbformat": 4,
  "nbformat_minor": 0,
  "metadata": {
    "kernelspec": {
      "display_name": "Python 3",
      "language": "python",
      "name": "python3"
    },
    "language_info": {
      "codemirror_mode": {
        "name": "ipython",
        "version": 3
      },
      "file_extension": ".py",
      "mimetype": "text/x-python",
      "name": "python",
      "nbconvert_exporter": "python",
      "pygments_lexer": "ipython3",
      "version": "3.7.3"
    },
    "colab": {
      "name": "covid.ipynb",
      "provenance": [],
      "include_colab_link": true
    }
  },
  "cells": [
    {
      "cell_type": "markdown",
      "metadata": {
        "id": "view-in-github",
        "colab_type": "text"
      },
      "source": [
        "<a href=\"https://colab.research.google.com/github/CesarArroyo09/COVID-19/blob/master/covid.ipynb\" target=\"_parent\"><img src=\"https://colab.research.google.com/assets/colab-badge.svg\" alt=\"Open In Colab\"/></a>"
      ]
    },
    {
      "cell_type": "markdown",
      "metadata": {
        "id": "AyVdvXDHSegL",
        "colab_type": "text"
      },
      "source": [
        "# Covid-19 data for Colombia"
      ]
    },
    {
      "cell_type": "markdown",
      "metadata": {
        "id": "mgzzuuteSegO",
        "colab_type": "text"
      },
      "source": [
        "Use of [public Covid-19 in GitHub](https://github.com/CSSEGISandData/COVID-19) data from: \n",
        "[Center for Systems Science and Engineering (CSSE)](https://systems.jhu.edu/):\n",
        "\n",
        "* Hongru Du, Lauren Gardner, and Ensheng Dong, An interactive web-based dashboard to track COVID-19 in real time, http://www.thelancet.com/infection Published:February 19, 2020, DOI:https://doi.org/10.1016/S1473-3099(20)30120-1\n",
        "\n",
        "For examples of use of the data see Jupyter Notebook `covid19_analysis.ipynb`: [[local](./covid19_analysis.ipynb)] [[GitHub](https://github.com/restrepo/Covid-19/blob/master/covid_analysis.ipynb)] [[Colab](https://colab.research.google.com/github/restrepo/Covid-19/blob/master/covid_analysis.ipynb)]\n",
        "\n",
        "[Official Colombia data](https://infogram.com/covid-2019-ins-colombia-1hnq41zg9ord63z)"
      ]
    },
    {
      "cell_type": "code",
      "metadata": {
        "id": "CETEHcSKSegP",
        "colab_type": "code",
        "outputId": "8d157737-1389-4f7d-b966-35d95a5506b9",
        "colab": {
          "base_uri": "https://localhost:8080/",
          "height": 34
        }
      },
      "source": [
        "%pylab inline"
      ],
      "execution_count": 1,
      "outputs": [
        {
          "output_type": "stream",
          "text": [
            "Populating the interactive namespace from numpy and matplotlib\n"
          ],
          "name": "stdout"
        }
      ]
    },
    {
      "cell_type": "code",
      "metadata": {
        "id": "ayDS570kSegT",
        "colab_type": "code",
        "colab": {}
      },
      "source": [
        "import pandas as pd\n",
        "import re\n",
        "#See https://strftime.org/\n",
        "import datetime\n",
        "import numpy as np\n",
        "from scipy import optimize as opt"
      ],
      "execution_count": 0,
      "outputs": []
    },
    {
      "cell_type": "code",
      "metadata": {
        "id": "wHmtr6kKxN8S",
        "colab_type": "code",
        "colab": {}
      },
      "source": [
        "def exponential_model(x,a,b,c):\n",
        "    return a*np.exp(b*(x-c))\n",
        "\n",
        "def logistic_model(x,a,b,c):\n",
        "    return c/(1+np.exp(-(x-b)/a))\n",
        "    \n",
        "def date_range(date_start='2/23/20',date_end='3/03/20',date_step=1):\n",
        "    dr=[]\n",
        "    start = datetime.datetime.strptime(date_start, \"%m/%d/%y\")\n",
        "    end = datetime.datetime.strptime(date_end, \"%m/%d/%y\")\n",
        "    step = datetime.timedelta(days=date_step)\n",
        "    while start <= end:\n",
        "        #avoid leading zeroes: https://stackoverflow.com/a/2073189/2268280\n",
        "        dr.append(start.strftime(\"%-m/%-d/%y\"))\n",
        "        start += step\n",
        "    return dr\n",
        "\n",
        "def get_sum_series(cvn):\n",
        "    cs=cvn.sum()\n",
        "    cs['Province/State']='All'\n",
        "    cs['Country/Region']=cvn['Country/Region'].unique()[0]\n",
        "    cs['Lat']=round( cvn['Lat'].mean(),3 )\n",
        "    cs['Long']=round( cvn['Long'].mean(),3 )\n",
        "    return cs\n",
        "\n",
        "def merge_country(cva):\n",
        "    cvo=pd.DataFrame()\n",
        "\n",
        "    multi_country=[]\n",
        "    for c in cva['Country/Region']:\n",
        "        if c not in multi_country:\n",
        "            cvn=cva[cva['Country/Region']==c].reset_index(drop=True)\n",
        "            if cvn.shape[0]>1:\n",
        "                multi_country.append(c)\n",
        "                cvo=cvo.append(get_sum_series(cvn),ignore_index=True)\n",
        "            else:\n",
        "                cvo=cvo.append(cvn,sort=False)\n",
        "\n",
        "    cvo=cvo[cva.columns].reset_index(drop=True)\n",
        "\n",
        "    #Special cases\n",
        "    sc=cva[cva['Province/State']=='Hong Kong'].reset_index(drop=True)\n",
        "    sc['Country/Region']='Hong Kong'\n",
        "    if sc.shape[0]==1:\n",
        "        cvo=cvo.append(sc,sort=False)\n",
        "        cvo=cvo.reset_index(drop=True)    \n",
        "    return cvo\n",
        "\n",
        "def get_infected(country,date_start=None,date_end=None,DataFrame=None,\n",
        "      DataSource='https://raw.githubusercontent.com/CSSEGISandData/COVID-19/',\n",
        "      DataFile='master/csse_covid_19_data/csse_covid_19_time_series/time_series_19-covid-Confirmed.csv'\n",
        "      ):\n",
        "    '''\n",
        "    Obtenga la lista de infectados de un país\n",
        "     country: País\n",
        "     date_start: Fecha inicial en el formato MM/DD/YY, e.g. '3/10/20' o None\n",
        "     date_end  : Fecha final en el formato MM/DD/YY, e.g. '3/10/20' o None\n",
        "     si alguna de las fechas esta en None se toma de los extremos del rango\n",
        "     de fechas disponible\n",
        "    '''\n",
        "    if DataFrame is None:\n",
        "        cva=pd.read_csv('{}{}'.format(data_source,data_file))\n",
        "        cva=cva.reset_index(drop=True)\n",
        "    else:\n",
        "        cva=DataFrame.copy()\n",
        "\n",
        "    d=[ c for c in cva.columns if re.search(r'^[0-9]{1,2}\\/[0-9]{1,2}\\/[1920]{2}',c)]\n",
        "    if not date_start:\n",
        "        date_start=d[0]\n",
        "    if not date_end:\n",
        "        date_end=d[-1]\n",
        "    dr=date_range(date_start=date_start,date_end=date_end)\n",
        "    cvrg=cva[cva['Country/Region']==country].reset_index(drop=True)\n",
        "    y=cvrg[dr].values.tolist()[0]\n",
        "    return y\n",
        "\n",
        "def dataframe_doubling(x,y,start_date,final_date):\n",
        "    '''\n",
        "    x: list of days\n",
        "    y: list of infections\n",
        "    '''\n",
        "    sp=pd.DataFrame()\n",
        "    if len(x)<3:\n",
        "        print('WARNING: Not enough data: at least 3 days')\n",
        "        return sp\n",
        "    spd={'start_date':start_date,'final_date':final_date}\n",
        "    for d in x[2:]:\n",
        "        exp_fit = opt.curve_fit(exponential_model,x[:d],y[:d],p0=[1,0.4,3])\n",
        "        spd['g']=exp_fit[0][1]\n",
        "        N0=exp_fit[0][0];g=exp_fit[0][1];t0=exp_fit[0][2]\n",
        "        if exponential_model(t0,N0,g,t0)==N0:\n",
        "            Td=np.log(2)/g\n",
        "            spd['N0']=exp_fit[0][0]\n",
        "            spd['t0']=exp_fit[0][2]\n",
        "            spd['Td']=Td\n",
        "            spd['day']=d\n",
        "            spd['infections']=y[d-1]\n",
        "        sp=sp.append(spd,ignore_index=True)\n",
        "\n",
        "    sp['day']=sp['day'].astype(int)\n",
        "    sp['infections']=sp['infections'].astype(int)\n",
        "    return sp"
      ],
      "execution_count": 0,
      "outputs": []
    },
    {
      "cell_type": "markdown",
      "metadata": {
        "id": "YhCXT6zdSegW",
        "colab_type": "text"
      },
      "source": [
        "## Load data"
      ]
    },
    {
      "cell_type": "code",
      "metadata": {
        "id": "0_gnDzNISegX",
        "colab_type": "code",
        "colab": {}
      },
      "source": [
        "DataSource='https://raw.githubusercontent.com/CSSEGISandData/COVID-19/'\n",
        "DataFile='master/csse_covid_19_data/csse_covid_19_time_series/time_series_19-covid-Confirmed.csv'\n",
        "cva=pd.read_csv('{}{}'.format(DataSource,DataFile))\n",
        "cva=cva.reset_index(drop=True)"
      ],
      "execution_count": 0,
      "outputs": []
    },
    {
      "cell_type": "markdown",
      "metadata": {
        "id": "jRbRPRjSSega",
        "colab_type": "text"
      },
      "source": [
        "## Normalize data\n",
        "Be sure to have only a row for country"
      ]
    },
    {
      "cell_type": "code",
      "metadata": {
        "id": "Rmikf1jhSegb",
        "colab_type": "code",
        "outputId": "9e764ee3-9dbd-44f1-dc41-fc1c66a7935c",
        "colab": {
          "base_uri": "https://localhost:8080/",
          "height": 34
        }
      },
      "source": [
        "cv=merge_country(cva)\n",
        "cv.shape"
      ],
      "execution_count": 5,
      "outputs": [
        {
          "output_type": "execute_result",
          "data": {
            "text/plain": [
              "(172, 65)"
            ]
          },
          "metadata": {
            "tags": []
          },
          "execution_count": 5
        }
      ]
    },
    {
      "cell_type": "code",
      "metadata": {
        "colab_type": "code",
        "id": "b0OwAOtd0cQh",
        "colab": {}
      },
      "source": [
        "d=[ c for c in cv.columns if re.search(r'^[0-9]{1,2}\\/[0-9]{1,2}\\/[1920]{2}',c)]"
      ],
      "execution_count": 0,
      "outputs": []
    },
    {
      "cell_type": "markdown",
      "metadata": {
        "id": "Wr_8XBT5jydT",
        "colab_type": "text"
      },
      "source": [
        "last update"
      ]
    },
    {
      "cell_type": "code",
      "metadata": {
        "id": "EIsLe1SJPssU",
        "colab_type": "code",
        "outputId": "117d1585-a7bd-4235-8861-f99ab75ace05",
        "colab": {
          "base_uri": "https://localhost:8080/",
          "height": 34
        }
      },
      "source": [
        "dmax=d[-1]\n",
        "dmax"
      ],
      "execution_count": 7,
      "outputs": [
        {
          "output_type": "execute_result",
          "data": {
            "text/plain": [
              "'3/22/20'"
            ]
          },
          "metadata": {
            "tags": []
          },
          "execution_count": 7
        }
      ]
    },
    {
      "cell_type": "markdown",
      "metadata": {
        "id": "n0oKGDTursX1",
        "colab_type": "text"
      },
      "source": [
        "## Fit to logistic or exponential model\n",
        "See: \n",
        "* https://twitter.com/burkert_andreas/status/1239692655833071616\n",
        "    * https://raw.githubusercontent.com/restrepo/Covid-19/master/covid-19.jpeg\n",
        "\n",
        "* Method for Python explained in \n",
        "[Covid-19 infection in Italy. Mathematical models and predictions](https://towardsdatascience.com/covid-19-infection-in-italy-mathematical-models-and-predictions-7784b4d7dd8d):\n",
        "\n",
        "> While the logistic model describes an infection growth that is going to stop in the future, the exponential model describes an unstoppable infection growth. For example, if a patient infects 2 patients per day, after 1 day we’ll have 2 infections, 4 after 2 days, 8 after 3 and so on. The most generic exponential function is:\n",
        "\n",
        "$$f(x,a,b,c)=a\\operatorname{e}^{b(x-c)}\\,.$$\n",
        "\n",
        "Which can be [interpreted as](https://en.wikipedia.org/wiki/Doubling_time)\n",
        "$$N(t)=N(t_0)\\operatorname{e}^{g(t-t_0)}$$\n",
        "\n",
        "or\n",
        "\n",
        "$g = \\dfrac{\\ln\\left(N(t)/N(t_0)\\right)}{t-t_0}$\n",
        "\n",
        "* $N(t)$ = the number of infections at time $t$\n",
        "* $N(t_0)$ = the number of infections at time $t_0$\n",
        "* $g$ = growth rate\n",
        "* $t$ = time (usually in days)\n",
        "\n",
        "Doubling time $T_d$:\n",
        "\n",
        "$T_d = \\dfrac{\\ln(2)}{g}$\n",
        "\n",
        "$T_d = (t-t_0)\\dfrac{\\ln(2)}{\\ln\\left(N(t)/N(t_0)\\right)}$\n",
        "\n",
        "For doubling times analysis for other countries see [Forbes](https://www.forbes.com/sites/startswithabang/2020/03/17/why-exponential-growth-is-so-scary-for-the-covid-19-coronavirus/#66dd44434e9b) - [Result](https://raw.githubusercontent.com/restrepo/Covid-19/master/img/doubling.jpg)\n",
        "\n"
      ]
    },
    {
      "cell_type": "code",
      "metadata": {
        "id": "bnKuAnlk6kxM",
        "colab_type": "code",
        "colab": {}
      },
      "source": [
        ""
      ],
      "execution_count": 0,
      "outputs": []
    },
    {
      "cell_type": "markdown",
      "metadata": {
        "id": "OAdvB2PtAs2c",
        "colab_type": "text"
      },
      "source": [
        "Select a range of dates"
      ]
    },
    {
      "cell_type": "markdown",
      "metadata": {
        "id": "o6VKTL0b7vxh",
        "colab_type": "text"
      },
      "source": [
        "# Mexico"
      ]
    },
    {
      "cell_type": "markdown",
      "metadata": {
        "id": "FShd2a3v72C-",
        "colab_type": "text"
      },
      "source": [
        "## Select data for Mexico"
      ]
    },
    {
      "cell_type": "code",
      "metadata": {
        "colab_type": "code",
        "id": "-wtSGGxf8Cr0",
        "colab": {}
      },
      "source": [
        "NOT_OFFICIAL_UPDATE=False\n",
        "c='Mexico'\n",
        "max_forecast=1000\n",
        "prediction=18\n",
        "extra_days=16\n",
        "start_day='3/9/20'\n",
        "#dr=date_range(date_start=start_day,date_end=dmax)\n",
        "#cvrg=cv[cv['Country/Region']==c].reset_index(drop=True)\n",
        "#y=cvrg[dr].values.tolist()[0]\n",
        "y=get_infected(c,date_start=start_day,date_end=dmax,DataFrame=cv)\n",
        "if NOT_OFFICIAL_UPDATE:\n",
        "    today=input('Last infections: ')\n",
        "    y.append(int(today))\n",
        "x=range(1,len(y)+1)"
      ],
      "execution_count": 0,
      "outputs": []
    },
    {
      "cell_type": "markdown",
      "metadata": {
        "id": "PJ0byQAH8I6A",
        "colab_type": "text"
      },
      "source": [
        "## Fit to logistic and exponential models respectively"
      ]
    },
    {
      "cell_type": "code",
      "metadata": {
        "colab_type": "code",
        "outputId": "454a1035-a61c-4015-a8dc-21bf3452f54b",
        "id": "KkpyOyzg8S6A",
        "colab": {
          "base_uri": "https://localhost:8080/",
          "height": 34
        }
      },
      "source": [
        "logistic_fit = opt.curve_fit(logistic_model,x,y,p0=[2,10,100])\n",
        "'logistic end: {} ± {} infections'.format(int(logistic_fit[0][2]),\n",
        "                               int(np.sqrt(logistic_fit[1][2,2])))"
      ],
      "execution_count": 15,
      "outputs": [
        {
          "output_type": "execute_result",
          "data": {
            "text/plain": [
              "'logistic end: 559 ± 114 infections'"
            ]
          },
          "metadata": {
            "tags": []
          },
          "execution_count": 15
        }
      ]
    },
    {
      "cell_type": "code",
      "metadata": {
        "colab_type": "code",
        "outputId": "e071ef2e-2cfc-48e2-ca85-e6b15fad05ca",
        "id": "LnbsmUaB8W2p",
        "colab": {
          "base_uri": "https://localhost:8080/",
          "height": 34
        }
      },
      "source": [
        "exp_fit = opt.curve_fit(exponential_model,x,y,p0=[1,0.4,3])\n",
        "try:\n",
        "    Δb=np.sqrt(exp_fit[1][1,1])\n",
        "except:\n",
        "    Δb=0\n",
        "'exponential `b`-fitted parameter: {}  ± {}'.format(exp_fit[0][1].round(3),Δb.round(3))"
      ],
      "execution_count": 16,
      "outputs": [
        {
          "output_type": "execute_result",
          "data": {
            "text/plain": [
              "'exponential `b`-fitted parameter: 0.261  ± 0.01'"
            ]
          },
          "metadata": {
            "tags": []
          },
          "execution_count": 16
        }
      ]
    },
    {
      "cell_type": "markdown",
      "metadata": {
        "id": "-RNu9j_L8jiD",
        "colab_type": "text"
      },
      "source": [
        "Prediction next day"
      ]
    },
    {
      "cell_type": "code",
      "metadata": {
        "colab_type": "code",
        "outputId": "7bb812cb-940c-44c8-eb82-ffe55f6c9144",
        "id": "AHa48QcM8frS",
        "colab": {
          "base_uri": "https://localhost:8080/",
          "height": 34
        }
      },
      "source": [
        "exp_fit_co=exp_fit[0].copy()\n",
        "exponential_model_co=lambda x: exponential_model(x, exp_fit_co[0],exp_fit_co[1],exp_fit_co[2]  )\n",
        "infc=exponential_model_co(x[-1]+1  )\n",
        "pinfc=exponential_model(x[-1]+1, exp_fit_co[0],exp_fit_co[1]+Δb,exp_fit_co[2]  )-infc\n",
        "minfc=infc-exponential_model(x[-1]+1, exp_fit_co[0],exp_fit_co[1]-Δb,exp_fit_co[2]  )\n",
        "next_day=r'next day:  $%g^{+%g}_{-%g}$' %(\n",
        "                        int( infc ),int( pinfc ),int( minfc )  )\n",
        "print('day {}:  {} infections'.format(x[-1]+1,next_day) )"
      ],
      "execution_count": 17,
      "outputs": [
        {
          "output_type": "stream",
          "text": [
            "day 15:  next day:  $336^{+63}_{-53}$ infections\n"
          ],
          "name": "stdout"
        }
      ]
    },
    {
      "cell_type": "markdown",
      "metadata": {
        "colab_type": "text",
        "id": "LmfgJ-EV8qPi"
      },
      "source": [
        "Iterpretation in terms of\n",
        "$$N(t)=N(t_0)\\operatorname{e}^{g(t-t_0)}$$"
      ]
    },
    {
      "cell_type": "code",
      "metadata": {
        "colab_type": "code",
        "outputId": "85e7fa18-d586-4f1d-8cfd-f748a3d89371",
        "id": "YrOUaODS8uGL",
        "colab": {
          "base_uri": "https://localhost:8080/",
          "height": 34
        }
      },
      "source": [
        "N0=exp_fit[0][0];g=exp_fit[0][1];t0=exp_fit[0][2]\n",
        "if exponential_model(t0,N0,g,t0)==N0:\n",
        "    Td=np.log(2)/g\n",
        "else:\n",
        "    print('WARNING: N(t) interpretation not working')\n",
        "    Td=None\n",
        "if Td:\n",
        "    dt=re.sub('\\.0\\s',' ', '(doubling time = {} days)'.format(Td.round(1)\n",
        "        ))\n",
        "    texmodel='N(t)=N(t_0)e^{t-t_0}='\n",
        "    print('T_d →  {}'.format(dt))\n",
        "else:\n",
        "    texmodel=''\n",
        "    dt=''"
      ],
      "execution_count": 18,
      "outputs": [
        {
          "output_type": "stream",
          "text": [
            "T_d →  (doubling time = 2.7 days)\n"
          ],
          "name": "stdout"
        }
      ]
    },
    {
      "cell_type": "markdown",
      "metadata": {
        "colab_type": "text",
        "id": "OnbEQW-P8yjb"
      },
      "source": [
        "Visualization"
      ]
    },
    {
      "cell_type": "code",
      "metadata": {
        "colab_type": "code",
        "outputId": "a93834ba-6dd3-4d8c-a5fc-269490db4408",
        "id": "keX9uqLt83NF",
        "colab": {
          "base_uri": "https://localhost:8080/",
          "height": 300
        }
      },
      "source": [
        "LOGISTIC=False\n",
        "ERRORS=True\n",
        "ylinlog='log'\n",
        "xx=range(x[0],x[-1]+extra_days)\n",
        "if min(y)>0:\n",
        "    ymin=min(y)\n",
        "else:\n",
        "    ymin=1\n",
        "\n",
        "plt.plot(x,y,'r-',label=c)\n",
        "plt.plot(xx,\n",
        "         exponential_model(xx,exp_fit[0][0],exp_fit[0][1],exp_fit[0][2]),\n",
        "         'k:',\n",
        "         label=r'$%s%g\\cdot e^{%g[t-(%g)]}$' %(texmodel,\n",
        "                                             exp_fit[0][0].round(2),\n",
        "                                             exp_fit[0][1].round(3),\n",
        "                                             exp_fit[0][2].round(2)) )\n",
        "if ERRORS:\n",
        "    plt.plot(xx,\n",
        "         exponential_model(xx,exp_fit[0][0],exp_fit[0][1]+Δb,exp_fit[0][2]),\n",
        "         'm:',lw=0.5)\n",
        "    plt.plot(xx,\n",
        "         exponential_model(xx,exp_fit[0][0],exp_fit[0][1]-Δb,exp_fit[0][2]),\n",
        "         'm:',lw=0.5)\n",
        "if LOGISTIC:\n",
        "    plt.plot(xx,\n",
        "         logistic_model(xx,logistic_fit[0][0],logistic_fit[0][1],logistic_fit[0][2]),\n",
        "         'c:',lw=1\n",
        "          )\n",
        "\n",
        "plt.hlines(max_forecast,xx[0],xx[-1],linestyles='--',lw=1)\n",
        "plt.vlines(prediction,ymin,max_forecast,linestyles='--',lw=1)\n",
        "\n",
        "plt.title('From: {} to {}'.format(\n",
        "    datetime.datetime.strptime(start_day,\"%m/%d/%y\").strftime(\"%B %-d, %Y\"),\n",
        "    datetime.datetime.strptime(dmax,\"%m/%d/%y\").strftime(\"%B %-d, %Y\") ) )\n",
        "plt.plot(x[-1]+1,infc,'r*',markersize=10,\n",
        "         label=next_day\n",
        "         )\n",
        "\n",
        "plt.legend(loc='upper left')\n",
        "plt.xscale('linear')\n",
        "plt.yscale(ylinlog)\n",
        "plt.xlabel('days',size=15)\n",
        "plt.ylabel('infections '+dt,size=13 )\n",
        "if ylinlog=='linear':\n",
        "    xmax=x[-1]+2\n",
        "    ymax=y[-1]+infc+Δb\n",
        "else:\n",
        "    xmax=xx[-1]\n",
        "    ymax=max_forecast+30000\n",
        "plt.xlim(xx[0],xmax)\n",
        "plt.ylim(ymin,ymax)\n",
        "plt.grid()\n",
        "plt.savefig('Colombia.png')"
      ],
      "execution_count": 19,
      "outputs": [
        {
          "output_type": "display_data",
          "data": {
            "image/png": "[encoded data removed]",
            "text/plain": [
              "<Figure size 432x288 with 1 Axes>"
            ]
          },
          "metadata": {
            "tags": []
          }
        }
      ]
    },
    {
      "cell_type": "markdown",
      "metadata": {
        "id": "wyrBVXeBOVRZ",
        "colab_type": "text"
      },
      "source": [
        "# Colombia"
      ]
    },
    {
      "cell_type": "markdown",
      "metadata": {
        "id": "B06YcwU5kRE8",
        "colab_type": "text"
      },
      "source": [
        "### Select data for Colombia"
      ]
    },
    {
      "cell_type": "code",
      "metadata": {
        "id": "OKuDneoi8phN",
        "colab_type": "code",
        "colab": {}
      },
      "source": [
        "NOT_OFFICIAL_UPDATE=False\n",
        "c='Colombia'\n",
        "max_forecast=1000\n",
        "prediction=18\n",
        "extra_days=16\n",
        "start_day='3/1/20'\n",
        "#dr=date_range(date_start=start_day,date_end=dmax)\n",
        "#cvrg=cv[cv['Country/Region']==c].reset_index(drop=True)\n",
        "#y=cvrg[dr].values.tolist()[0]\n",
        "y=get_infected(c,date_start=start_day,date_end=dmax,DataFrame=cv)\n",
        "if NOT_OFFICIAL_UPDATE:\n",
        "    today=input('Last infections: ')\n",
        "    y.append(int(today))\n",
        "x=range(1,len(y)+1)"
      ],
      "execution_count": 0,
      "outputs": []
    },
    {
      "cell_type": "code",
      "metadata": {
        "id": "DSLjV3-O_at0",
        "colab_type": "code",
        "colab": {
          "base_uri": "https://localhost:8080/",
          "height": 34
        },
        "outputId": "753460b3-b87b-4a21-e5b2-2470bf58b2df"
      },
      "source": [
        "y[0:5]"
      ],
      "execution_count": 41,
      "outputs": [
        {
          "output_type": "execute_result",
          "data": {
            "text/plain": [
              "[1, 1, 3, 9, 9]"
            ]
          },
          "metadata": {
            "tags": []
          },
          "execution_count": 41
        }
      ]
    },
    {
      "cell_type": "markdown",
      "metadata": {
        "id": "hygnPKYpf88d",
        "colab_type": "text"
      },
      "source": [
        "### Logistic model for Colombia"
      ]
    },
    {
      "cell_type": "code",
      "metadata": {
        "id": "wbC9csucbD6h",
        "colab_type": "code",
        "outputId": "24de60d6-f9e8-42aa-a58f-a4316ebf1415",
        "colab": {
          "base_uri": "https://localhost:8080/",
          "height": 34
        }
      },
      "source": [
        "logistic_fit = opt.curve_fit(logistic_model,x,y,p0=[2,10,100])\n",
        "'logistic end: {} ± {} infections'.format(int(logistic_fit[0][2]),\n",
        "                               int(np.sqrt(logistic_fit[1][2,2])))"
      ],
      "execution_count": 21,
      "outputs": [
        {
          "output_type": "execute_result",
          "data": {
            "text/plain": [
              "'logistic end: 760 ± 481 infections'"
            ]
          },
          "metadata": {
            "tags": []
          },
          "execution_count": 21
        }
      ]
    },
    {
      "cell_type": "markdown",
      "metadata": {
        "id": "5UVvC_XWEpzk",
        "colab_type": "text"
      },
      "source": [
        "### Exponential model for Colombia"
      ]
    },
    {
      "cell_type": "markdown",
      "metadata": {
        "id": "oj76wgXuigZk",
        "colab_type": "text"
      },
      "source": [
        "Prepare data"
      ]
    },
    {
      "cell_type": "code",
      "metadata": {
        "id": "boCtIzi15e0y",
        "colab_type": "code",
        "outputId": "5342f857-4a05-45f0-b203-982538bae71e",
        "colab": {
          "base_uri": "https://localhost:8080/",
          "height": 34
        }
      },
      "source": [
        "exp_fit = opt.curve_fit(exponential_model,x,y,p0=[1,0.4,3])\n",
        "try:\n",
        "    Δb=np.sqrt(exp_fit[1][1,1])\n",
        "except:\n",
        "    Δb=0\n",
        "'exponential `b`-fitted parameter: {}  ± {}'.format(exp_fit[0][1].round(3),Δb.round(3))"
      ],
      "execution_count": 22,
      "outputs": [
        {
          "output_type": "execute_result",
          "data": {
            "text/plain": [
              "'exponential `b`-fitted parameter: 0.271  ± 0.017'"
            ]
          },
          "metadata": {
            "tags": []
          },
          "execution_count": 22
        }
      ]
    },
    {
      "cell_type": "markdown",
      "metadata": {
        "id": "BX2K94qZACv2",
        "colab_type": "text"
      },
      "source": [
        "Prediction next day"
      ]
    },
    {
      "cell_type": "code",
      "metadata": {
        "id": "q4B7lxuVfh-Y",
        "colab_type": "code",
        "outputId": "7366d01e-64e3-4e27-f161-8802d28f8e3e",
        "colab": {
          "base_uri": "https://localhost:8080/",
          "height": 34
        }
      },
      "source": [
        "exp_fit_co=exp_fit[0].copy()\n",
        "exponential_model_co=lambda x: exponential_model(x, exp_fit_co[0],exp_fit_co[1],exp_fit_co[2]  )\n",
        "infc=exponential_model_co(x[-1]+1  )\n",
        "pinfc=exponential_model(x[-1]+1, exp_fit_co[0],exp_fit_co[1]+Δb,exp_fit_co[2]  )-infc\n",
        "minfc=infc-exponential_model(x[-1]+1, exp_fit_co[0],exp_fit_co[1]-Δb,exp_fit_co[2]  )\n",
        "next_day=r'next day:  $%g^{+%g}_{-%g}$' %(\n",
        "                        int( infc ),int( pinfc ),int( minfc )  )\n",
        "print('day {}:  {} infections'.format(x[-1]+1,next_day) )"
      ],
      "execution_count": 23,
      "outputs": [
        {
          "output_type": "stream",
          "text": [
            "day 15:  next day:  $312^{+114}_{-83}$ infections\n"
          ],
          "name": "stdout"
        }
      ]
    },
    {
      "cell_type": "markdown",
      "metadata": {
        "id": "KeVqU_YvJAfS",
        "colab_type": "text"
      },
      "source": [
        "Iterpretation in terms of\n",
        "$$N(t)=N(t_0)\\operatorname{e}^{g(t-t_0)}$$"
      ]
    },
    {
      "cell_type": "code",
      "metadata": {
        "id": "Z-cVd2FTKVqR",
        "colab_type": "code",
        "outputId": "ccd94453-e964-4c3d-df17-8b195f423589",
        "colab": {
          "base_uri": "https://localhost:8080/",
          "height": 34
        }
      },
      "source": [
        "N0=exp_fit[0][0];g=exp_fit[0][1];t0=exp_fit[0][2]\n",
        "if exponential_model(t0,N0,g,t0)==N0:\n",
        "    Td=np.log(2)/g\n",
        "else:\n",
        "    print('WARNING: N(t) interpretation not working')\n",
        "    Td=None\n",
        "if Td:\n",
        "    dt=re.sub('\\.0\\s',' ', '(doubling time = {} days)'.format(Td.round(1)\n",
        "        ))\n",
        "    texmodel='N(t)=N(t_0)e^{t-t_0}='\n",
        "    print('T_d →  {}'.format(dt))\n",
        "else:\n",
        "    texmodel=''\n",
        "    dt=''"
      ],
      "execution_count": 24,
      "outputs": [
        {
          "output_type": "stream",
          "text": [
            "T_d →  (doubling time = 2.6 days)\n"
          ],
          "name": "stdout"
        }
      ]
    },
    {
      "cell_type": "markdown",
      "metadata": {
        "id": "_SDaHxDWijWJ",
        "colab_type": "text"
      },
      "source": [
        "Visualization"
      ]
    },
    {
      "cell_type": "code",
      "metadata": {
        "id": "qhDjsZXGHwYi",
        "colab_type": "code",
        "outputId": "a6630509-b048-4794-f1fc-eef83f40203d",
        "colab": {
          "base_uri": "https://localhost:8080/",
          "height": 300
        }
      },
      "source": [
        "LOGISTIC=False\n",
        "ERRORS=True\n",
        "ylinlog='log'\n",
        "xx=range(x[0],x[-1]+extra_days)\n",
        "if min(y)>0:\n",
        "    ymin=min(y)\n",
        "else:\n",
        "    ymin=1\n",
        "\n",
        "plt.plot(x,y,'r-',label=c)\n",
        "plt.plot(xx,\n",
        "         exponential_model(xx,exp_fit[0][0],exp_fit[0][1],exp_fit[0][2]),\n",
        "         'k:',\n",
        "         label=r'$%s%g\\cdot e^{%g[t-(%g)]}$' %(texmodel,\n",
        "                                             exp_fit[0][0].round(2),\n",
        "                                             exp_fit[0][1].round(3),\n",
        "                                             exp_fit[0][2].round(2)) )\n",
        "if ERRORS:\n",
        "    plt.plot(xx,\n",
        "         exponential_model(xx,exp_fit[0][0],exp_fit[0][1]+Δb,exp_fit[0][2]),\n",
        "         'm:',lw=0.5)\n",
        "    plt.plot(xx,\n",
        "         exponential_model(xx,exp_fit[0][0],exp_fit[0][1]-Δb,exp_fit[0][2]),\n",
        "         'm:',lw=0.5)\n",
        "if LOGISTIC:\n",
        "    plt.plot(xx,\n",
        "         logistic_model(xx,logistic_fit[0][0],logistic_fit[0][1],logistic_fit[0][2]),\n",
        "         'c:',lw=1\n",
        "          )\n",
        "\n",
        "plt.hlines(max_forecast,xx[0],xx[-1],linestyles='--',lw=1)\n",
        "plt.vlines(prediction,ymin,max_forecast,linestyles='--',lw=1)\n",
        "\n",
        "plt.title('From: {} to {}'.format(\n",
        "    datetime.datetime.strptime(start_day,\"%m/%d/%y\").strftime(\"%B %-d, %Y\"),\n",
        "    datetime.datetime.strptime(dmax,\"%m/%d/%y\").strftime(\"%B %-d, %Y\") ) )\n",
        "plt.plot(x[-1]+1,infc,'r*',markersize=10,\n",
        "         label=next_day\n",
        "         )\n",
        "\n",
        "plt.legend(loc='upper left')\n",
        "plt.xscale('linear')\n",
        "plt.yscale(ylinlog)\n",
        "plt.xlabel('days',size=15)\n",
        "plt.ylabel('infections '+dt,size=13 )\n",
        "if ylinlog=='linear':\n",
        "    xmax=x[-1]+2\n",
        "    ymax=y[-1]+infc+Δb\n",
        "else:\n",
        "    xmax=xx[-1]\n",
        "    ymax=max_forecast+30000\n",
        "plt.xlim(xx[0],xmax)\n",
        "plt.ylim(ymin,ymax)\n",
        "plt.grid()\n",
        "plt.savefig('Colombia.png')"
      ],
      "execution_count": 25,
      "outputs": [
        {
          "output_type": "display_data",
          "data": {
            "image/png": "[encoded data removed]",
            "text/plain": [
              "<Figure size 432x288 with 1 Axes>"
            ]
          },
          "metadata": {
            "tags": []
          }
        }
      ]
    },
    {
      "cell_type": "markdown",
      "metadata": {
        "id": "Nr4ABj2LOyW6",
        "colab_type": "text"
      },
      "source": [
        "\n",
        "## Doubling time"
      ]
    },
    {
      "cell_type": "code",
      "metadata": {
        "id": "f0etVs6E-l0M",
        "colab_type": "code",
        "outputId": "da994780-0cfd-4b37-874d-2b2d1e5f7a60",
        "colab": {
          "base_uri": "https://localhost:8080/",
          "height": 84
        }
      },
      "source": [
        "sp=dataframe_doubling(x,y,start_date=start_day,final_date=dmax)"
      ],
      "execution_count": 26,
      "outputs": [
        {
          "output_type": "stream",
          "text": [
            "/usr/local/lib/python3.6/dist-packages/ipykernel_launcher.py:2: RuntimeWarning: overflow encountered in exp\n",
            "  \n",
            "/usr/local/lib/python3.6/dist-packages/scipy/optimize/minpack.py:808: OptimizeWarning: Covariance of the parameters could not be estimated\n",
            "  category=OptimizeWarning)\n"
          ],
          "name": "stderr"
        }
      ]
    },
    {
      "cell_type": "code",
      "metadata": {
        "id": "fr2lQ8gjWlnk",
        "colab_type": "code",
        "outputId": "a1224f60-1b8a-40cf-d3fa-17e704836bd0",
        "colab": {
          "base_uri": "https://localhost:8080/",
          "height": 295
        }
      },
      "source": [
        "plt.plot(sp['day'],sp['Td'],'k-')\n",
        "plt.plot(sp['day'],sp['Td'],'r.')\n",
        "plt.title('Example: A DT of 2 means that infections double every 2 days')\n",
        "plt.xlabel('days from {}'.format(\n",
        "    datetime.datetime.strptime(start_day,\"%m/%d/%y\").strftime(\"%B %-d, %Y\")\n",
        "  ))\n",
        "plt.ylabel('Doubling time (DT) in units of days')\n",
        "plt.savefig('doublingtime.png')"
      ],
      "execution_count": 27,
      "outputs": [
        {
          "output_type": "display_data",
          "data": {
            "image/png": "[encoded data removed]",
            "text/plain": [
              "<Figure size 432x288 with 1 Axes>"
            ]
          },
          "metadata": {
            "tags": []
          }
        }
      ]
    },
    {
      "cell_type": "markdown",
      "metadata": {
        "id": "t3pI27BkA8bh",
        "colab_type": "text"
      },
      "source": [
        "### Other country"
      ]
    },
    {
      "cell_type": "code",
      "metadata": {
        "id": "vpS_XSfZ-_Yv",
        "colab_type": "code",
        "colab": {
          "base_uri": "https://localhost:8080/",
          "height": 34
        },
        "outputId": "0873297c-8c94-4cd0-d769-e1156433f15d"
      },
      "source": [
        "print(y[0:20])"
      ],
      "execution_count": 43,
      "outputs": [
        {
          "output_type": "stream",
          "text": [
            "[1, 4, 5, 5, 5, 5, 5, 6, 6, 7, 7, 7, 8, 12, 12, 26, 41, 53, 82, 93]\n"
          ],
          "name": "stdout"
        }
      ]
    },
    {
      "cell_type": "code",
      "metadata": {
        "id": "FukSUSfNKJ9O",
        "colab_type": "code",
        "outputId": "d3202070-ef26-4722-d8e1-1d106393a6d8",
        "colab": {
          "base_uri": "https://localhost:8080/",
          "height": 312
        }
      },
      "source": [
        "c='Mexico'\n",
        "max_forecast=10000\n",
        "prediction=32#21\n",
        "start_day='2/28/20'\n",
        "y=get_infected(c,date_start=start_day,date_end=dmax,DataFrame=cv)\n",
        "x=range(1,len(y)+1)\n",
        "exp_fit = opt.curve_fit(exponential_model,x,y,p0=[1,0.4,3])\n",
        "\n",
        "xx=range(x[0],x[-1]+20)\n",
        "if min(y)>0:\n",
        "    ymin=min(y)\n",
        "else:\n",
        "    ymin=1\n",
        "\n",
        "plt.plot(x,y,'r-',label=c)\n",
        "plt.plot(xx,\n",
        "         exponential_model(xx,exp_fit[0][0],exp_fit[0][1],exp_fit[0][2]),\n",
        "         'k:',\n",
        "         label=r'$%g\\cdot e^{%g[x-(%g)]}$' %(exp_fit[0][0],exp_fit[0][1],exp_fit[0][2]) )\n",
        "\n",
        "plt.plot(xx,exponential_model_co(xx),'c:',label='Colombia model')\n",
        "\n",
        "plt.hlines(max_forecast,xx[0],xx[-1],linestyles='--',lw=1)\n",
        "plt.vlines(prediction,ymin,max_forecast,linestyles='--',lw=1)\n",
        "\n",
        "plt.title('From: {} to {}'.format(\n",
        "    datetime.datetime.strptime(start_day,\"%m/%d/%y\").strftime(\"%B %-d, %Y\"),\n",
        "    datetime.datetime.strptime(dmax,\"%m/%d/%y\").strftime(\"%B %-d, %Y\") ) ) \n",
        "plt.legend(loc='best')\n",
        "plt.xscale('linear')\n",
        "plt.yscale('log')\n",
        "plt.xlabel('days')\n",
        "plt.ylabel('infections')\n",
        "plt.xlim(xx[0],xx[-1])\n",
        "plt.ylim(ymin,max_forecast+10000)"
      ],
      "execution_count": 42,
      "outputs": [
        {
          "output_type": "execute_result",
          "data": {
            "text/plain": [
              "(1, 20000)"
            ]
          },
          "metadata": {
            "tags": []
          },
          "execution_count": 42
        },
        {
          "output_type": "display_data",
          "data": {
            "image/png": "[encoded data removed]",
            "text/plain": [
              "<Figure size 432x288 with 1 Axes>"
            ]
          },
          "metadata": {
            "tags": []
          }
        }
      ]
    },
    {
      "cell_type": "code",
      "metadata": {
        "id": "fWSwwhu66ErC",
        "colab_type": "code",
        "outputId": "807d5dbc-1fb5-4eaa-a8b2-0e9e67a76bac",
        "colab": {
          "base_uri": "https://localhost:8080/",
          "height": 34
        }
      },
      "source": [
        "N0=exp_fit[0][0];g=exp_fit[0][1];t0=exp_fit[0][2]\n",
        "if exponential_model(t0,N0,g,t0)==N0:\n",
        "    Td=np.log(2)/g\n",
        "else:\n",
        "    print('WARNING: N(t) interpretation not working')\n",
        "    Td=None\n",
        "if Td:\n",
        "    dt='(doubling time = {} days)'.format(Td.round(2))\n",
        "    print('T_d →  {}'.format(dt))"
      ],
      "execution_count": 30,
      "outputs": [
        {
          "output_type": "stream",
          "text": [
            "T_d →  (doubling time = 2.66 days)\n"
          ],
          "name": "stdout"
        }
      ]
    },
    {
      "cell_type": "code",
      "metadata": {
        "id": "Wc731u72_P-S",
        "colab_type": "code",
        "outputId": "a363533c-8926-4361-83e1-8f55d4530c23",
        "colab": {
          "base_uri": "https://localhost:8080/",
          "height": 85
        }
      },
      "source": [
        "spa=dataframe_doubling(x,y,start_date=start_day,final_date=dmax)"
      ],
      "execution_count": 0,
      "outputs": [
        {
          "output_type": "stream",
          "text": [
            "/usr/local/lib/python3.6/dist-packages/scipy/optimize/minpack.py:808: OptimizeWarning: Covariance of the parameters could not be estimated\n",
            "  category=OptimizeWarning)\n",
            "/usr/local/lib/python3.6/dist-packages/ipykernel_launcher.py:4: RuntimeWarning: overflow encountered in exp\n",
            "  after removing the cwd from sys.path.\n"
          ],
          "name": "stderr"
        }
      ]
    },
    {
      "cell_type": "code",
      "metadata": {
        "id": "szBf6Bo2A6D8",
        "colab_type": "code",
        "outputId": "04f4def9-db96-4979-fe5c-70111958f859",
        "colab": {
          "base_uri": "https://localhost:8080/",
          "height": 85
        }
      },
      "source": [
        "c='Spain'\n",
        "start_day='3/1/20'\n",
        "y=get_infected(c,date_start=start_day,date_end=dmax,DataFrame=cv)\n",
        "x=range(1,len(y)+1)\n",
        "sps=dataframe_doubling(x,y,start_date=start_day,final_date=dmax)"
      ],
      "execution_count": 0,
      "outputs": [
        {
          "output_type": "stream",
          "text": [
            "/usr/local/lib/python3.6/dist-packages/scipy/optimize/minpack.py:808: OptimizeWarning: Covariance of the parameters could not be estimated\n",
            "  category=OptimizeWarning)\n",
            "/usr/local/lib/python3.6/dist-packages/ipykernel_launcher.py:4: RuntimeWarning: overflow encountered in exp\n",
            "  after removing the cwd from sys.path.\n"
          ],
          "name": "stderr"
        }
      ]
    },
    {
      "cell_type": "code",
      "metadata": {
        "id": "Q0JxauZ_8KWP",
        "colab_type": "code",
        "outputId": "49d34af8-840f-40eb-9d80-3ca090d84c3b",
        "colab": {
          "base_uri": "https://localhost:8080/",
          "height": 85
        }
      },
      "source": [
        "c='Italy'\n",
        "start_day='3/1/20'\n",
        "y=get_infected(c,date_start=start_day,date_end=dmax,DataFrame=cv)\n",
        "x=range(1,len(y)+1)\n",
        "spi=dataframe_doubling(x,y,start_date=start_day,final_date=dmax)"
      ],
      "execution_count": 0,
      "outputs": [
        {
          "output_type": "stream",
          "text": [
            "/usr/local/lib/python3.6/dist-packages/scipy/optimize/minpack.py:808: OptimizeWarning: Covariance of the parameters could not be estimated\n",
            "  category=OptimizeWarning)\n",
            "/usr/local/lib/python3.6/dist-packages/ipykernel_launcher.py:4: RuntimeWarning: overflow encountered in exp\n",
            "  after removing the cwd from sys.path.\n"
          ],
          "name": "stderr"
        }
      ]
    },
    {
      "cell_type": "code",
      "metadata": {
        "id": "WIRDT2Z8_nlz",
        "colab_type": "code",
        "outputId": "590339dd-071e-47ce-cf74-5816bbec80e4",
        "colab": {
          "base_uri": "https://localhost:8080/",
          "height": 295
        }
      },
      "source": [
        "plt.plot(spa['day'],spa['Td'],'k--')\n",
        "plt.plot(spa['day'],spa['Td'],'g.',markersize=15,label='Australia')\n",
        "plt.plot(sps['day'],sps['Td'],'k--')\n",
        "plt.plot(sps['day'],sps['Td'],'y.',markersize=15,label='Spain')\n",
        "plt.plot(spi['day'],spi['Td'],'k--')\n",
        "plt.plot(spi['day'],spi['Td'],'c.',markersize=15,label='Italy')\n",
        "plt.plot(sp['day']+8,sp['Td'],'k--')\n",
        "plt.plot(sp['day']+8,sp['Td'],'r.',markersize=15,label='Colombia')\n",
        "\n",
        "plt.title('Example: A DT of 2 means that infections double every 2 days')\n",
        "plt.xlabel('days from {}'.format(\n",
        "    datetime.datetime.strptime(start_day,\"%m/%d/%y\").strftime(\"%B %-d, %Y\")\n",
        "  ))\n",
        "plt.ylabel('Doubling time (DT) in units of days')\n",
        "plt.savefig('doublingtime.png')\n",
        "plt.legend()\n",
        "plt.grid()"
      ],
      "execution_count": 0,
      "outputs": [
        {
          "output_type": "display_data",
          "data": {
            "image/png": "[encoded data removed]",
            "text/plain": [
              "<Figure size 432x288 with 1 Axes>"
            ]
          },
          "metadata": {
            "tags": []
          }
        }
      ]
    },
    {
      "cell_type": "code",
      "metadata": {
        "id": "JW1yUGouZGEp",
        "colab_type": "code",
        "outputId": "e155e4a8-5fd5-46a4-9e04-9b9776259dfd",
        "colab": {
          "base_uri": "https://localhost:8080/",
          "height": 120
        }
      },
      "source": [
        "#Day 1: infections > 10\n",
        "mininf=10\n",
        "c='Italy'\n",
        "start_day='2/19/20'\n",
        "y=get_infected(c,date_start=start_day,date_end=dmax,DataFrame=cv)\n",
        "x=range(1,len(y)+1)\n",
        "spi=dataframe_doubling(x,y,start_date=start_day,final_date=dmax)\n",
        "c='Spain'\n",
        "start_day='2/24/20'\n",
        "y=get_infected(c,date_start=start_day,date_end=dmax,DataFrame=cv)\n",
        "x=range(1,len(y)+1)\n",
        "sps=dataframe_doubling(x,y,start_date=start_day,final_date=dmax)\n",
        "c='Colombia'\n",
        "start_day='3/11/20'\n",
        "y=get_infected(c,date_start=start_day,date_end=dmax,DataFrame=cv)\n",
        "x=range(1,len(y)+1)\n",
        "sp=dataframe_doubling(x,y,start_date=start_day,final_date=dmax)\n",
        "c='Korea, South'\n",
        "start_day='2/18/20'\n",
        "y=get_infected(c,date_start=start_day,date_end='3/11/20',DataFrame=cv)\n",
        "x=range(1,len(y)+1)\n",
        "spk=dataframe_doubling(x,y,start_date=start_day,final_date=dmax)"
      ],
      "execution_count": 0,
      "outputs": [
        {
          "output_type": "stream",
          "text": [
            "/usr/local/lib/python3.6/dist-packages/ipykernel_launcher.py:4: RuntimeWarning: overflow encountered in exp\n",
            "  after removing the cwd from sys.path.\n",
            "/usr/local/lib/python3.6/dist-packages/scipy/optimize/minpack.py:808: OptimizeWarning: Covariance of the parameters could not be estimated\n",
            "  category=OptimizeWarning)\n",
            "/usr/local/lib/python3.6/dist-packages/ipykernel_launcher.py:4: RuntimeWarning: overflow encountered in multiply\n",
            "  after removing the cwd from sys.path.\n"
          ],
          "name": "stderr"
        }
      ]
    },
    {
      "cell_type": "code",
      "metadata": {
        "id": "q7OMgha4bClY",
        "colab_type": "code",
        "outputId": "c3899b2e-5708-45c6-a28b-88374ea3e4f9",
        "colab": {
          "base_uri": "https://localhost:8080/",
          "height": 34
        }
      },
      "source": [
        "fd=sp['day'].max()-3\n",
        "fd"
      ],
      "execution_count": 0,
      "outputs": [
        {
          "output_type": "execute_result",
          "data": {
            "text/plain": [
              "9"
            ]
          },
          "metadata": {
            "tags": []
          },
          "execution_count": 33
        }
      ]
    },
    {
      "cell_type": "code",
      "metadata": {
        "id": "VL8NiON4bjwH",
        "colab_type": "code",
        "outputId": "918bb461-4825-444d-d6cf-a2c293ee4410",
        "colab": {
          "base_uri": "https://localhost:8080/",
          "height": 356
        }
      },
      "source": [
        "sp"
      ],
      "execution_count": 0,
      "outputs": [
        {
          "output_type": "execute_result",
          "data": {
            "text/html": [
              "<div>\n",
              "<style scoped>\n",
              "    .dataframe tbody tr th:only-of-type {\n",
              "        vertical-align: middle;\n",
              "    }\n",
              "\n",
              "    .dataframe tbody tr th {\n",
              "        vertical-align: top;\n",
              "    }\n",
              "\n",
              "    .dataframe thead th {\n",
              "        text-align: right;\n",
              "    }\n",
              "</style>\n",
              "<table border=\"1\" class=\"dataframe\">\n",
              "  <thead>\n",
              "    <tr style=\"text-align: right;\">\n",
              "      <th></th>\n",
              "      <th>N0</th>\n",
              "      <th>Td</th>\n",
              "      <th>day</th>\n",
              "      <th>final_date</th>\n",
              "      <th>g</th>\n",
              "      <th>infections</th>\n",
              "      <th>start_date</th>\n",
              "      <th>t0</th>\n",
              "    </tr>\n",
              "  </thead>\n",
              "  <tbody>\n",
              "    <tr>\n",
              "      <th>0</th>\n",
              "      <td>6.728982</td>\n",
              "      <td>3.347242</td>\n",
              "      <td>3</td>\n",
              "      <td>3/22/20</td>\n",
              "      <td>0.207080</td>\n",
              "      <td>13</td>\n",
              "      <td>3/11/20</td>\n",
              "      <td>0.001314</td>\n",
              "    </tr>\n",
              "    <tr>\n",
              "      <th>1</th>\n",
              "      <td>14.599336</td>\n",
              "      <td>1.861427</td>\n",
              "      <td>4</td>\n",
              "      <td>3/22/20</td>\n",
              "      <td>0.372374</td>\n",
              "      <td>22</td>\n",
              "      <td>3/11/20</td>\n",
              "      <td>3.008103</td>\n",
              "    </tr>\n",
              "    <tr>\n",
              "      <th>2</th>\n",
              "      <td>4.621602</td>\n",
              "      <td>1.665480</td>\n",
              "      <td>5</td>\n",
              "      <td>3/22/20</td>\n",
              "      <td>0.416185</td>\n",
              "      <td>34</td>\n",
              "      <td>3/11/20</td>\n",
              "      <td>0.237243</td>\n",
              "    </tr>\n",
              "    <tr>\n",
              "      <th>3</th>\n",
              "      <td>2.498830</td>\n",
              "      <td>1.575930</td>\n",
              "      <td>6</td>\n",
              "      <td>3/22/20</td>\n",
              "      <td>0.439834</td>\n",
              "      <td>54</td>\n",
              "      <td>3/11/20</td>\n",
              "      <td>-0.967873</td>\n",
              "    </tr>\n",
              "    <tr>\n",
              "      <th>4</th>\n",
              "      <td>3.652493</td>\n",
              "      <td>1.918897</td>\n",
              "      <td>7</td>\n",
              "      <td>3/22/20</td>\n",
              "      <td>0.361222</td>\n",
              "      <td>65</td>\n",
              "      <td>3/11/20</td>\n",
              "      <td>-1.112104</td>\n",
              "    </tr>\n",
              "    <tr>\n",
              "      <th>5</th>\n",
              "      <td>4.634011</td>\n",
              "      <td>2.000350</td>\n",
              "      <td>8</td>\n",
              "      <td>3/22/20</td>\n",
              "      <td>0.346513</td>\n",
              "      <td>93</td>\n",
              "      <td>3/11/20</td>\n",
              "      <td>-0.692708</td>\n",
              "    </tr>\n",
              "    <tr>\n",
              "      <th>6</th>\n",
              "      <td>3.863360</td>\n",
              "      <td>2.401611</td>\n",
              "      <td>9</td>\n",
              "      <td>3/22/20</td>\n",
              "      <td>0.288618</td>\n",
              "      <td>102</td>\n",
              "      <td>3/11/20</td>\n",
              "      <td>-2.627801</td>\n",
              "    </tr>\n",
              "    <tr>\n",
              "      <th>7</th>\n",
              "      <td>8.339959</td>\n",
              "      <td>2.636325</td>\n",
              "      <td>10</td>\n",
              "      <td>3/22/20</td>\n",
              "      <td>0.262922</td>\n",
              "      <td>128</td>\n",
              "      <td>3/11/20</td>\n",
              "      <td>-0.578702</td>\n",
              "    </tr>\n",
              "    <tr>\n",
              "      <th>8</th>\n",
              "      <td>3.882525</td>\n",
              "      <td>2.440531</td>\n",
              "      <td>11</td>\n",
              "      <td>3/22/20</td>\n",
              "      <td>0.284015</td>\n",
              "      <td>196</td>\n",
              "      <td>3/11/20</td>\n",
              "      <td>-2.681549</td>\n",
              "    </tr>\n",
              "    <tr>\n",
              "      <th>9</th>\n",
              "      <td>4.653448</td>\n",
              "      <td>2.578964</td>\n",
              "      <td>12</td>\n",
              "      <td>3/22/20</td>\n",
              "      <td>0.268770</td>\n",
              "      <td>231</td>\n",
              "      <td>3/11/20</td>\n",
              "      <td>-2.633674</td>\n",
              "    </tr>\n",
              "  </tbody>\n",
              "</table>\n",
              "</div>"
            ],
            "text/plain": [
              "          N0        Td  day  ... infections  start_date        t0\n",
              "0   6.728982  3.347242    3  ...         13     3/11/20  0.001314\n",
              "1  14.599336  1.861427    4  ...         22     3/11/20  3.008103\n",
              "2   4.621602  1.665480    5  ...         34     3/11/20  0.237243\n",
              "3   2.498830  1.575930    6  ...         54     3/11/20 -0.967873\n",
              "4   3.652493  1.918897    7  ...         65     3/11/20 -1.112104\n",
              "5   4.634011  2.000350    8  ...         93     3/11/20 -0.692708\n",
              "6   3.863360  2.401611    9  ...        102     3/11/20 -2.627801\n",
              "7   8.339959  2.636325   10  ...        128     3/11/20 -0.578702\n",
              "8   3.882525  2.440531   11  ...        196     3/11/20 -2.681549\n",
              "9   4.653448  2.578964   12  ...        231     3/11/20 -2.633674\n",
              "\n",
              "[10 rows x 8 columns]"
            ]
          },
          "metadata": {
            "tags": []
          },
          "execution_count": 34
        }
      ]
    },
    {
      "cell_type": "code",
      "metadata": {
        "id": "NUqy2YTj8z8G",
        "colab_type": "code",
        "outputId": "409a5f70-4c77-497f-eb2d-b6c358e09c56",
        "colab": {
          "base_uri": "https://localhost:8080/",
          "height": 295
        }
      },
      "source": [
        "plt.plot(sp['day']-2,sp['Td'],'k--')\n",
        "plt.plot(sp['day']-2,sp['Td'],'r.',markersize=15,\n",
        "         label='Colombia → infections day {}: {}'.format(\n",
        "                 fd+3,sp.loc[fd-1,'infections']))\n",
        "plt.plot(sps['day']-2,sps['Td'],'k--')\n",
        "plt.plot(sps['day']-2,sps['Td'],'y.',markersize=15,\n",
        "         label='Spain → infections day {}: {}'.format(\n",
        "                 fd+3,sps.loc[fd-1,'infections']))\n",
        "plt.plot(spi['day']-2,spi['Td'],'k--')\n",
        "plt.plot(spi['day']-2,spi['Td'],'c.',markersize=15,\n",
        "         label='Italy → infections day {}: {}'.format(\n",
        "                 fd+3,spi.loc[fd-1,'infections']))\n",
        "plt.plot(spk['day']-2,spk['Td'],'k--')\n",
        "plt.plot(spk['day']-2,spk['Td'],'g.',markersize=15,\n",
        "         label='Korea → infections day {}: {}'.format(\n",
        "                 fd+3,spk.loc[fd-1,'infections']))\n",
        "\n",
        "plt.legend()\n",
        "plt.title('Day 1: infections > 10')\n",
        "plt.xlabel('days')\n",
        "plt.ylabel('Doubling time (DT) in units of days')\n",
        "plt.legend()\n",
        "plt.grid()\n",
        "plt.xlim(1,spi['day'].max())\n",
        "plt.savefig('contention.png')"
      ],
      "execution_count": 0,
      "outputs": [
        {
          "output_type": "display_data",
          "data": {
            "image/png": "[encoded data removed]",
            "text/plain": [
              "<Figure size 432x288 with 1 Axes>"
            ]
          },
          "metadata": {
            "tags": []
          }
        }
      ]
    },
    {
      "cell_type": "markdown",
      "metadata": {
        "id": "VBUfaYgEjfo4",
        "colab_type": "text"
      },
      "source": [
        "### Last update"
      ]
    },
    {
      "cell_type": "code",
      "metadata": {
        "id": "r3SZix2TbpbJ",
        "colab_type": "code",
        "outputId": "1745e1c9-da5d-4e03-a422-697f759543f8",
        "colab": {
          "base_uri": "https://localhost:8080/",
          "height": 79
        }
      },
      "source": [
        "cv[cv['Country/Region']=='Colombia'][[dmax]]"
      ],
      "execution_count": 0,
      "outputs": [
        {
          "output_type": "execute_result",
          "data": {
            "text/html": [
              "<div>\n",
              "<style scoped>\n",
              "    .dataframe tbody tr th:only-of-type {\n",
              "        vertical-align: middle;\n",
              "    }\n",
              "\n",
              "    .dataframe tbody tr th {\n",
              "        vertical-align: top;\n",
              "    }\n",
              "\n",
              "    .dataframe thead th {\n",
              "        text-align: right;\n",
              "    }\n",
              "</style>\n",
              "<table border=\"1\" class=\"dataframe\">\n",
              "  <thead>\n",
              "    <tr style=\"text-align: right;\">\n",
              "      <th></th>\n",
              "      <th>3/22/20</th>\n",
              "    </tr>\n",
              "  </thead>\n",
              "  <tbody>\n",
              "    <tr>\n",
              "      <th>73</th>\n",
              "      <td>231</td>\n",
              "    </tr>\n",
              "  </tbody>\n",
              "</table>\n",
              "</div>"
            ],
            "text/plain": [
              "    3/22/20\n",
              "73      231"
            ]
          },
          "metadata": {
            "tags": []
          },
          "execution_count": 38
        }
      ]
    },
    {
      "cell_type": "markdown",
      "metadata": {
        "id": "L9T51Hfdl6fv",
        "colab_type": "text"
      },
      "source": [
        "## Last official data from Colombia"
      ]
    },
    {
      "cell_type": "code",
      "metadata": {
        "id": "0v39TKzxW2Rp",
        "colab_type": "code",
        "colab": {}
      },
      "source": [
        "import requests\n",
        "\n",
        "r=requests.get('https://infogram.com/covid-2019-ins-colombia-1hnq41zg9ord63z')\n",
        "\n",
        "head='\"data\":[[[\"ID de caso\",'\n",
        "tail=']]]'\n",
        "js='{}{}{}'.format( head.split(':')[-1],\n",
        "                 r.text.split(head)[-1].split(tail)[0],\n",
        "                 tail\n",
        "             )\n",
        "\n",
        "df=pd.read_json(js)\n",
        "\n",
        "coco=pd.DataFrame([l for l in df[range(1,df.columns[-1]+1)].values[0]],columns=df[0][0] )\n",
        "coco['Fecha']=pd.to_datetime(coco['Fecha de diagnóstico'],format=\"%d/%m/%Y\")"
      ],
      "execution_count": 0,
      "outputs": []
    },
    {
      "cell_type": "code",
      "metadata": {
        "id": "tCDbyMS3YCKH",
        "colab_type": "code",
        "outputId": "1e470ce1-8236-45dd-f435-0ce7ecfb75b2",
        "colab": {
          "base_uri": "https://localhost:8080/",
          "height": 695
        }
      },
      "source": [
        "coco[coco['Fecha de diagnóstico']==coco['Fecha de diagnóstico'].tolist()[-1]]"
      ],
      "execution_count": 0,
      "outputs": [
        {
          "output_type": "execute_result",
          "data": {
            "text/html": [
              "<div>\n",
              "<style scoped>\n",
              "    .dataframe tbody tr th:only-of-type {\n",
              "        vertical-align: middle;\n",
              "    }\n",
              "\n",
              "    .dataframe tbody tr th {\n",
              "        vertical-align: top;\n",
              "    }\n",
              "\n",
              "    .dataframe thead th {\n",
              "        text-align: right;\n",
              "    }\n",
              "</style>\n",
              "<table border=\"1\" class=\"dataframe\">\n",
              "  <thead>\n",
              "    <tr style=\"text-align: right;\">\n",
              "      <th></th>\n",
              "      <th>ID de caso</th>\n",
              "      <th>Fecha de diagnóstico</th>\n",
              "      <th>Ciudad de ubicación</th>\n",
              "      <th>Atención</th>\n",
              "      <th>Edad</th>\n",
              "      <th>Sexo</th>\n",
              "      <th>Tipo*</th>\n",
              "      <th>País de procedencia</th>\n",
              "      <th>Fecha</th>\n",
              "    </tr>\n",
              "  </thead>\n",
              "  <tbody>\n",
              "    <tr>\n",
              "      <th>210</th>\n",
              "      <td>211</td>\n",
              "      <td>22/03/2020</td>\n",
              "      <td>Calarcá</td>\n",
              "      <td>casa</td>\n",
              "      <td>20 a 29</td>\n",
              "      <td>M</td>\n",
              "      <td>Importado</td>\n",
              "      <td>España</td>\n",
              "      <td>2020-03-22</td>\n",
              "    </tr>\n",
              "    <tr>\n",
              "      <th>211</th>\n",
              "      <td>212</td>\n",
              "      <td>22/03/2020</td>\n",
              "      <td>Armenia</td>\n",
              "      <td>casa</td>\n",
              "      <td>50 a 59</td>\n",
              "      <td>F</td>\n",
              "      <td>Relacionado</td>\n",
              "      <td>Colombia</td>\n",
              "      <td>2020-03-22</td>\n",
              "    </tr>\n",
              "    <tr>\n",
              "      <th>212</th>\n",
              "      <td>213</td>\n",
              "      <td>22/03/2020</td>\n",
              "      <td>Valledupar</td>\n",
              "      <td>casa</td>\n",
              "      <td>30 a 39</td>\n",
              "      <td>M</td>\n",
              "      <td>Importado</td>\n",
              "      <td>España</td>\n",
              "      <td>2020-03-22</td>\n",
              "    </tr>\n",
              "    <tr>\n",
              "      <th>213</th>\n",
              "      <td>214</td>\n",
              "      <td>22/03/2020</td>\n",
              "      <td>Pereira</td>\n",
              "      <td>casa</td>\n",
              "      <td>50 a 59</td>\n",
              "      <td>F</td>\n",
              "      <td>Relacionado</td>\n",
              "      <td>Colombia</td>\n",
              "      <td>2020-03-22</td>\n",
              "    </tr>\n",
              "    <tr>\n",
              "      <th>214</th>\n",
              "      <td>215</td>\n",
              "      <td>22/03/2020</td>\n",
              "      <td>Pereira</td>\n",
              "      <td>casa</td>\n",
              "      <td>50 a 59</td>\n",
              "      <td>F</td>\n",
              "      <td>Importado</td>\n",
              "      <td>Grecia</td>\n",
              "      <td>2020-03-22</td>\n",
              "    </tr>\n",
              "    <tr>\n",
              "      <th>215</th>\n",
              "      <td>216</td>\n",
              "      <td>22/03/2020</td>\n",
              "      <td>Dosquebradas</td>\n",
              "      <td>casa</td>\n",
              "      <td>40 a 49</td>\n",
              "      <td>M</td>\n",
              "      <td>Importado</td>\n",
              "      <td>España</td>\n",
              "      <td>2020-03-22</td>\n",
              "    </tr>\n",
              "    <tr>\n",
              "      <th>216</th>\n",
              "      <td>217</td>\n",
              "      <td>22/03/2020</td>\n",
              "      <td>Pereira</td>\n",
              "      <td>casa</td>\n",
              "      <td>30 a 39</td>\n",
              "      <td>M</td>\n",
              "      <td>En estudio</td>\n",
              "      <td>Colombia</td>\n",
              "      <td>2020-03-22</td>\n",
              "    </tr>\n",
              "    <tr>\n",
              "      <th>217</th>\n",
              "      <td>218</td>\n",
              "      <td>22/03/2020</td>\n",
              "      <td>La Dorada</td>\n",
              "      <td>casa</td>\n",
              "      <td>20 a 29</td>\n",
              "      <td>F</td>\n",
              "      <td>En estudio</td>\n",
              "      <td>Colombia</td>\n",
              "      <td>2020-03-22</td>\n",
              "    </tr>\n",
              "    <tr>\n",
              "      <th>218</th>\n",
              "      <td>219</td>\n",
              "      <td>22/03/2020</td>\n",
              "      <td>Chinchiná</td>\n",
              "      <td>casa</td>\n",
              "      <td>50 a 59</td>\n",
              "      <td>M</td>\n",
              "      <td>Importado</td>\n",
              "      <td>España</td>\n",
              "      <td>2020-03-22</td>\n",
              "    </tr>\n",
              "    <tr>\n",
              "      <th>219</th>\n",
              "      <td>220</td>\n",
              "      <td>22/03/2020</td>\n",
              "      <td>Chinchiná</td>\n",
              "      <td>casa</td>\n",
              "      <td>40 a 49</td>\n",
              "      <td>F</td>\n",
              "      <td>Relacionado</td>\n",
              "      <td>Colombia</td>\n",
              "      <td>2020-03-22</td>\n",
              "    </tr>\n",
              "    <tr>\n",
              "      <th>220</th>\n",
              "      <td>221</td>\n",
              "      <td>22/03/2020</td>\n",
              "      <td>Bucaramanga</td>\n",
              "      <td>casa</td>\n",
              "      <td>50 a 59</td>\n",
              "      <td>F</td>\n",
              "      <td>Importado</td>\n",
              "      <td>República Dominicana</td>\n",
              "      <td>2020-03-22</td>\n",
              "    </tr>\n",
              "    <tr>\n",
              "      <th>221</th>\n",
              "      <td>222</td>\n",
              "      <td>22/03/2020</td>\n",
              "      <td>San Andrés Islas</td>\n",
              "      <td>casa</td>\n",
              "      <td>30 a 39</td>\n",
              "      <td>M</td>\n",
              "      <td>Relacionado</td>\n",
              "      <td>Colombia</td>\n",
              "      <td>2020-03-22</td>\n",
              "    </tr>\n",
              "    <tr>\n",
              "      <th>222</th>\n",
              "      <td>223</td>\n",
              "      <td>22/03/2020</td>\n",
              "      <td>Pereira</td>\n",
              "      <td>casa</td>\n",
              "      <td>70 a 79</td>\n",
              "      <td>F</td>\n",
              "      <td>Importado</td>\n",
              "      <td>Estados Unidos</td>\n",
              "      <td>2020-03-22</td>\n",
              "    </tr>\n",
              "    <tr>\n",
              "      <th>223</th>\n",
              "      <td>224</td>\n",
              "      <td>22/03/2020</td>\n",
              "      <td>Ibagué</td>\n",
              "      <td>casa</td>\n",
              "      <td>10 a 19</td>\n",
              "      <td>M</td>\n",
              "      <td>Relacionado</td>\n",
              "      <td>Colombia</td>\n",
              "      <td>2020-03-22</td>\n",
              "    </tr>\n",
              "    <tr>\n",
              "      <th>224</th>\n",
              "      <td>225</td>\n",
              "      <td>22/03/2020</td>\n",
              "      <td>Cali</td>\n",
              "      <td>casa</td>\n",
              "      <td>20 a 29</td>\n",
              "      <td>M</td>\n",
              "      <td>Relacionado</td>\n",
              "      <td>Colombia</td>\n",
              "      <td>2020-03-22</td>\n",
              "    </tr>\n",
              "    <tr>\n",
              "      <th>225</th>\n",
              "      <td>226</td>\n",
              "      <td>22/03/2020</td>\n",
              "      <td>Yumbo</td>\n",
              "      <td>casa</td>\n",
              "      <td>40 a 49</td>\n",
              "      <td>F</td>\n",
              "      <td>Relacionado</td>\n",
              "      <td>Colombia</td>\n",
              "      <td>2020-03-22</td>\n",
              "    </tr>\n",
              "    <tr>\n",
              "      <th>226</th>\n",
              "      <td>227</td>\n",
              "      <td>22/03/2020</td>\n",
              "      <td>Cali</td>\n",
              "      <td>casa</td>\n",
              "      <td>20 a 29</td>\n",
              "      <td>M</td>\n",
              "      <td>Importado</td>\n",
              "      <td>Estados Unidos</td>\n",
              "      <td>2020-03-22</td>\n",
              "    </tr>\n",
              "    <tr>\n",
              "      <th>227</th>\n",
              "      <td>228</td>\n",
              "      <td>22/03/2020</td>\n",
              "      <td>Cali</td>\n",
              "      <td>casa</td>\n",
              "      <td>20 a 29</td>\n",
              "      <td>M</td>\n",
              "      <td>Importado</td>\n",
              "      <td>España</td>\n",
              "      <td>2020-03-22</td>\n",
              "    </tr>\n",
              "    <tr>\n",
              "      <th>228</th>\n",
              "      <td>229</td>\n",
              "      <td>22/03/2020</td>\n",
              "      <td>Yopal</td>\n",
              "      <td>casa</td>\n",
              "      <td>30 a 39</td>\n",
              "      <td>F</td>\n",
              "      <td>Relacionado</td>\n",
              "      <td>Colombia</td>\n",
              "      <td>2020-03-22</td>\n",
              "    </tr>\n",
              "    <tr>\n",
              "      <th>229</th>\n",
              "      <td>230</td>\n",
              "      <td>22/03/2020</td>\n",
              "      <td>Armenia</td>\n",
              "      <td>casa</td>\n",
              "      <td>30 a 39</td>\n",
              "      <td>F</td>\n",
              "      <td>Relacionado</td>\n",
              "      <td>Colombia</td>\n",
              "      <td>2020-03-22</td>\n",
              "    </tr>\n",
              "    <tr>\n",
              "      <th>230</th>\n",
              "      <td>231</td>\n",
              "      <td>22/03/2020</td>\n",
              "      <td>Cali</td>\n",
              "      <td>casa</td>\n",
              "      <td>40 a 49</td>\n",
              "      <td>F</td>\n",
              "      <td>Relacionado</td>\n",
              "      <td>Colombia</td>\n",
              "      <td>2020-03-22</td>\n",
              "    </tr>\n",
              "  </tbody>\n",
              "</table>\n",
              "</div>"
            ],
            "text/plain": [
              "    ID de caso Fecha de diagnóstico  ...   País de procedencia      Fecha\n",
              "210        211           22/03/2020  ...                España 2020-03-22\n",
              "211        212           22/03/2020  ...              Colombia 2020-03-22\n",
              "212        213           22/03/2020  ...                España 2020-03-22\n",
              "213        214           22/03/2020  ...              Colombia 2020-03-22\n",
              "214        215           22/03/2020  ...                Grecia 2020-03-22\n",
              "215        216           22/03/2020  ...                España 2020-03-22\n",
              "216        217           22/03/2020  ...              Colombia 2020-03-22\n",
              "217        218           22/03/2020  ...              Colombia 2020-03-22\n",
              "218        219           22/03/2020  ...                España 2020-03-22\n",
              "219        220           22/03/2020  ...              Colombia 2020-03-22\n",
              "220        221           22/03/2020  ...  República Dominicana 2020-03-22\n",
              "221        222           22/03/2020  ...              Colombia 2020-03-22\n",
              "222        223           22/03/2020  ...        Estados Unidos 2020-03-22\n",
              "223        224           22/03/2020  ...              Colombia 2020-03-22\n",
              "224        225           22/03/2020  ...              Colombia 2020-03-22\n",
              "225        226           22/03/2020  ...              Colombia 2020-03-22\n",
              "226        227           22/03/2020  ...        Estados Unidos 2020-03-22\n",
              "227        228           22/03/2020  ...                España 2020-03-22\n",
              "228        229           22/03/2020  ...              Colombia 2020-03-22\n",
              "229        230           22/03/2020  ...              Colombia 2020-03-22\n",
              "230        231           22/03/2020  ...              Colombia 2020-03-22\n",
              "\n",
              "[21 rows x 9 columns]"
            ]
          },
          "metadata": {
            "tags": []
          },
          "execution_count": 51
        }
      ]
    },
    {
      "cell_type": "code",
      "metadata": {
        "id": "_9YnXQtAKOdd",
        "colab_type": "code",
        "colab": {}
      },
      "source": [
        ""
      ],
      "execution_count": 0,
      "outputs": []
    }
  ]
}