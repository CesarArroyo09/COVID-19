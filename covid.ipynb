{
  "nbformat": 4,
  "nbformat_minor": 0,
  "metadata": {
    "kernelspec": {
      "display_name": "Python 3",
      "language": "python",
      "name": "python3"
    },
    "language_info": {
      "codemirror_mode": {
        "name": "ipython",
        "version": 3
      },
      "file_extension": ".py",
      "mimetype": "text/x-python",
      "name": "python",
      "nbconvert_exporter": "python",
      "pygments_lexer": "ipython3",
      "version": "3.7.3"
    },
    "colab": {
      "name": "covid.ipynb",
      "provenance": [],
      "include_colab_link": true
    }
  },
  "cells": [
    {
      "cell_type": "markdown",
      "metadata": {
        "id": "view-in-github",
        "colab_type": "text"
      },
      "source": [
        "<a href=\"https://colab.research.google.com/github/restrepo/COVID-19/blob/master/covid.ipynb\" target=\"_parent\"><img src=\"https://colab.research.google.com/assets/colab-badge.svg\" alt=\"Open In Colab\"/></a>"
      ]
    },
    {
      "cell_type": "markdown",
      "metadata": {
        "id": "AyVdvXDHSegL",
        "colab_type": "text"
      },
      "source": [
        "# Covid-19 data for Colombia"
      ]
    },
    {
      "cell_type": "markdown",
      "metadata": {
        "id": "mgzzuuteSegO",
        "colab_type": "text"
      },
      "source": [
        "Use of [public Covid-19 in GitHub](https://github.com/CSSEGISandData/COVID-19) data from: \n",
        "[Center for Systems Science and Engineering (CSSE)](https://systems.jhu.edu/):\n",
        "\n",
        "* Hongru Du, Lauren Gardner, and Ensheng Dong, An interactive web-based dashboard to track COVID-19 in real time, http://www.thelancet.com/infection Published:February 19, 2020, DOI:https://doi.org/10.1016/S1473-3099(20)30120-1\n",
        "\n",
        "For examples of use of the data see Jupyter Notebook `covid19_analysis.ipynb`: [[local](./covid19_analysis.ipynb)] [[GitHub](https://github.com/restrepo/Covid-19/blob/master/covid_analysis.ipynb)] [[Colab](https://colab.research.google.com/github/restrepo/Covid-19/blob/master/covid_analysis.ipynb)]\n",
        "\n",
        "[Official Colombia data](https://infogram.com/covid-2019-ins-colombia-1hnq41zg9ord63z)"
      ]
    },
    {
      "cell_type": "code",
      "metadata": {
        "id": "CETEHcSKSegP",
        "colab_type": "code",
        "outputId": "b38463de-d68f-4246-9785-abbfd6a7587e",
        "colab": {
          "base_uri": "https://localhost:8080/",
          "height": 85
        }
      },
      "source": [
        "%pylab inline"
      ],
      "execution_count": 45,
      "outputs": [
        {
          "output_type": "stream",
          "text": [
            "Populating the interactive namespace from numpy and matplotlib\n"
          ],
          "name": "stdout"
        },
        {
          "output_type": "stream",
          "text": [
            "/usr/local/lib/python3.6/dist-packages/IPython/core/magics/pylab.py:161: UserWarning: pylab import has clobbered these variables: ['DataSource']\n",
            "`%matplotlib` prevents importing * from pylab and numpy\n",
            "  \"\\n`%matplotlib` prevents importing * from pylab and numpy\"\n"
          ],
          "name": "stderr"
        }
      ]
    },
    {
      "cell_type": "code",
      "metadata": {
        "id": "ayDS570kSegT",
        "colab_type": "code",
        "colab": {}
      },
      "source": [
        "import pandas as pd\n",
        "import re\n",
        "#See https://strftime.org/\n",
        "import datetime"
      ],
      "execution_count": 0,
      "outputs": []
    },
    {
      "cell_type": "code",
      "metadata": {
        "id": "wHmtr6kKxN8S",
        "colab_type": "code",
        "colab": {}
      },
      "source": [
        "def date_range(date_start='2/23/20',date_end='3/03/20',date_step=1):\n",
        "    dr=[]\n",
        "    start = datetime.datetime.strptime(date_start, \"%m/%d/%y\")\n",
        "    end = datetime.datetime.strptime(date_end, \"%m/%d/%y\")\n",
        "    step = datetime.timedelta(days=date_step)\n",
        "    while start <= end:\n",
        "        #avoid leading zeroes: https://stackoverflow.com/a/2073189/2268280\n",
        "        dr.append(start.strftime(\"%-m/%-d/%y\"))\n",
        "        start += step\n",
        "    return dr\n",
        "\n",
        "def get_sum_series(cvn):\n",
        "    cs=cvn.sum()\n",
        "    cs['Province/State']='All'\n",
        "    cs['Country/Region']=cvn['Country/Region'].unique()[0]\n",
        "    cs['Lat']=round( cvn['Lat'].mean(),3 )\n",
        "    cs['Long']=round( cvn['Long'].mean(),3 )\n",
        "    return cs\n",
        "\n",
        "def merge_country(cva):\n",
        "    cvo=pd.DataFrame()\n",
        "\n",
        "    multi_country=[]\n",
        "    for c in cva['Country/Region']:\n",
        "        if c not in multi_country:\n",
        "            cvn=cva[cva['Country/Region']==c].reset_index(drop=True)\n",
        "            if cvn.shape[0]>1:\n",
        "                multi_country.append(c)\n",
        "                cvo=cvo.append(get_sum_series(cvn),ignore_index=True)\n",
        "            else:\n",
        "                cvo=cvo.append(cvn,sort=False)\n",
        "\n",
        "    cvo=cvo[cva.columns].reset_index(drop=True)\n",
        "\n",
        "    #Special cases\n",
        "    sc=cva[cva['Province/State']=='Hong Kong'].reset_index(drop=True)\n",
        "    sc['Country/Region']='Hong Kong'\n",
        "    if sc.shape[0]==1:\n",
        "        cvo=cvo.append(sc,sort=False)\n",
        "        cvo=cvo.reset_index(drop=True)    \n",
        "    return cvo\n",
        "\n",
        "def get_infected(country,date_start=None,date_end=None,DataFrame=None,\n",
        "      DataSource='https://raw.githubusercontent.com/CSSEGISandData/COVID-19/',\n",
        "      DataFile='master/csse_covid_19_data/csse_covid_19_time_series/time_series_19-covid-Confirmed.csv'\n",
        "      ):\n",
        "    '''\n",
        "    Obtenga la lista de infectados de un país\n",
        "     country: País\n",
        "     date_start: Fecha inicial en el formato MM/DD/YY, e.g. '3/10/20' o None\n",
        "     date_end  : Fecha final en el formato MM/DD/YY, e.g. '3/10/20' o None\n",
        "     si alguna de las fechas esta en None se toma de los extremos del rango\n",
        "     de fechas disponible\n",
        "    '''\n",
        "    if DataFrame is None:\n",
        "        cva=pd.read_csv('{}{}'.format(data_source,data_file))\n",
        "        cva=cva.reset_index(drop=True)\n",
        "    else:\n",
        "        cva=DataFrame.copy()\n",
        "\n",
        "    d=[ c for c in cva.columns if re.search(r'^[0-9]{1,2}\\/[0-9]{1,2}\\/[1920]{2}',c)]\n",
        "    if not date_start:\n",
        "        date_start=d[0]\n",
        "    if not date_end:\n",
        "        date_end=d[-1]\n",
        "    dr=date_range(date_start=date_start,date_end=date_end)\n",
        "    cvrg=cva[cva['Country/Region']==country].reset_index(drop=True)\n",
        "    y=cvrg[dr].values.tolist()[0]\n",
        "    return y\n",
        "\n",
        "def dataframe_doubling(x,y,start_date,final_date):\n",
        "    '''\n",
        "    x: list of days\n",
        "    y: list of infections\n",
        "    '''\n",
        "    sp=pd.DataFrame()\n",
        "    if len(x)<3:\n",
        "        print('WARNING: Not enough data: at least 3 days')\n",
        "        return sp\n",
        "    spd={'start_date':start_date,'final_date':final_date}\n",
        "    for d in x[2:]:\n",
        "        exp_fit = opt.curve_fit(exponential_model,x[:d],y[:d],p0=[1,0.4,3])\n",
        "        spd['g']=exp_fit[0][1]\n",
        "        N0=exp_fit[0][0];g=exp_fit[0][1];t0=exp_fit[0][2]\n",
        "        if exponential_model(t0,N0,g,t0)==N0:\n",
        "            Td=np.log(2)/g\n",
        "            spd['N0']=exp_fit[0][0]\n",
        "            spd['t0']=exp_fit[0][2]\n",
        "            spd['Td']=Td\n",
        "            spd['day']=d\n",
        "            spd['infections']=y[d-1]\n",
        "        sp=sp.append(spd,ignore_index=True)\n",
        "\n",
        "    sp['day']=sp['day'].astype(int)\n",
        "    sp['infections']=sp['infections'].astype(int)\n",
        "    return sp"
      ],
      "execution_count": 0,
      "outputs": []
    },
    {
      "cell_type": "markdown",
      "metadata": {
        "id": "YhCXT6zdSegW",
        "colab_type": "text"
      },
      "source": [
        "## Load data"
      ]
    },
    {
      "cell_type": "code",
      "metadata": {
        "id": "0_gnDzNISegX",
        "colab_type": "code",
        "colab": {}
      },
      "source": [
        "DataSource='https://raw.githubusercontent.com/CSSEGISandData/COVID-19/'\n",
        "DataFile='master/csse_covid_19_data/csse_covid_19_time_series/time_series_19-covid-Confirmed.csv'\n",
        "cva=pd.read_csv('{}{}'.format(DataSource,DataFile))\n",
        "cva=cva.reset_index(drop=True)"
      ],
      "execution_count": 0,
      "outputs": []
    },
    {
      "cell_type": "markdown",
      "metadata": {
        "id": "jRbRPRjSSega",
        "colab_type": "text"
      },
      "source": [
        "## Normalize data\n",
        "Be sure to have only a row for country"
      ]
    },
    {
      "cell_type": "code",
      "metadata": {
        "id": "Rmikf1jhSegb",
        "colab_type": "code",
        "outputId": "ac53cddd-3fdf-4787-851e-cf52f3e8d06c",
        "colab": {
          "base_uri": "https://localhost:8080/",
          "height": 34
        }
      },
      "source": [
        "cv=merge_country(cva)\n",
        "cv.shape"
      ],
      "execution_count": 49,
      "outputs": [
        {
          "output_type": "execute_result",
          "data": {
            "text/plain": [
              "(167, 64)"
            ]
          },
          "metadata": {
            "tags": []
          },
          "execution_count": 49
        }
      ]
    },
    {
      "cell_type": "code",
      "metadata": {
        "colab_type": "code",
        "id": "b0OwAOtd0cQh",
        "colab": {}
      },
      "source": [
        "d=[ c for c in cv.columns if re.search(r'^[0-9]{1,2}\\/[0-9]{1,2}\\/[1920]{2}',c)]"
      ],
      "execution_count": 0,
      "outputs": []
    },
    {
      "cell_type": "markdown",
      "metadata": {
        "id": "Wr_8XBT5jydT",
        "colab_type": "text"
      },
      "source": [
        "last update"
      ]
    },
    {
      "cell_type": "code",
      "metadata": {
        "id": "EIsLe1SJPssU",
        "colab_type": "code",
        "outputId": "f5a0da8b-679f-4f14-895b-0710fe952220",
        "colab": {
          "base_uri": "https://localhost:8080/",
          "height": 34
        }
      },
      "source": [
        "dmax=d[-1]\n",
        "dmax"
      ],
      "execution_count": 51,
      "outputs": [
        {
          "output_type": "execute_result",
          "data": {
            "text/plain": [
              "'3/21/20'"
            ]
          },
          "metadata": {
            "tags": []
          },
          "execution_count": 51
        }
      ]
    },
    {
      "cell_type": "markdown",
      "metadata": {
        "id": "n0oKGDTursX1",
        "colab_type": "text"
      },
      "source": [
        "## Fit to logistic or exponential model\n",
        "See: \n",
        "* https://twitter.com/burkert_andreas/status/1239692655833071616\n",
        "    * https://raw.githubusercontent.com/restrepo/Covid-19/master/covid-19.jpeg\n",
        "\n",
        "* Method for Python explained in \n",
        "[Covid-19 infection in Italy. Mathematical models and predictions](https://towardsdatascience.com/covid-19-infection-in-italy-mathematical-models-and-predictions-7784b4d7dd8d):\n",
        "\n",
        "> While the logistic model describes an infection growth that is going to stop in the future, the exponential model describes an unstoppable infection growth. For example, if a patient infects 2 patients per day, after 1 day we’ll have 2 infections, 4 after 2 days, 8 after 3 and so on. The most generic exponential function is:\n",
        "\n",
        "$$f(x,a,b,c)=a\\operatorname{e}^{b(x-c)}\\,.$$\n",
        "\n",
        "Which can be [interpreted as](https://en.wikipedia.org/wiki/Doubling_time)\n",
        "$$N(t)=N(t_0)\\operatorname{e}^{g(t-t_0)}$$\n",
        "\n",
        "or\n",
        "\n",
        "$g = \\dfrac{\\ln\\left(N(t)/N(t_0)\\right)}{t-t_0}$\n",
        "\n",
        "* $N(t)$ = the number of infections at time $t$\n",
        "* $N(t_0)$ = the number of infections at time $t_0$\n",
        "* $g$ = growth rate\n",
        "* $t$ = time (usually in days)\n",
        "\n",
        "Doubling time $T_d$:\n",
        "\n",
        "$T_d = \\dfrac{\\ln(2)}{g}$\n",
        "\n",
        "$T_d = (t-t_0)\\dfrac{\\ln(2)}{\\ln\\left(N(t)/N(t_0)\\right)}$\n",
        "\n",
        "For doubling times analysis for other countries see [Forbes](https://www.forbes.com/sites/startswithabang/2020/03/17/why-exponential-growth-is-so-scary-for-the-covid-19-coronavirus/#66dd44434e9b) - [Result](https://raw.githubusercontent.com/restrepo/Covid-19/master/img/doubling.jpg)\n",
        "\n"
      ]
    },
    {
      "cell_type": "code",
      "metadata": {
        "id": "bnKuAnlk6kxM",
        "colab_type": "code",
        "colab": {}
      },
      "source": [
        "import numpy as np\n",
        "from scipy import optimize as opt\n",
        "def exponential_model(x,a,b,c):\n",
        "    return a*np.exp(b*(x-c))\n",
        "def logistic_model(x,a,b,c):\n",
        "    return c/(1+np.exp(-(x-b)/a))    "
      ],
      "execution_count": 0,
      "outputs": []
    },
    {
      "cell_type": "markdown",
      "metadata": {
        "id": "OAdvB2PtAs2c",
        "colab_type": "text"
      },
      "source": [
        "Select a range of dates"
      ]
    },
    {
      "cell_type": "markdown",
      "metadata": {
        "id": "wyrBVXeBOVRZ",
        "colab_type": "text"
      },
      "source": [
        "# Colombia"
      ]
    },
    {
      "cell_type": "markdown",
      "metadata": {
        "id": "B06YcwU5kRE8",
        "colab_type": "text"
      },
      "source": [
        "### Select data for Colombia"
      ]
    },
    {
      "cell_type": "code",
      "metadata": {
        "id": "OKuDneoi8phN",
        "colab_type": "code",
        "colab": {}
      },
      "source": [
        "NOT_OFFICIAL_UPDATE=False\n",
        "c='Colombia'\n",
        "max_forecast=1000\n",
        "prediction=18\n",
        "extra_days=16\n",
        "start_day='3/9/20'\n",
        "#dr=date_range(date_start=start_day,date_end=dmax)\n",
        "#cvrg=cv[cv['Country/Region']==c].reset_index(drop=True)\n",
        "#y=cvrg[dr].values.tolist()[0]\n",
        "y=get_infected(c,date_start=start_day,date_end=dmax,DataFrame=cv)\n",
        "if NOT_OFFICIAL_UPDATE:\n",
        "    today=input('Last infections: ')\n",
        "    y.append(int(today))\n",
        "x=range(1,len(y)+1)"
      ],
      "execution_count": 0,
      "outputs": []
    },
    {
      "cell_type": "markdown",
      "metadata": {
        "id": "hygnPKYpf88d",
        "colab_type": "text"
      },
      "source": [
        "### Logistic model for Colombia"
      ]
    },
    {
      "cell_type": "code",
      "metadata": {
        "id": "wbC9csucbD6h",
        "colab_type": "code",
        "outputId": "df78387f-5f91-45c9-94fb-2ce4b39796a2",
        "colab": {
          "base_uri": "https://localhost:8080/",
          "height": 34
        }
      },
      "source": [
        "logistic_fit = opt.curve_fit(logistic_model,x,y,p0=[2,10,100])\n",
        "'logistic end: {} ± {} infections'.format(int(logistic_fit[0][2]),\n",
        "                               int(np.sqrt(logistic_fit[1][2,2])))"
      ],
      "execution_count": 83,
      "outputs": [
        {
          "output_type": "execute_result",
          "data": {
            "text/plain": [
              "'logistic end: 2916 ± 15098 infections'"
            ]
          },
          "metadata": {
            "tags": []
          },
          "execution_count": 83
        }
      ]
    },
    {
      "cell_type": "markdown",
      "metadata": {
        "id": "5UVvC_XWEpzk",
        "colab_type": "text"
      },
      "source": [
        "### Exponential model for Colombia"
      ]
    },
    {
      "cell_type": "markdown",
      "metadata": {
        "id": "oj76wgXuigZk",
        "colab_type": "text"
      },
      "source": [
        "Prepare data"
      ]
    },
    {
      "cell_type": "code",
      "metadata": {
        "id": "boCtIzi15e0y",
        "colab_type": "code",
        "outputId": "4844a8ab-2450-4d68-b28e-d7ffc10c4fdf",
        "colab": {
          "base_uri": "https://localhost:8080/",
          "height": 34
        }
      },
      "source": [
        "exp_fit = opt.curve_fit(exponential_model,x,y,p0=[1,0.4,3])\n",
        "try:\n",
        "    Δb=np.sqrt(exp_fit[1][1,1])\n",
        "except:\n",
        "    Δb=0\n",
        "'exponential `b`-fitted parameter: {}  ± {}'.format(exp_fit[0][1].round(3),Δb.round(3))"
      ],
      "execution_count": 84,
      "outputs": [
        {
          "output_type": "execute_result",
          "data": {
            "text/plain": [
              "'exponential `b`-fitted parameter: 0.287  ± 0.018'"
            ]
          },
          "metadata": {
            "tags": []
          },
          "execution_count": 84
        }
      ]
    },
    {
      "cell_type": "markdown",
      "metadata": {
        "id": "BX2K94qZACv2",
        "colab_type": "text"
      },
      "source": [
        "Prediction next day"
      ]
    },
    {
      "cell_type": "code",
      "metadata": {
        "id": "q4B7lxuVfh-Y",
        "colab_type": "code",
        "outputId": "cad0b259-0663-4590-b467-d290f898316b",
        "colab": {
          "base_uri": "https://localhost:8080/",
          "height": 34
        }
      },
      "source": [
        "exp_fit_co=exp_fit[0].copy()\n",
        "exponential_model_co=lambda x: exponential_model(x, exp_fit_co[0],exp_fit_co[1],exp_fit_co[2]  )\n",
        "infc=exponential_model_co(x[-1]+1  )\n",
        "pinfc=exponential_model(x[-1]+1, exp_fit_co[0],exp_fit_co[1]+Δb,exp_fit_co[2]  )-infc\n",
        "minfc=infc-exponential_model(x[-1]+1, exp_fit_co[0],exp_fit_co[1]-Δb,exp_fit_co[2]  )\n",
        "next_day=r'next day:  $%g^{+%g}_{-%g}$' %(\n",
        "                        int( infc ),int( pinfc ),int( minfc )  )\n",
        "print('day {}:  {} infections'.format(x[-1]+1,next_day) )"
      ],
      "execution_count": 85,
      "outputs": [
        {
          "output_type": "stream",
          "text": [
            "day 14:  next day:  $252^{+84}_{-63}$ infections\n"
          ],
          "name": "stdout"
        }
      ]
    },
    {
      "cell_type": "markdown",
      "metadata": {
        "id": "KeVqU_YvJAfS",
        "colab_type": "text"
      },
      "source": [
        "Iterpretation in terms of\n",
        "$$N(t)=N(t_0)\\operatorname{e}^{g(t-t_0)}$$"
      ]
    },
    {
      "cell_type": "code",
      "metadata": {
        "id": "Z-cVd2FTKVqR",
        "colab_type": "code",
        "outputId": "bf8505b0-3e93-471b-e8c1-9244580c53e3",
        "colab": {
          "base_uri": "https://localhost:8080/",
          "height": 34
        }
      },
      "source": [
        "N0=exp_fit[0][0];g=exp_fit[0][1];t0=exp_fit[0][2]\n",
        "if exponential_model(t0,N0,g,t0)==N0:\n",
        "    Td=np.log(2)/g\n",
        "else:\n",
        "    print('WARNING: N(t) interpretation not working')\n",
        "    Td=None\n",
        "if Td:\n",
        "    dt=re.sub('\\.0\\s',' ', '(doubling time = {} days)'.format(Td.round(1)\n",
        "        ))\n",
        "    texmodel='N(t)=N(t_0)e^{t-t_0}='\n",
        "    print('T_d →  {}'.format(dt))\n",
        "else:\n",
        "    texmodel=''\n",
        "    dt=''"
      ],
      "execution_count": 86,
      "outputs": [
        {
          "output_type": "stream",
          "text": [
            "T_d →  (doubling time = 2.4 days)\n"
          ],
          "name": "stdout"
        }
      ]
    },
    {
      "cell_type": "markdown",
      "metadata": {
        "id": "_SDaHxDWijWJ",
        "colab_type": "text"
      },
      "source": [
        "Visualization"
      ]
    },
    {
      "cell_type": "code",
      "metadata": {
        "id": "qhDjsZXGHwYi",
        "colab_type": "code",
        "outputId": "c0609c73-4f79-473d-ad6f-804a18f7a802",
        "colab": {
          "base_uri": "https://localhost:8080/",
          "height": 300
        }
      },
      "source": [
        "LOGISTIC=False\n",
        "ERRORS=True\n",
        "ylinlog='log'\n",
        "xx=range(x[0],x[-1]+extra_days)\n",
        "if min(y)>0:\n",
        "    ymin=min(y)\n",
        "else:\n",
        "    ymin=1\n",
        "\n",
        "plt.plot(x,y,'r-',label=c)\n",
        "plt.plot(xx,\n",
        "         exponential_model(xx,exp_fit[0][0],exp_fit[0][1],exp_fit[0][2]),\n",
        "         'k:',\n",
        "         label=r'$%s%g\\cdot e^{%g[t-(%g)]}$' %(texmodel,\n",
        "                                             exp_fit[0][0].round(2),\n",
        "                                             exp_fit[0][1].round(3),\n",
        "                                             exp_fit[0][2].round(2)) )\n",
        "if ERRORS:\n",
        "    plt.plot(xx,\n",
        "         exponential_model(xx,exp_fit[0][0],exp_fit[0][1]+Δb,exp_fit[0][2]),\n",
        "         'm:',lw=0.5)\n",
        "    plt.plot(xx,\n",
        "         exponential_model(xx,exp_fit[0][0],exp_fit[0][1]-Δb,exp_fit[0][2]),\n",
        "         'm:',lw=0.5)\n",
        "if LOGISTIC:\n",
        "    plt.plot(xx,\n",
        "         logistic_model(xx,logistic_fit[0][0],logistic_fit[0][1],logistic_fit[0][2]),\n",
        "         'c:',lw=1\n",
        "          )\n",
        "\n",
        "plt.hlines(max_forecast,xx[0],xx[-1],linestyles='--',lw=1)\n",
        "plt.vlines(prediction,ymin,max_forecast,linestyles='--',lw=1)\n",
        "\n",
        "plt.title('From: {} to {}'.format(\n",
        "    datetime.datetime.strptime(start_day,\"%m/%d/%y\").strftime(\"%B %-d, %Y\"),\n",
        "    datetime.datetime.strptime(dmax,\"%m/%d/%y\").strftime(\"%B %-d, %Y\") ) )\n",
        "plt.plot(x[-1]+1,infc,'r*',markersize=10,\n",
        "         label=next_day\n",
        "         )\n",
        "\n",
        "plt.legend(loc='upper left')\n",
        "plt.xscale('linear')\n",
        "plt.yscale(ylinlog)\n",
        "plt.xlabel('days',size=15)\n",
        "plt.ylabel('infections '+dt,size=13 )\n",
        "if ylinlog=='linear':\n",
        "    xmax=x[-1]+2\n",
        "    ymax=y[-1]+infc+Δb\n",
        "else:\n",
        "    xmax=xx[-1]\n",
        "    ymax=max_forecast+30000\n",
        "plt.xlim(xx[0],xmax)\n",
        "plt.ylim(ymin,ymax)\n",
        "plt.grid()\n",
        "plt.savefig('Colombia.png')"
      ],
      "execution_count": 87,
      "outputs": [
        {
          "output_type": "display_data",
          "data": {
            "image/png": "[encoded data removed]",
            "text/plain": [
              "<Figure size 432x288 with 1 Axes>"
            ]
          },
          "metadata": {
            "tags": []
          }
        }
      ]
    },
    {
      "cell_type": "markdown",
      "metadata": {
        "id": "Nr4ABj2LOyW6",
        "colab_type": "text"
      },
      "source": [
        "\n",
        "## Doubling time"
      ]
    },
    {
      "cell_type": "code",
      "metadata": {
        "id": "f0etVs6E-l0M",
        "colab_type": "code",
        "outputId": "a8ca83eb-e82f-4f7a-f332-fc3466649405",
        "colab": {
          "base_uri": "https://localhost:8080/",
          "height": 85
        }
      },
      "source": [
        "sp=dataframe_doubling(x,y,start_date=start_day,final_date=dmax)"
      ],
      "execution_count": 89,
      "outputs": [
        {
          "output_type": "stream",
          "text": [
            "/usr/local/lib/python3.6/dist-packages/ipykernel_launcher.py:4: RuntimeWarning: overflow encountered in exp\n",
            "  after removing the cwd from sys.path.\n",
            "/usr/local/lib/python3.6/dist-packages/scipy/optimize/minpack.py:808: OptimizeWarning: Covariance of the parameters could not be estimated\n",
            "  category=OptimizeWarning)\n"
          ],
          "name": "stderr"
        }
      ]
    },
    {
      "cell_type": "code",
      "metadata": {
        "id": "fr2lQ8gjWlnk",
        "colab_type": "code",
        "outputId": "8e9eb69c-c189-46ac-d6ea-4092765331ca",
        "colab": {
          "base_uri": "https://localhost:8080/",
          "height": 295
        }
      },
      "source": [
        "plt.plot(sp['day'],sp['Td'],'k-')\n",
        "plt.plot(sp['day'],sp['Td'],'r.')\n",
        "plt.title('Example: A DT of 2 means that infections double every 2 days')\n",
        "plt.xlabel('days from {}'.format(\n",
        "    datetime.datetime.strptime(start_day,\"%m/%d/%y\").strftime(\"%B %-d, %Y\")\n",
        "  ))\n",
        "plt.ylabel('Doubling time (DT) in units of days')\n",
        "plt.savefig('doublingtime.png')"
      ],
      "execution_count": 92,
      "outputs": [
        {
          "output_type": "display_data",
          "data": {
            "image/png": "[encoded data removed]",
            "text/plain": [
              "<Figure size 432x288 with 1 Axes>"
            ]
          },
          "metadata": {
            "tags": []
          }
        }
      ]
    },
    {
      "cell_type": "markdown",
      "metadata": {
        "id": "t3pI27BkA8bh",
        "colab_type": "text"
      },
      "source": [
        "### Other country"
      ]
    },
    {
      "cell_type": "code",
      "metadata": {
        "id": "FukSUSfNKJ9O",
        "colab_type": "code",
        "outputId": "0a131453-9ba5-4df4-c7a4-3c95fd6ce0c2",
        "colab": {
          "base_uri": "https://localhost:8080/",
          "height": 312
        }
      },
      "source": [
        "c='Australia'\n",
        "max_forecast=10000\n",
        "prediction=32#21\n",
        "start_day='3/1/20'\n",
        "y=get_infected(c,date_start=start_day,date_end=dmax,DataFrame=cv)\n",
        "x=range(1,len(y)+1)\n",
        "exp_fit = opt.curve_fit(exponential_model,x,y,p0=[1,0.4,3])\n",
        "\n",
        "xx=range(x[0],x[-1]+20)\n",
        "if min(y)>0:\n",
        "    ymin=min(y)\n",
        "else:\n",
        "    ymin=1\n",
        "\n",
        "plt.plot(x,y,'r-',label=c)\n",
        "plt.plot(xx,\n",
        "         exponential_model(xx,exp_fit[0][0],exp_fit[0][1],exp_fit[0][2]),\n",
        "         'k:',\n",
        "         label=r'$%g\\cdot e^{%g[x-(%g)]}$' %(exp_fit[0][0],exp_fit[0][1],exp_fit[0][2]) )\n",
        "\n",
        "plt.plot(xx,exponential_model_co(xx),'c:',label='Colombia model')\n",
        "\n",
        "plt.hlines(max_forecast,xx[0],xx[-1],linestyles='--',lw=1)\n",
        "plt.vlines(prediction,ymin,max_forecast,linestyles='--',lw=1)\n",
        "\n",
        "plt.title('From: {} to {}'.format(\n",
        "    datetime.datetime.strptime(start_day,\"%m/%d/%y\").strftime(\"%B %-d, %Y\"),\n",
        "    datetime.datetime.strptime(dmax,\"%m/%d/%y\").strftime(\"%B %-d, %Y\") ) ) \n",
        "plt.legend(loc='best')\n",
        "plt.xscale('linear')\n",
        "plt.yscale('log')\n",
        "plt.xlabel('days')\n",
        "plt.ylabel('infections')\n",
        "plt.xlim(xx[0],xx[-1])\n",
        "plt.ylim(ymin,max_forecast+10000)"
      ],
      "execution_count": 61,
      "outputs": [
        {
          "output_type": "execute_result",
          "data": {
            "text/plain": [
              "(27, 20000)"
            ]
          },
          "metadata": {
            "tags": []
          },
          "execution_count": 61
        },
        {
          "output_type": "display_data",
          "data": {
            "image/png": "[encoded data removed]",
            "text/plain": [
              "<Figure size 432x288 with 1 Axes>"
            ]
          },
          "metadata": {
            "tags": []
          }
        }
      ]
    },
    {
      "cell_type": "code",
      "metadata": {
        "id": "fWSwwhu66ErC",
        "colab_type": "code",
        "outputId": "c41a7177-8220-4783-cf87-067f61dff347",
        "colab": {
          "base_uri": "https://localhost:8080/",
          "height": 34
        }
      },
      "source": [
        "N0=exp_fit[0][0];g=exp_fit[0][1];t0=exp_fit[0][2]\n",
        "if exponential_model(t0,N0,g,t0)==N0:\n",
        "    Td=np.log(2)/g\n",
        "else:\n",
        "    print('WARNING: N(t) interpretation not working')\n",
        "    Td=None\n",
        "if Td:\n",
        "    dt='(doubling time = {} days)'.format(Td.round(2))\n",
        "    print('T_d →  {}'.format(dt))"
      ],
      "execution_count": 62,
      "outputs": [
        {
          "output_type": "stream",
          "text": [
            "T_d →  (doubling time = 3.36 days)\n"
          ],
          "name": "stdout"
        }
      ]
    },
    {
      "cell_type": "code",
      "metadata": {
        "id": "Wc731u72_P-S",
        "colab_type": "code",
        "outputId": "30fe9ebd-8fc1-46d6-b68f-15980321f645",
        "colab": {
          "base_uri": "https://localhost:8080/",
          "height": 85
        }
      },
      "source": [
        "spa=dataframe_doubling(x,y,start_date=start_day,final_date=dmax)"
      ],
      "execution_count": 63,
      "outputs": [
        {
          "output_type": "stream",
          "text": [
            "/usr/local/lib/python3.6/dist-packages/scipy/optimize/minpack.py:808: OptimizeWarning: Covariance of the parameters could not be estimated\n",
            "  category=OptimizeWarning)\n",
            "/usr/local/lib/python3.6/dist-packages/ipykernel_launcher.py:4: RuntimeWarning: overflow encountered in exp\n",
            "  after removing the cwd from sys.path.\n"
          ],
          "name": "stderr"
        }
      ]
    },
    {
      "cell_type": "code",
      "metadata": {
        "id": "szBf6Bo2A6D8",
        "colab_type": "code",
        "outputId": "9165d6e9-2bda-4efc-d881-f5521e2cbe99",
        "colab": {
          "base_uri": "https://localhost:8080/",
          "height": 85
        }
      },
      "source": [
        "c='Spain'\n",
        "start_day='3/1/20'\n",
        "y=get_infected(c,date_start=start_day,date_end=dmax,DataFrame=cv)\n",
        "x=range(1,len(y)+1)\n",
        "sps=dataframe_doubling(x,y,start_date=start_day,final_date=dmax)"
      ],
      "execution_count": 64,
      "outputs": [
        {
          "output_type": "stream",
          "text": [
            "/usr/local/lib/python3.6/dist-packages/scipy/optimize/minpack.py:808: OptimizeWarning: Covariance of the parameters could not be estimated\n",
            "  category=OptimizeWarning)\n",
            "/usr/local/lib/python3.6/dist-packages/ipykernel_launcher.py:4: RuntimeWarning: overflow encountered in exp\n",
            "  after removing the cwd from sys.path.\n"
          ],
          "name": "stderr"
        }
      ]
    },
    {
      "cell_type": "code",
      "metadata": {
        "id": "Q0JxauZ_8KWP",
        "colab_type": "code",
        "outputId": "6b76780e-77ad-467b-b3de-6c42b5a8847f",
        "colab": {
          "base_uri": "https://localhost:8080/",
          "height": 85
        }
      },
      "source": [
        "c='Italy'\n",
        "start_day='3/1/20'\n",
        "y=get_infected(c,date_start=start_day,date_end=dmax,DataFrame=cv)\n",
        "x=range(1,len(y)+1)\n",
        "spi=dataframe_doubling(x,y,start_date=start_day,final_date=dmax)"
      ],
      "execution_count": 65,
      "outputs": [
        {
          "output_type": "stream",
          "text": [
            "/usr/local/lib/python3.6/dist-packages/scipy/optimize/minpack.py:808: OptimizeWarning: Covariance of the parameters could not be estimated\n",
            "  category=OptimizeWarning)\n",
            "/usr/local/lib/python3.6/dist-packages/ipykernel_launcher.py:4: RuntimeWarning: overflow encountered in exp\n",
            "  after removing the cwd from sys.path.\n"
          ],
          "name": "stderr"
        }
      ]
    },
    {
      "cell_type": "code",
      "metadata": {
        "id": "WIRDT2Z8_nlz",
        "colab_type": "code",
        "outputId": "d661bf78-e7b4-4365-fe29-06014e39b36f",
        "colab": {
          "base_uri": "https://localhost:8080/",
          "height": 295
        }
      },
      "source": [
        "plt.plot(spa['day'],spa['Td'],'k--')\n",
        "plt.plot(spa['day'],spa['Td'],'g.',markersize=15,label='Australia')\n",
        "plt.plot(sps['day'],sps['Td'],'k--')\n",
        "plt.plot(sps['day'],sps['Td'],'y.',markersize=15,label='Spain')\n",
        "plt.plot(spi['day'],spi['Td'],'k--')\n",
        "plt.plot(spi['day'],spi['Td'],'c.',markersize=15,label='Italy')\n",
        "plt.plot(sp['day']+8,sp['Td'],'k--')\n",
        "plt.plot(sp['day']+8,sp['Td'],'r.',markersize=15,label='Colombia')\n",
        "\n",
        "plt.title('Example: A DT of 2 means that infections double every 2 days')\n",
        "plt.xlabel('days from {}'.format(\n",
        "    datetime.datetime.strptime(start_day,\"%m/%d/%y\").strftime(\"%B %-d, %Y\")\n",
        "  ))\n",
        "plt.ylabel('Doubling time (DT) in units of days')\n",
        "plt.savefig('doublingtime.png')\n",
        "plt.legend()\n",
        "plt.grid()"
      ],
      "execution_count": 66,
      "outputs": [
        {
          "output_type": "display_data",
          "data": {
            "image/png": "[encoded data removed]",
            "text/plain": [
              "<Figure size 432x288 with 1 Axes>"
            ]
          },
          "metadata": {
            "tags": []
          }
        }
      ]
    },
    {
      "cell_type": "code",
      "metadata": {
        "id": "JW1yUGouZGEp",
        "colab_type": "code",
        "colab": {
          "base_uri": "https://localhost:8080/",
          "height": 120
        },
        "outputId": "d7039f1a-bd3e-4a18-dd80-8dc2508ce749"
      },
      "source": [
        "#Day 1: infections > 10\n",
        "mininf=10\n",
        "c='Italy'\n",
        "start_day='2/19/20'\n",
        "y=get_infected(c,date_start=start_day,date_end=dmax,DataFrame=cv)\n",
        "x=range(1,len(y)+1)\n",
        "spi=dataframe_doubling(x,y,start_date=start_day,final_date=dmax)\n",
        "c='Spain'\n",
        "start_day='2/24/20'\n",
        "y=get_infected(c,date_start=start_day,date_end=dmax,DataFrame=cv)\n",
        "x=range(1,len(y)+1)\n",
        "sps=dataframe_doubling(x,y,start_date=start_day,final_date=dmax)\n",
        "c='Colombia'\n",
        "start_day='3/11/20'\n",
        "y=get_infected(c,date_start=start_day,date_end=dmax,DataFrame=cv)\n",
        "x=range(1,len(y)+1)\n",
        "sp=dataframe_doubling(x,y,start_date=start_day,final_date=dmax)"
      ],
      "execution_count": 147,
      "outputs": [
        {
          "output_type": "stream",
          "text": [
            "/usr/local/lib/python3.6/dist-packages/ipykernel_launcher.py:4: RuntimeWarning: overflow encountered in exp\n",
            "  after removing the cwd from sys.path.\n",
            "/usr/local/lib/python3.6/dist-packages/scipy/optimize/minpack.py:808: OptimizeWarning: Covariance of the parameters could not be estimated\n",
            "  category=OptimizeWarning)\n",
            "/usr/local/lib/python3.6/dist-packages/ipykernel_launcher.py:4: RuntimeWarning: overflow encountered in multiply\n",
            "  after removing the cwd from sys.path.\n"
          ],
          "name": "stderr"
        }
      ]
    },
    {
      "cell_type": "code",
      "metadata": {
        "id": "NUqy2YTj8z8G",
        "colab_type": "code",
        "outputId": "59849241-4c9a-462b-bf47-b0b814a46524",
        "colab": {
          "base_uri": "https://localhost:8080/",
          "height": 295
        }
      },
      "source": [
        "plt.plot(sp['day']-2,sp['Td'],'k--')\n",
        "plt.plot(sp['day']-2,sp['Td'],'r.',markersize=15,\n",
        "         label='Colombia → infections day {}: {}'.format(\n",
        "                 fd,sp.loc[fd-1,'infections']))\n",
        "plt.plot(sps['day']-2,sps['Td'],'k--')\n",
        "plt.plot(sps['day']-2,sps['Td'],'y.',markersize=15,\n",
        "         label='Spain → infections day {}: {}'.format(\n",
        "                 fd,sps.loc[fd-1,'infections']))\n",
        "plt.plot(spi['day']-2,spi['Td'],'k--')\n",
        "plt.plot(spi['day']-2,spi['Td'],'c.',markersize=15,\n",
        "         label='Italy → infections day {}: {}'.format(\n",
        "                 fd,spi.loc[fd-1,'infections']))\n",
        "plt.legend()\n",
        "plt.title('Day 1: infections > 10')\n",
        "plt.xlabel('days')\n",
        "plt.ylabel('Doubling time (DT) in units of days')\n",
        "plt.legend()\n",
        "plt.grid()\n",
        "plt.xlim(1,spi['day'].max())\n",
        "plt.savefig('contention.png')"
      ],
      "execution_count": 148,
      "outputs": [
        {
          "output_type": "display_data",
          "data": {
            "image/png": "[encoded data removed]",
            "text/plain": [
              "<Figure size 432x288 with 1 Axes>"
            ]
          },
          "metadata": {
            "tags": []
          }
        }
      ]
    },
    {
      "cell_type": "code",
      "metadata": {
        "id": "yEaEYyf-Xhi0",
        "colab_type": "code",
        "colab": {
          "base_uri": "https://localhost:8080/",
          "height": 326
        },
        "outputId": "fedb8f15-b06a-4028-ff65-7f6452a2dfe4"
      },
      "source": [
        "sp"
      ],
      "execution_count": 135,
      "outputs": [
        {
          "output_type": "execute_result",
          "data": {
            "text/html": [
              "<div>\n",
              "<style scoped>\n",
              "    .dataframe tbody tr th:only-of-type {\n",
              "        vertical-align: middle;\n",
              "    }\n",
              "\n",
              "    .dataframe tbody tr th {\n",
              "        vertical-align: top;\n",
              "    }\n",
              "\n",
              "    .dataframe thead th {\n",
              "        text-align: right;\n",
              "    }\n",
              "</style>\n",
              "<table border=\"1\" class=\"dataframe\">\n",
              "  <thead>\n",
              "    <tr style=\"text-align: right;\">\n",
              "      <th></th>\n",
              "      <th>N0</th>\n",
              "      <th>Td</th>\n",
              "      <th>day</th>\n",
              "      <th>final_date</th>\n",
              "      <th>g</th>\n",
              "      <th>infections</th>\n",
              "      <th>start_date</th>\n",
              "      <th>t0</th>\n",
              "    </tr>\n",
              "  </thead>\n",
              "  <tbody>\n",
              "    <tr>\n",
              "      <th>0</th>\n",
              "      <td>6.728982</td>\n",
              "      <td>3.347242</td>\n",
              "      <td>3</td>\n",
              "      <td>3/21/20</td>\n",
              "      <td>0.207080</td>\n",
              "      <td>13</td>\n",
              "      <td>3/11/20</td>\n",
              "      <td>0.001314</td>\n",
              "    </tr>\n",
              "    <tr>\n",
              "      <th>1</th>\n",
              "      <td>14.599336</td>\n",
              "      <td>1.861427</td>\n",
              "      <td>4</td>\n",
              "      <td>3/21/20</td>\n",
              "      <td>0.372374</td>\n",
              "      <td>22</td>\n",
              "      <td>3/11/20</td>\n",
              "      <td>3.008103</td>\n",
              "    </tr>\n",
              "    <tr>\n",
              "      <th>2</th>\n",
              "      <td>4.621602</td>\n",
              "      <td>1.665480</td>\n",
              "      <td>5</td>\n",
              "      <td>3/21/20</td>\n",
              "      <td>0.416185</td>\n",
              "      <td>34</td>\n",
              "      <td>3/11/20</td>\n",
              "      <td>0.237243</td>\n",
              "    </tr>\n",
              "    <tr>\n",
              "      <th>3</th>\n",
              "      <td>2.498830</td>\n",
              "      <td>1.575930</td>\n",
              "      <td>6</td>\n",
              "      <td>3/21/20</td>\n",
              "      <td>0.439834</td>\n",
              "      <td>54</td>\n",
              "      <td>3/11/20</td>\n",
              "      <td>-0.967873</td>\n",
              "    </tr>\n",
              "    <tr>\n",
              "      <th>4</th>\n",
              "      <td>3.652493</td>\n",
              "      <td>1.918897</td>\n",
              "      <td>7</td>\n",
              "      <td>3/21/20</td>\n",
              "      <td>0.361222</td>\n",
              "      <td>65</td>\n",
              "      <td>3/11/20</td>\n",
              "      <td>-1.112104</td>\n",
              "    </tr>\n",
              "    <tr>\n",
              "      <th>5</th>\n",
              "      <td>4.634011</td>\n",
              "      <td>2.000350</td>\n",
              "      <td>8</td>\n",
              "      <td>3/21/20</td>\n",
              "      <td>0.346513</td>\n",
              "      <td>93</td>\n",
              "      <td>3/11/20</td>\n",
              "      <td>-0.692708</td>\n",
              "    </tr>\n",
              "    <tr>\n",
              "      <th>6</th>\n",
              "      <td>3.863360</td>\n",
              "      <td>2.401611</td>\n",
              "      <td>9</td>\n",
              "      <td>3/21/20</td>\n",
              "      <td>0.288618</td>\n",
              "      <td>102</td>\n",
              "      <td>3/11/20</td>\n",
              "      <td>-2.627801</td>\n",
              "    </tr>\n",
              "    <tr>\n",
              "      <th>7</th>\n",
              "      <td>8.339959</td>\n",
              "      <td>2.636325</td>\n",
              "      <td>10</td>\n",
              "      <td>3/21/20</td>\n",
              "      <td>0.262922</td>\n",
              "      <td>128</td>\n",
              "      <td>3/11/20</td>\n",
              "      <td>-0.578702</td>\n",
              "    </tr>\n",
              "    <tr>\n",
              "      <th>8</th>\n",
              "      <td>3.882525</td>\n",
              "      <td>2.440531</td>\n",
              "      <td>11</td>\n",
              "      <td>3/21/20</td>\n",
              "      <td>0.284015</td>\n",
              "      <td>196</td>\n",
              "      <td>3/11/20</td>\n",
              "      <td>-2.681549</td>\n",
              "    </tr>\n",
              "  </tbody>\n",
              "</table>\n",
              "</div>"
            ],
            "text/plain": [
              "          N0        Td  day  ... infections  start_date        t0\n",
              "0   6.728982  3.347242    3  ...         13     3/11/20  0.001314\n",
              "1  14.599336  1.861427    4  ...         22     3/11/20  3.008103\n",
              "2   4.621602  1.665480    5  ...         34     3/11/20  0.237243\n",
              "3   2.498830  1.575930    6  ...         54     3/11/20 -0.967873\n",
              "4   3.652493  1.918897    7  ...         65     3/11/20 -1.112104\n",
              "5   4.634011  2.000350    8  ...         93     3/11/20 -0.692708\n",
              "6   3.863360  2.401611    9  ...        102     3/11/20 -2.627801\n",
              "7   8.339959  2.636325   10  ...        128     3/11/20 -0.578702\n",
              "8   3.882525  2.440531   11  ...        196     3/11/20 -2.681549\n",
              "\n",
              "[9 rows x 8 columns]"
            ]
          },
          "metadata": {
            "tags": []
          },
          "execution_count": 135
        }
      ]
    },
    {
      "cell_type": "code",
      "metadata": {
        "id": "9Rh3-6XATA_L",
        "colab_type": "code",
        "colab": {
          "base_uri": "https://localhost:8080/",
          "height": 34
        },
        "outputId": "354e6b75-57dd-40c8-ec9c-1542076e798a"
      },
      "source": [
        "fd=sp.shape[0]\n",
        "fd"
      ],
      "execution_count": 136,
      "outputs": [
        {
          "output_type": "execute_result",
          "data": {
            "text/plain": [
              "9"
            ]
          },
          "metadata": {
            "tags": []
          },
          "execution_count": 136
        }
      ]
    },
    {
      "cell_type": "code",
      "metadata": {
        "id": "ju8z4C2dTbYT",
        "colab_type": "code",
        "colab": {
          "base_uri": "https://localhost:8080/",
          "height": 34
        },
        "outputId": "664d5dbc-06aa-40de-d2cc-bb9942cf1154"
      },
      "source": [
        "'"
      ],
      "execution_count": 137,
      "outputs": [
        {
          "output_type": "execute_result",
          "data": {
            "text/plain": [
              "'infections day 9: 196'"
            ]
          },
          "metadata": {
            "tags": []
          },
          "execution_count": 137
        }
      ]
    },
    {
      "cell_type": "code",
      "metadata": {
        "id": "1vPOTyEJWHh7",
        "colab_type": "code",
        "colab": {
          "base_uri": "https://localhost:8080/",
          "height": 34
        },
        "outputId": "ac6bf751-265e-436f-f05e-9de37b648227"
      },
      "source": [
        "sps.loc[fd-1,'infections']"
      ],
      "execution_count": 138,
      "outputs": [
        {
          "output_type": "execute_result",
          "data": {
            "text/plain": [
              "259"
            ]
          },
          "metadata": {
            "tags": []
          },
          "execution_count": 138
        }
      ]
    },
    {
      "cell_type": "code",
      "metadata": {
        "id": "u7BwUU_0Wv5C",
        "colab_type": "code",
        "colab": {
          "base_uri": "https://localhost:8080/",
          "height": 34
        },
        "outputId": "3df35f95-d0fa-4384-f5af-0c4665701271"
      },
      "source": [
        "spi.loc[fd-1,'infections']"
      ],
      "execution_count": 139,
      "outputs": [
        {
          "output_type": "execute_result",
          "data": {
            "text/plain": [
              "1128"
            ]
          },
          "metadata": {
            "tags": []
          },
          "execution_count": 139
        }
      ]
    },
    {
      "cell_type": "code",
      "metadata": {
        "id": "3pCxpYzOYgcs",
        "colab_type": "code",
        "colab": {
          "base_uri": "https://localhost:8080/",
          "height": 972
        },
        "outputId": "e9bf9439-462c-44b4-c82a-37bba1b492c8"
      },
      "source": [
        "spi"
      ],
      "execution_count": 118,
      "outputs": [
        {
          "output_type": "execute_result",
          "data": {
            "text/html": [
              "<div>\n",
              "<style scoped>\n",
              "    .dataframe tbody tr th:only-of-type {\n",
              "        vertical-align: middle;\n",
              "    }\n",
              "\n",
              "    .dataframe tbody tr th {\n",
              "        vertical-align: top;\n",
              "    }\n",
              "\n",
              "    .dataframe thead th {\n",
              "        text-align: right;\n",
              "    }\n",
              "</style>\n",
              "<table border=\"1\" class=\"dataframe\">\n",
              "  <thead>\n",
              "    <tr style=\"text-align: right;\">\n",
              "      <th></th>\n",
              "      <th>N0</th>\n",
              "      <th>Td</th>\n",
              "      <th>day</th>\n",
              "      <th>final_date</th>\n",
              "      <th>g</th>\n",
              "      <th>infections</th>\n",
              "      <th>start_date</th>\n",
              "      <th>t0</th>\n",
              "    </tr>\n",
              "  </thead>\n",
              "  <tbody>\n",
              "    <tr>\n",
              "      <th>0</th>\n",
              "      <td>0.490384</td>\n",
              "      <td>0.423375</td>\n",
              "      <td>3</td>\n",
              "      <td>3/21/20</td>\n",
              "      <td>1.637193</td>\n",
              "      <td>20</td>\n",
              "      <td>2/19/20</td>\n",
              "      <td>0.737567</td>\n",
              "    </tr>\n",
              "    <tr>\n",
              "      <th>1</th>\n",
              "      <td>1.962442</td>\n",
              "      <td>0.578288</td>\n",
              "      <td>4</td>\n",
              "      <td>3/21/20</td>\n",
              "      <td>1.198619</td>\n",
              "      <td>62</td>\n",
              "      <td>2/19/20</td>\n",
              "      <td>1.116938</td>\n",
              "    </tr>\n",
              "    <tr>\n",
              "      <th>2</th>\n",
              "      <td>3.976949</td>\n",
              "      <td>0.706157</td>\n",
              "      <td>5</td>\n",
              "      <td>3/21/20</td>\n",
              "      <td>0.981577</td>\n",
              "      <td>155</td>\n",
              "      <td>2/19/20</td>\n",
              "      <td>1.262997</td>\n",
              "    </tr>\n",
              "    <tr>\n",
              "      <th>3</th>\n",
              "      <td>4.921602</td>\n",
              "      <td>1.082150</td>\n",
              "      <td>6</td>\n",
              "      <td>3/21/20</td>\n",
              "      <td>0.640528</td>\n",
              "      <td>229</td>\n",
              "      <td>2/19/20</td>\n",
              "      <td>-0.063958</td>\n",
              "    </tr>\n",
              "    <tr>\n",
              "      <th>4</th>\n",
              "      <td>6.560988</td>\n",
              "      <td>1.384041</td>\n",
              "      <td>7</td>\n",
              "      <td>3/21/20</td>\n",
              "      <td>0.500814</td>\n",
              "      <td>322</td>\n",
              "      <td>2/19/20</td>\n",
              "      <td>-0.874287</td>\n",
              "    </tr>\n",
              "    <tr>\n",
              "      <th>5</th>\n",
              "      <td>5.057359</td>\n",
              "      <td>1.605387</td>\n",
              "      <td>8</td>\n",
              "      <td>3/21/20</td>\n",
              "      <td>0.431763</td>\n",
              "      <td>453</td>\n",
              "      <td>2/19/20</td>\n",
              "      <td>-2.504563</td>\n",
              "    </tr>\n",
              "    <tr>\n",
              "      <th>6</th>\n",
              "      <td>6.203723</td>\n",
              "      <td>1.727751</td>\n",
              "      <td>9</td>\n",
              "      <td>3/21/20</td>\n",
              "      <td>0.401185</td>\n",
              "      <td>655</td>\n",
              "      <td>2/19/20</td>\n",
              "      <td>-2.669709</td>\n",
              "    </tr>\n",
              "    <tr>\n",
              "      <th>7</th>\n",
              "      <td>9.577523</td>\n",
              "      <td>1.877294</td>\n",
              "      <td>10</td>\n",
              "      <td>3/21/20</td>\n",
              "      <td>0.369227</td>\n",
              "      <td>888</td>\n",
              "      <td>2/19/20</td>\n",
              "      <td>-2.345101</td>\n",
              "    </tr>\n",
              "    <tr>\n",
              "      <th>8</th>\n",
              "      <td>8.841326</td>\n",
              "      <td>2.085791</td>\n",
              "      <td>11</td>\n",
              "      <td>3/21/20</td>\n",
              "      <td>0.332319</td>\n",
              "      <td>1128</td>\n",
              "      <td>2/19/20</td>\n",
              "      <td>-3.723735</td>\n",
              "    </tr>\n",
              "    <tr>\n",
              "      <th>9</th>\n",
              "      <td>6.311701</td>\n",
              "      <td>2.043032</td>\n",
              "      <td>12</td>\n",
              "      <td>3/21/20</td>\n",
              "      <td>0.339274</td>\n",
              "      <td>1694</td>\n",
              "      <td>2/19/20</td>\n",
              "      <td>-4.459735</td>\n",
              "    </tr>\n",
              "    <tr>\n",
              "      <th>10</th>\n",
              "      <td>10.904789</td>\n",
              "      <td>2.250077</td>\n",
              "      <td>13</td>\n",
              "      <td>3/21/20</td>\n",
              "      <td>0.308055</td>\n",
              "      <td>2036</td>\n",
              "      <td>2/19/20</td>\n",
              "      <td>-4.120156</td>\n",
              "    </tr>\n",
              "    <tr>\n",
              "      <th>11</th>\n",
              "      <td>8.731827</td>\n",
              "      <td>2.461314</td>\n",
              "      <td>14</td>\n",
              "      <td>3/21/20</td>\n",
              "      <td>0.281617</td>\n",
              "      <td>2502</td>\n",
              "      <td>2/19/20</td>\n",
              "      <td>-6.267924</td>\n",
              "    </tr>\n",
              "    <tr>\n",
              "      <th>12</th>\n",
              "      <td>9.030321</td>\n",
              "      <td>2.641858</td>\n",
              "      <td>15</td>\n",
              "      <td>3/21/20</td>\n",
              "      <td>0.262371</td>\n",
              "      <td>3089</td>\n",
              "      <td>2/19/20</td>\n",
              "      <td>-7.409734</td>\n",
              "    </tr>\n",
              "    <tr>\n",
              "      <th>13</th>\n",
              "      <td>9.340212</td>\n",
              "      <td>2.773285</td>\n",
              "      <td>16</td>\n",
              "      <td>3/21/20</td>\n",
              "      <td>0.249937</td>\n",
              "      <td>3858</td>\n",
              "      <td>2/19/20</td>\n",
              "      <td>-8.231465</td>\n",
              "    </tr>\n",
              "    <tr>\n",
              "      <th>14</th>\n",
              "      <td>10.663934</td>\n",
              "      <td>2.930151</td>\n",
              "      <td>17</td>\n",
              "      <td>3/21/20</td>\n",
              "      <td>0.236557</td>\n",
              "      <td>4636</td>\n",
              "      <td>2/19/20</td>\n",
              "      <td>-8.850256</td>\n",
              "    </tr>\n",
              "    <tr>\n",
              "      <th>15</th>\n",
              "      <td>2.933297</td>\n",
              "      <td>2.993746</td>\n",
              "      <td>18</td>\n",
              "      <td>3/21/20</td>\n",
              "      <td>0.231532</td>\n",
              "      <td>5883</td>\n",
              "      <td>2/19/20</td>\n",
              "      <td>-14.909586</td>\n",
              "    </tr>\n",
              "    <tr>\n",
              "      <th>16</th>\n",
              "      <td>12.365355</td>\n",
              "      <td>3.029908</td>\n",
              "      <td>19</td>\n",
              "      <td>3/21/20</td>\n",
              "      <td>0.228768</td>\n",
              "      <td>7375</td>\n",
              "      <td>2/19/20</td>\n",
              "      <td>-8.974955</td>\n",
              "    </tr>\n",
              "    <tr>\n",
              "      <th>17</th>\n",
              "      <td>14.033381</td>\n",
              "      <td>3.063454</td>\n",
              "      <td>20</td>\n",
              "      <td>3/21/20</td>\n",
              "      <td>0.226263</td>\n",
              "      <td>9172</td>\n",
              "      <td>2/19/20</td>\n",
              "      <td>-8.685855</td>\n",
              "    </tr>\n",
              "    <tr>\n",
              "      <th>18</th>\n",
              "      <td>12.258994</td>\n",
              "      <td>3.286653</td>\n",
              "      <td>21</td>\n",
              "      <td>3/21/20</td>\n",
              "      <td>0.210898</td>\n",
              "      <td>10149</td>\n",
              "      <td>2/19/20</td>\n",
              "      <td>-11.139859</td>\n",
              "    </tr>\n",
              "    <tr>\n",
              "      <th>19</th>\n",
              "      <td>12.114032</td>\n",
              "      <td>3.398082</td>\n",
              "      <td>22</td>\n",
              "      <td>3/21/20</td>\n",
              "      <td>0.203982</td>\n",
              "      <td>12462</td>\n",
              "      <td>2/19/20</td>\n",
              "      <td>-12.149351</td>\n",
              "    </tr>\n",
              "    <tr>\n",
              "      <th>20</th>\n",
              "      <td>9.675493</td>\n",
              "      <td>3.782095</td>\n",
              "      <td>23</td>\n",
              "      <td>3/21/20</td>\n",
              "      <td>0.183271</td>\n",
              "      <td>12462</td>\n",
              "      <td>2/19/20</td>\n",
              "      <td>-16.722940</td>\n",
              "    </tr>\n",
              "    <tr>\n",
              "      <th>21</th>\n",
              "      <td>14.364964</td>\n",
              "      <td>3.698913</td>\n",
              "      <td>24</td>\n",
              "      <td>3/21/20</td>\n",
              "      <td>0.187392</td>\n",
              "      <td>17660</td>\n",
              "      <td>2/19/20</td>\n",
              "      <td>-13.844447</td>\n",
              "    </tr>\n",
              "    <tr>\n",
              "      <th>22</th>\n",
              "      <td>7.684026</td>\n",
              "      <td>3.669810</td>\n",
              "      <td>25</td>\n",
              "      <td>3/21/20</td>\n",
              "      <td>0.188878</td>\n",
              "      <td>21157</td>\n",
              "      <td>2/19/20</td>\n",
              "      <td>-16.894788</td>\n",
              "    </tr>\n",
              "    <tr>\n",
              "      <th>23</th>\n",
              "      <td>7.498440</td>\n",
              "      <td>3.715258</td>\n",
              "      <td>26</td>\n",
              "      <td>3/21/20</td>\n",
              "      <td>0.186568</td>\n",
              "      <td>24747</td>\n",
              "      <td>2/19/20</td>\n",
              "      <td>-17.488902</td>\n",
              "    </tr>\n",
              "    <tr>\n",
              "      <th>24</th>\n",
              "      <td>8.071771</td>\n",
              "      <td>3.853512</td>\n",
              "      <td>27</td>\n",
              "      <td>3/21/20</td>\n",
              "      <td>0.179874</td>\n",
              "      <td>27980</td>\n",
              "      <td>2/19/20</td>\n",
              "      <td>-18.524178</td>\n",
              "    </tr>\n",
              "    <tr>\n",
              "      <th>25</th>\n",
              "      <td>6.497575</td>\n",
              "      <td>4.032730</td>\n",
              "      <td>28</td>\n",
              "      <td>3/21/20</td>\n",
              "      <td>0.171880</td>\n",
              "      <td>31506</td>\n",
              "      <td>2/19/20</td>\n",
              "      <td>-21.673416</td>\n",
              "    </tr>\n",
              "    <tr>\n",
              "      <th>26</th>\n",
              "      <td>4.425535</td>\n",
              "      <td>4.210136</td>\n",
              "      <td>29</td>\n",
              "      <td>3/21/20</td>\n",
              "      <td>0.164638</td>\n",
              "      <td>35713</td>\n",
              "      <td>2/19/20</td>\n",
              "      <td>-25.959747</td>\n",
              "    </tr>\n",
              "    <tr>\n",
              "      <th>27</th>\n",
              "      <td>10.514167</td>\n",
              "      <td>4.353438</td>\n",
              "      <td>30</td>\n",
              "      <td>3/21/20</td>\n",
              "      <td>0.159218</td>\n",
              "      <td>41035</td>\n",
              "      <td>2/19/20</td>\n",
              "      <td>-22.207474</td>\n",
              "    </tr>\n",
              "    <tr>\n",
              "      <th>28</th>\n",
              "      <td>8.658885</td>\n",
              "      <td>4.475655</td>\n",
              "      <td>31</td>\n",
              "      <td>3/21/20</td>\n",
              "      <td>0.154871</td>\n",
              "      <td>47021</td>\n",
              "      <td>2/19/20</td>\n",
              "      <td>-24.765956</td>\n",
              "    </tr>\n",
              "    <tr>\n",
              "      <th>29</th>\n",
              "      <td>9.435210</td>\n",
              "      <td>4.589983</td>\n",
              "      <td>32</td>\n",
              "      <td>3/21/20</td>\n",
              "      <td>0.151013</td>\n",
              "      <td>53578</td>\n",
              "      <td>2/19/20</td>\n",
              "      <td>-25.471324</td>\n",
              "    </tr>\n",
              "  </tbody>\n",
              "</table>\n",
              "</div>"
            ],
            "text/plain": [
              "           N0        Td  day  ... infections  start_date         t0\n",
              "0    0.490384  0.423375    3  ...         20     2/19/20   0.737567\n",
              "1    1.962442  0.578288    4  ...         62     2/19/20   1.116938\n",
              "2    3.976949  0.706157    5  ...        155     2/19/20   1.262997\n",
              "3    4.921602  1.082150    6  ...        229     2/19/20  -0.063958\n",
              "4    6.560988  1.384041    7  ...        322     2/19/20  -0.874287\n",
              "5    5.057359  1.605387    8  ...        453     2/19/20  -2.504563\n",
              "6    6.203723  1.727751    9  ...        655     2/19/20  -2.669709\n",
              "7    9.577523  1.877294   10  ...        888     2/19/20  -2.345101\n",
              "8    8.841326  2.085791   11  ...       1128     2/19/20  -3.723735\n",
              "9    6.311701  2.043032   12  ...       1694     2/19/20  -4.459735\n",
              "10  10.904789  2.250077   13  ...       2036     2/19/20  -4.120156\n",
              "11   8.731827  2.461314   14  ...       2502     2/19/20  -6.267924\n",
              "12   9.030321  2.641858   15  ...       3089     2/19/20  -7.409734\n",
              "13   9.340212  2.773285   16  ...       3858     2/19/20  -8.231465\n",
              "14  10.663934  2.930151   17  ...       4636     2/19/20  -8.850256\n",
              "15   2.933297  2.993746   18  ...       5883     2/19/20 -14.909586\n",
              "16  12.365355  3.029908   19  ...       7375     2/19/20  -8.974955\n",
              "17  14.033381  3.063454   20  ...       9172     2/19/20  -8.685855\n",
              "18  12.258994  3.286653   21  ...      10149     2/19/20 -11.139859\n",
              "19  12.114032  3.398082   22  ...      12462     2/19/20 -12.149351\n",
              "20   9.675493  3.782095   23  ...      12462     2/19/20 -16.722940\n",
              "21  14.364964  3.698913   24  ...      17660     2/19/20 -13.844447\n",
              "22   7.684026  3.669810   25  ...      21157     2/19/20 -16.894788\n",
              "23   7.498440  3.715258   26  ...      24747     2/19/20 -17.488902\n",
              "24   8.071771  3.853512   27  ...      27980     2/19/20 -18.524178\n",
              "25   6.497575  4.032730   28  ...      31506     2/19/20 -21.673416\n",
              "26   4.425535  4.210136   29  ...      35713     2/19/20 -25.959747\n",
              "27  10.514167  4.353438   30  ...      41035     2/19/20 -22.207474\n",
              "28   8.658885  4.475655   31  ...      47021     2/19/20 -24.765956\n",
              "29   9.435210  4.589983   32  ...      53578     2/19/20 -25.471324\n",
              "\n",
              "[30 rows x 8 columns]"
            ]
          },
          "metadata": {
            "tags": []
          },
          "execution_count": 118
        }
      ]
    },
    {
      "cell_type": "code",
      "metadata": {
        "id": "Q9khUxuLYkVd",
        "colab_type": "code",
        "colab": {
          "base_uri": "https://localhost:8080/",
          "height": 975
        },
        "outputId": "637ff2c4-3c50-4867-9983-37d5fe9aed71"
      },
      "source": [
        "c='Spain'\n",
        "start_day='2/20/20'\n",
        "y=get_infected(c,date_start=start_day,date_end=dmax,DataFrame=cv)\n",
        "x=range(1,len(y)+1)\n",
        "sps=dataframe_doubling(x,y,start_date=start_day,final_date=dmax)\n",
        "sps"
      ],
      "execution_count": 122,
      "outputs": [
        {
          "output_type": "stream",
          "text": [
            "/usr/local/lib/python3.6/dist-packages/scipy/optimize/minpack.py:808: OptimizeWarning: Covariance of the parameters could not be estimated\n",
            "  category=OptimizeWarning)\n"
          ],
          "name": "stderr"
        },
        {
          "output_type": "execute_result",
          "data": {
            "text/html": [
              "<div>\n",
              "<style scoped>\n",
              "    .dataframe tbody tr th:only-of-type {\n",
              "        vertical-align: middle;\n",
              "    }\n",
              "\n",
              "    .dataframe tbody tr th {\n",
              "        vertical-align: top;\n",
              "    }\n",
              "\n",
              "    .dataframe thead th {\n",
              "        text-align: right;\n",
              "    }\n",
              "</style>\n",
              "<table border=\"1\" class=\"dataframe\">\n",
              "  <thead>\n",
              "    <tr style=\"text-align: right;\">\n",
              "      <th></th>\n",
              "      <th>N0</th>\n",
              "      <th>Td</th>\n",
              "      <th>day</th>\n",
              "      <th>final_date</th>\n",
              "      <th>g</th>\n",
              "      <th>infections</th>\n",
              "      <th>start_date</th>\n",
              "      <th>t0</th>\n",
              "    </tr>\n",
              "  </thead>\n",
              "  <tbody>\n",
              "    <tr>\n",
              "      <th>0</th>\n",
              "      <td>2.000000</td>\n",
              "      <td>-4.152678e+08</td>\n",
              "      <td>3</td>\n",
              "      <td>3/21/20</td>\n",
              "      <td>-1.669157e-09</td>\n",
              "      <td>2</td>\n",
              "      <td>2/20/20</td>\n",
              "      <td>19.381995</td>\n",
              "    </tr>\n",
              "    <tr>\n",
              "      <th>1</th>\n",
              "      <td>2.000000</td>\n",
              "      <td>-8.287683e+08</td>\n",
              "      <td>4</td>\n",
              "      <td>3/21/20</td>\n",
              "      <td>-8.363582e-10</td>\n",
              "      <td>2</td>\n",
              "      <td>2/20/20</td>\n",
              "      <td>-1.103452</td>\n",
              "    </tr>\n",
              "    <tr>\n",
              "      <th>2</th>\n",
              "      <td>2.000000</td>\n",
              "      <td>1.217137e+09</td>\n",
              "      <td>5</td>\n",
              "      <td>3/21/20</td>\n",
              "      <td>5.694898e-10</td>\n",
              "      <td>2</td>\n",
              "      <td>2/20/20</td>\n",
              "      <td>30.662926</td>\n",
              "    </tr>\n",
              "    <tr>\n",
              "      <th>3</th>\n",
              "      <td>1.856565</td>\n",
              "      <td>2.190471e+00</td>\n",
              "      <td>6</td>\n",
              "      <td>3/21/20</td>\n",
              "      <td>3.164375e-01</td>\n",
              "      <td>6</td>\n",
              "      <td>2/20/20</td>\n",
              "      <td>2.916423</td>\n",
              "    </tr>\n",
              "    <tr>\n",
              "      <th>4</th>\n",
              "      <td>0.945716</td>\n",
              "      <td>1.028705e+00</td>\n",
              "      <td>7</td>\n",
              "      <td>3/21/20</td>\n",
              "      <td>6.738058e-01</td>\n",
              "      <td>13</td>\n",
              "      <td>2/20/20</td>\n",
              "      <td>3.151689</td>\n",
              "    </tr>\n",
              "    <tr>\n",
              "      <th>5</th>\n",
              "      <td>2.326957</td>\n",
              "      <td>1.558834e+00</td>\n",
              "      <td>8</td>\n",
              "      <td>3/21/20</td>\n",
              "      <td>4.446575e-01</td>\n",
              "      <td>15</td>\n",
              "      <td>2/20/20</td>\n",
              "      <td>3.666642</td>\n",
              "    </tr>\n",
              "    <tr>\n",
              "      <th>6</th>\n",
              "      <td>1.298189</td>\n",
              "      <td>1.259237e+00</td>\n",
              "      <td>9</td>\n",
              "      <td>3/21/20</td>\n",
              "      <td>5.504502e-01</td>\n",
              "      <td>32</td>\n",
              "      <td>2/20/20</td>\n",
              "      <td>3.228995</td>\n",
              "    </tr>\n",
              "    <tr>\n",
              "      <th>7</th>\n",
              "      <td>3.421754</td>\n",
              "      <td>1.453830e+00</td>\n",
              "      <td>10</td>\n",
              "      <td>3/21/20</td>\n",
              "      <td>4.767731e-01</td>\n",
              "      <td>45</td>\n",
              "      <td>2/20/20</td>\n",
              "      <td>4.542806</td>\n",
              "    </tr>\n",
              "    <tr>\n",
              "      <th>8</th>\n",
              "      <td>1.065367</td>\n",
              "      <td>1.315696e+00</td>\n",
              "      <td>11</td>\n",
              "      <td>3/21/20</td>\n",
              "      <td>5.268294e-01</td>\n",
              "      <td>84</td>\n",
              "      <td>2/20/20</td>\n",
              "      <td>2.738675</td>\n",
              "    </tr>\n",
              "    <tr>\n",
              "      <th>9</th>\n",
              "      <td>0.866486</td>\n",
              "      <td>1.483610e+00</td>\n",
              "      <td>12</td>\n",
              "      <td>3/21/20</td>\n",
              "      <td>4.672031e-01</td>\n",
              "      <td>120</td>\n",
              "      <td>2/20/20</td>\n",
              "      <td>1.395932</td>\n",
              "    </tr>\n",
              "    <tr>\n",
              "      <th>10</th>\n",
              "      <td>1.336333</td>\n",
              "      <td>1.680013e+00</td>\n",
              "      <td>13</td>\n",
              "      <td>3/21/20</td>\n",
              "      <td>4.125844e-01</td>\n",
              "      <td>165</td>\n",
              "      <td>2/20/20</td>\n",
              "      <td>1.243765</td>\n",
              "    </tr>\n",
              "    <tr>\n",
              "      <th>11</th>\n",
              "      <td>1.852609</td>\n",
              "      <td>1.862240e+00</td>\n",
              "      <td>14</td>\n",
              "      <td>3/21/20</td>\n",
              "      <td>3.722114e-01</td>\n",
              "      <td>222</td>\n",
              "      <td>2/20/20</td>\n",
              "      <td>1.044392</td>\n",
              "    </tr>\n",
              "    <tr>\n",
              "      <th>12</th>\n",
              "      <td>2.845521</td>\n",
              "      <td>2.180993e+00</td>\n",
              "      <td>15</td>\n",
              "      <td>3/21/20</td>\n",
              "      <td>3.178127e-01</td>\n",
              "      <td>259</td>\n",
              "      <td>2/20/20</td>\n",
              "      <td>0.562014</td>\n",
              "    </tr>\n",
              "    <tr>\n",
              "      <th>13</th>\n",
              "      <td>2.666804</td>\n",
              "      <td>2.125875e+00</td>\n",
              "      <td>16</td>\n",
              "      <td>3/21/20</td>\n",
              "      <td>3.260526e-01</td>\n",
              "      <td>400</td>\n",
              "      <td>2/20/20</td>\n",
              "      <td>0.667673</td>\n",
              "    </tr>\n",
              "    <tr>\n",
              "      <th>14</th>\n",
              "      <td>2.435392</td>\n",
              "      <td>2.255363e+00</td>\n",
              "      <td>17</td>\n",
              "      <td>3/21/20</td>\n",
              "      <td>3.073329e-01</td>\n",
              "      <td>500</td>\n",
              "      <td>2/20/20</td>\n",
              "      <td>-0.415882</td>\n",
              "    </tr>\n",
              "    <tr>\n",
              "      <th>15</th>\n",
              "      <td>2.477670</td>\n",
              "      <td>2.311377e+00</td>\n",
              "      <td>18</td>\n",
              "      <td>3/21/20</td>\n",
              "      <td>2.998850e-01</td>\n",
              "      <td>673</td>\n",
              "      <td>2/20/20</td>\n",
              "      <td>-0.728556</td>\n",
              "    </tr>\n",
              "    <tr>\n",
              "      <th>16</th>\n",
              "      <td>1.870170</td>\n",
              "      <td>2.069184e+00</td>\n",
              "      <td>19</td>\n",
              "      <td>3/21/20</td>\n",
              "      <td>3.349858e-01</td>\n",
              "      <td>1073</td>\n",
              "      <td>2/20/20</td>\n",
              "      <td>0.159387</td>\n",
              "    </tr>\n",
              "    <tr>\n",
              "      <th>17</th>\n",
              "      <td>2.170951</td>\n",
              "      <td>1.816446e+00</td>\n",
              "      <td>20</td>\n",
              "      <td>3/21/20</td>\n",
              "      <td>3.815953e-01</td>\n",
              "      <td>1695</td>\n",
              "      <td>2/20/20</td>\n",
              "      <td>2.634627</td>\n",
              "    </tr>\n",
              "    <tr>\n",
              "      <th>18</th>\n",
              "      <td>1.003650</td>\n",
              "      <td>1.891519e+00</td>\n",
              "      <td>21</td>\n",
              "      <td>3/21/20</td>\n",
              "      <td>3.664501e-01</td>\n",
              "      <td>2277</td>\n",
              "      <td>2/20/20</td>\n",
              "      <td>-0.117360</td>\n",
              "    </tr>\n",
              "    <tr>\n",
              "      <th>19</th>\n",
              "      <td>2.857070</td>\n",
              "      <td>2.394061e+00</td>\n",
              "      <td>22</td>\n",
              "      <td>3/21/20</td>\n",
              "      <td>2.895277e-01</td>\n",
              "      <td>2277</td>\n",
              "      <td>2/20/20</td>\n",
              "      <td>-1.502077</td>\n",
              "    </tr>\n",
              "    <tr>\n",
              "      <th>20</th>\n",
              "      <td>1.536069</td>\n",
              "      <td>1.723365e+00</td>\n",
              "      <td>23</td>\n",
              "      <td>3/21/20</td>\n",
              "      <td>4.022057e-01</td>\n",
              "      <td>5232</td>\n",
              "      <td>2/20/20</td>\n",
              "      <td>2.995150</td>\n",
              "    </tr>\n",
              "    <tr>\n",
              "      <th>21</th>\n",
              "      <td>1.752050</td>\n",
              "      <td>1.883862e+00</td>\n",
              "      <td>24</td>\n",
              "      <td>3/21/20</td>\n",
              "      <td>3.679395e-01</td>\n",
              "      <td>6391</td>\n",
              "      <td>2/20/20</td>\n",
              "      <td>1.642430</td>\n",
              "    </tr>\n",
              "    <tr>\n",
              "      <th>22</th>\n",
              "      <td>1.899800</td>\n",
              "      <td>2.147716e+00</td>\n",
              "      <td>25</td>\n",
              "      <td>3/21/20</td>\n",
              "      <td>3.227368e-01</td>\n",
              "      <td>7798</td>\n",
              "      <td>2/20/20</td>\n",
              "      <td>-0.946482</td>\n",
              "    </tr>\n",
              "    <tr>\n",
              "      <th>23</th>\n",
              "      <td>2.064375</td>\n",
              "      <td>2.336017e+00</td>\n",
              "      <td>26</td>\n",
              "      <td>3/21/20</td>\n",
              "      <td>2.967219e-01</td>\n",
              "      <td>9942</td>\n",
              "      <td>2/20/20</td>\n",
              "      <td>-2.722906</td>\n",
              "    </tr>\n",
              "    <tr>\n",
              "      <th>24</th>\n",
              "      <td>2.659250</td>\n",
              "      <td>2.582977e+00</td>\n",
              "      <td>27</td>\n",
              "      <td>3/21/20</td>\n",
              "      <td>2.683521e-01</td>\n",
              "      <td>11748</td>\n",
              "      <td>2/20/20</td>\n",
              "      <td>-4.512885</td>\n",
              "    </tr>\n",
              "    <tr>\n",
              "      <th>25</th>\n",
              "      <td>3.606825</td>\n",
              "      <td>2.821298e+00</td>\n",
              "      <td>28</td>\n",
              "      <td>3/21/20</td>\n",
              "      <td>2.456838e-01</td>\n",
              "      <td>13910</td>\n",
              "      <td>2/20/20</td>\n",
              "      <td>-5.877356</td>\n",
              "    </tr>\n",
              "    <tr>\n",
              "      <th>26</th>\n",
              "      <td>4.141007</td>\n",
              "      <td>2.907424e+00</td>\n",
              "      <td>29</td>\n",
              "      <td>3/21/20</td>\n",
              "      <td>2.384059e-01</td>\n",
              "      <td>17963</td>\n",
              "      <td>2/20/20</td>\n",
              "      <td>-6.225305</td>\n",
              "    </tr>\n",
              "    <tr>\n",
              "      <th>27</th>\n",
              "      <td>2.964651</td>\n",
              "      <td>3.115613e+00</td>\n",
              "      <td>30</td>\n",
              "      <td>3/21/20</td>\n",
              "      <td>2.224754e-01</td>\n",
              "      <td>20410</td>\n",
              "      <td>2/20/20</td>\n",
              "      <td>-9.983775</td>\n",
              "    </tr>\n",
              "    <tr>\n",
              "      <th>28</th>\n",
              "      <td>5.668726</td>\n",
              "      <td>3.218020e+00</td>\n",
              "      <td>31</td>\n",
              "      <td>3/21/20</td>\n",
              "      <td>2.153955e-01</td>\n",
              "      <td>25374</td>\n",
              "      <td>2/20/20</td>\n",
              "      <td>-8.159149</td>\n",
              "    </tr>\n",
              "  </tbody>\n",
              "</table>\n",
              "</div>"
            ],
            "text/plain": [
              "          N0            Td  day  ... infections  start_date         t0\n",
              "0   2.000000 -4.152678e+08    3  ...          2     2/20/20  19.381995\n",
              "1   2.000000 -8.287683e+08    4  ...          2     2/20/20  -1.103452\n",
              "2   2.000000  1.217137e+09    5  ...          2     2/20/20  30.662926\n",
              "3   1.856565  2.190471e+00    6  ...          6     2/20/20   2.916423\n",
              "4   0.945716  1.028705e+00    7  ...         13     2/20/20   3.151689\n",
              "5   2.326957  1.558834e+00    8  ...         15     2/20/20   3.666642\n",
              "6   1.298189  1.259237e+00    9  ...         32     2/20/20   3.228995\n",
              "7   3.421754  1.453830e+00   10  ...         45     2/20/20   4.542806\n",
              "8   1.065367  1.315696e+00   11  ...         84     2/20/20   2.738675\n",
              "9   0.866486  1.483610e+00   12  ...        120     2/20/20   1.395932\n",
              "10  1.336333  1.680013e+00   13  ...        165     2/20/20   1.243765\n",
              "11  1.852609  1.862240e+00   14  ...        222     2/20/20   1.044392\n",
              "12  2.845521  2.180993e+00   15  ...        259     2/20/20   0.562014\n",
              "13  2.666804  2.125875e+00   16  ...        400     2/20/20   0.667673\n",
              "14  2.435392  2.255363e+00   17  ...        500     2/20/20  -0.415882\n",
              "15  2.477670  2.311377e+00   18  ...        673     2/20/20  -0.728556\n",
              "16  1.870170  2.069184e+00   19  ...       1073     2/20/20   0.159387\n",
              "17  2.170951  1.816446e+00   20  ...       1695     2/20/20   2.634627\n",
              "18  1.003650  1.891519e+00   21  ...       2277     2/20/20  -0.117360\n",
              "19  2.857070  2.394061e+00   22  ...       2277     2/20/20  -1.502077\n",
              "20  1.536069  1.723365e+00   23  ...       5232     2/20/20   2.995150\n",
              "21  1.752050  1.883862e+00   24  ...       6391     2/20/20   1.642430\n",
              "22  1.899800  2.147716e+00   25  ...       7798     2/20/20  -0.946482\n",
              "23  2.064375  2.336017e+00   26  ...       9942     2/20/20  -2.722906\n",
              "24  2.659250  2.582977e+00   27  ...      11748     2/20/20  -4.512885\n",
              "25  3.606825  2.821298e+00   28  ...      13910     2/20/20  -5.877356\n",
              "26  4.141007  2.907424e+00   29  ...      17963     2/20/20  -6.225305\n",
              "27  2.964651  3.115613e+00   30  ...      20410     2/20/20  -9.983775\n",
              "28  5.668726  3.218020e+00   31  ...      25374     2/20/20  -8.159149\n",
              "\n",
              "[29 rows x 8 columns]"
            ]
          },
          "metadata": {
            "tags": []
          },
          "execution_count": 122
        }
      ]
    },
    {
      "cell_type": "code",
      "metadata": {
        "id": "mM20kvivY2L-",
        "colab_type": "code",
        "colab": {
          "base_uri": "https://localhost:8080/",
          "height": 387
        },
        "outputId": "ae7b8b3a-c945-4b03-ca7b-c924fd780441"
      },
      "source": [
        "sp"
      ],
      "execution_count": 123,
      "outputs": [
        {
          "output_type": "execute_result",
          "data": {
            "text/html": [
              "<div>\n",
              "<style scoped>\n",
              "    .dataframe tbody tr th:only-of-type {\n",
              "        vertical-align: middle;\n",
              "    }\n",
              "\n",
              "    .dataframe tbody tr th {\n",
              "        vertical-align: top;\n",
              "    }\n",
              "\n",
              "    .dataframe thead th {\n",
              "        text-align: right;\n",
              "    }\n",
              "</style>\n",
              "<table border=\"1\" class=\"dataframe\">\n",
              "  <thead>\n",
              "    <tr style=\"text-align: right;\">\n",
              "      <th></th>\n",
              "      <th>N0</th>\n",
              "      <th>Td</th>\n",
              "      <th>day</th>\n",
              "      <th>final_date</th>\n",
              "      <th>g</th>\n",
              "      <th>infections</th>\n",
              "      <th>start_date</th>\n",
              "      <th>t0</th>\n",
              "    </tr>\n",
              "  </thead>\n",
              "  <tbody>\n",
              "    <tr>\n",
              "      <th>0</th>\n",
              "      <td>1.416655</td>\n",
              "      <td>0.630930</td>\n",
              "      <td>3</td>\n",
              "      <td>3/21/20</td>\n",
              "      <td>1.098612</td>\n",
              "      <td>9</td>\n",
              "      <td>3/9/20</td>\n",
              "      <td>1.317035</td>\n",
              "    </tr>\n",
              "    <tr>\n",
              "      <th>1</th>\n",
              "      <td>2.807600</td>\n",
              "      <td>1.462654</td>\n",
              "      <td>4</td>\n",
              "      <td>3/21/20</td>\n",
              "      <td>0.473897</td>\n",
              "      <td>9</td>\n",
              "      <td>3/9/20</td>\n",
              "      <td>1.313390</td>\n",
              "    </tr>\n",
              "    <tr>\n",
              "      <th>2</th>\n",
              "      <td>2.494229</td>\n",
              "      <td>1.758198</td>\n",
              "      <td>5</td>\n",
              "      <td>3/21/20</td>\n",
              "      <td>0.394237</td>\n",
              "      <td>13</td>\n",
              "      <td>3/9/20</td>\n",
              "      <td>0.714947</td>\n",
              "    </tr>\n",
              "    <tr>\n",
              "      <th>3</th>\n",
              "      <td>2.677249</td>\n",
              "      <td>1.621183</td>\n",
              "      <td>6</td>\n",
              "      <td>3/21/20</td>\n",
              "      <td>0.427556</td>\n",
              "      <td>22</td>\n",
              "      <td>3/9/20</td>\n",
              "      <td>1.110281</td>\n",
              "    </tr>\n",
              "    <tr>\n",
              "      <th>4</th>\n",
              "      <td>2.087084</td>\n",
              "      <td>1.589835</td>\n",
              "      <td>7</td>\n",
              "      <td>3/21/20</td>\n",
              "      <td>0.435987</td>\n",
              "      <td>34</td>\n",
              "      <td>3/9/20</td>\n",
              "      <td>0.608070</td>\n",
              "    </tr>\n",
              "    <tr>\n",
              "      <th>5</th>\n",
              "      <td>3.353201</td>\n",
              "      <td>1.550790</td>\n",
              "      <td>8</td>\n",
              "      <td>3/21/20</td>\n",
              "      <td>0.446964</td>\n",
              "      <td>54</td>\n",
              "      <td>3/9/20</td>\n",
              "      <td>1.793219</td>\n",
              "    </tr>\n",
              "    <tr>\n",
              "      <th>6</th>\n",
              "      <td>10.038344</td>\n",
              "      <td>1.870836</td>\n",
              "      <td>9</td>\n",
              "      <td>3/21/20</td>\n",
              "      <td>0.370501</td>\n",
              "      <td>65</td>\n",
              "      <td>3/9/20</td>\n",
              "      <td>3.803851</td>\n",
              "    </tr>\n",
              "    <tr>\n",
              "      <th>7</th>\n",
              "      <td>9.041897</td>\n",
              "      <td>1.964965</td>\n",
              "      <td>10</td>\n",
              "      <td>3/21/20</td>\n",
              "      <td>0.352753</td>\n",
              "      <td>93</td>\n",
              "      <td>3/9/20</td>\n",
              "      <td>3.343409</td>\n",
              "    </tr>\n",
              "    <tr>\n",
              "      <th>8</th>\n",
              "      <td>2.646820</td>\n",
              "      <td>2.343888</td>\n",
              "      <td>11</td>\n",
              "      <td>3/21/20</td>\n",
              "      <td>0.295725</td>\n",
              "      <td>102</td>\n",
              "      <td>3/9/20</td>\n",
              "      <td>-1.648122</td>\n",
              "    </tr>\n",
              "    <tr>\n",
              "      <th>9</th>\n",
              "      <td>4.137657</td>\n",
              "      <td>2.575725</td>\n",
              "      <td>12</td>\n",
              "      <td>3/21/20</td>\n",
              "      <td>0.269108</td>\n",
              "      <td>128</td>\n",
              "      <td>3/9/20</td>\n",
              "      <td>-0.963151</td>\n",
              "    </tr>\n",
              "    <tr>\n",
              "      <th>10</th>\n",
              "      <td>2.492468</td>\n",
              "      <td>2.413756</td>\n",
              "      <td>13</td>\n",
              "      <td>3/21/20</td>\n",
              "      <td>0.287165</td>\n",
              "      <td>196</td>\n",
              "      <td>3/9/20</td>\n",
              "      <td>-2.085807</td>\n",
              "    </tr>\n",
              "  </tbody>\n",
              "</table>\n",
              "</div>"
            ],
            "text/plain": [
              "           N0        Td  day  ... infections  start_date        t0\n",
              "0    1.416655  0.630930    3  ...          9      3/9/20  1.317035\n",
              "1    2.807600  1.462654    4  ...          9      3/9/20  1.313390\n",
              "2    2.494229  1.758198    5  ...         13      3/9/20  0.714947\n",
              "3    2.677249  1.621183    6  ...         22      3/9/20  1.110281\n",
              "4    2.087084  1.589835    7  ...         34      3/9/20  0.608070\n",
              "5    3.353201  1.550790    8  ...         54      3/9/20  1.793219\n",
              "6   10.038344  1.870836    9  ...         65      3/9/20  3.803851\n",
              "7    9.041897  1.964965   10  ...         93      3/9/20  3.343409\n",
              "8    2.646820  2.343888   11  ...        102      3/9/20 -1.648122\n",
              "9    4.137657  2.575725   12  ...        128      3/9/20 -0.963151\n",
              "10   2.492468  2.413756   13  ...        196      3/9/20 -2.085807\n",
              "\n",
              "[11 rows x 8 columns]"
            ]
          },
          "metadata": {
            "tags": []
          },
          "execution_count": 123
        }
      ]
    },
    {
      "cell_type": "markdown",
      "metadata": {
        "id": "VBUfaYgEjfo4",
        "colab_type": "text"
      },
      "source": [
        "### Last update"
      ]
    },
    {
      "cell_type": "code",
      "metadata": {
        "id": "r3SZix2TbpbJ",
        "colab_type": "code",
        "outputId": "c9946664-5eff-44e5-a05d-08992d40f30c",
        "colab": {
          "base_uri": "https://localhost:8080/",
          "height": 79
        }
      },
      "source": [
        "cv[cv['Country/Region']=='Colombia'][[dmax]]"
      ],
      "execution_count": 68,
      "outputs": [
        {
          "output_type": "execute_result",
          "data": {
            "text/html": [
              "<div>\n",
              "<style scoped>\n",
              "    .dataframe tbody tr th:only-of-type {\n",
              "        vertical-align: middle;\n",
              "    }\n",
              "\n",
              "    .dataframe tbody tr th {\n",
              "        vertical-align: top;\n",
              "    }\n",
              "\n",
              "    .dataframe thead th {\n",
              "        text-align: right;\n",
              "    }\n",
              "</style>\n",
              "<table border=\"1\" class=\"dataframe\">\n",
              "  <thead>\n",
              "    <tr style=\"text-align: right;\">\n",
              "      <th></th>\n",
              "      <th>3/21/20</th>\n",
              "    </tr>\n",
              "  </thead>\n",
              "  <tbody>\n",
              "    <tr>\n",
              "      <th>73</th>\n",
              "      <td>196</td>\n",
              "    </tr>\n",
              "  </tbody>\n",
              "</table>\n",
              "</div>"
            ],
            "text/plain": [
              "    3/21/20\n",
              "73      196"
            ]
          },
          "metadata": {
            "tags": []
          },
          "execution_count": 68
        }
      ]
    },
    {
      "cell_type": "markdown",
      "metadata": {
        "id": "L9T51Hfdl6fv",
        "colab_type": "text"
      },
      "source": [
        "## Last official data from Colombia"
      ]
    },
    {
      "cell_type": "code",
      "metadata": {
        "id": "0v39TKzxW2Rp",
        "colab_type": "code",
        "colab": {}
      },
      "source": [
        "import requests\n",
        "\n",
        "r=requests.get('https://infogram.com/covid-2019-ins-colombia-1hnq41zg9ord63z')\n",
        "\n",
        "head='\"data\":[[[\"ID de caso\",'\n",
        "tail=']]]'\n",
        "js='{}{}{}'.format( head.split(':')[-1],\n",
        "                 r.text.split(head)[-1].split(tail)[0],\n",
        "                 tail\n",
        "             )\n",
        "\n",
        "df=pd.read_json(js)\n",
        "\n",
        "coco=pd.DataFrame([l for l in df[range(1,df.columns[-1]+1)].values[0]],columns=df[0][0] )\n",
        "coco['Fecha']=pd.to_datetime(coco['Fecha de diagnóstico'],format=\"%d/%m/%Y\")"
      ],
      "execution_count": 0,
      "outputs": []
    },
    {
      "cell_type": "code",
      "metadata": {
        "id": "tCDbyMS3YCKH",
        "colab_type": "code",
        "outputId": "72608300-9df2-4d51-e0dd-ca5e811fa9be",
        "colab": {
          "base_uri": "https://localhost:8080/",
          "height": 1000
        }
      },
      "source": [
        "coco[coco['Fecha de diagnóstico'].str.contains('21/03')]"
      ],
      "execution_count": 70,
      "outputs": [
        {
          "output_type": "execute_result",
          "data": {
            "text/html": [
              "<div>\n",
              "<style scoped>\n",
              "    .dataframe tbody tr th:only-of-type {\n",
              "        vertical-align: middle;\n",
              "    }\n",
              "\n",
              "    .dataframe tbody tr th {\n",
              "        vertical-align: top;\n",
              "    }\n",
              "\n",
              "    .dataframe thead th {\n",
              "        text-align: right;\n",
              "    }\n",
              "</style>\n",
              "<table border=\"1\" class=\"dataframe\">\n",
              "  <thead>\n",
              "    <tr style=\"text-align: right;\">\n",
              "      <th></th>\n",
              "      <th>ID de caso</th>\n",
              "      <th>Fecha de diagnóstico</th>\n",
              "      <th>Ciudad de ubicación</th>\n",
              "      <th>Atención</th>\n",
              "      <th>Edad</th>\n",
              "      <th>Sexo</th>\n",
              "      <th>Tipo*</th>\n",
              "      <th>País de procedencia</th>\n",
              "      <th>Fecha</th>\n",
              "    </tr>\n",
              "  </thead>\n",
              "  <tbody>\n",
              "    <tr>\n",
              "      <th>175</th>\n",
              "      <td>176</td>\n",
              "      <td>21/03/2020</td>\n",
              "      <td>Ibagué</td>\n",
              "      <td>casa</td>\n",
              "      <td>20 a 29</td>\n",
              "      <td>F</td>\n",
              "      <td>Importado</td>\n",
              "      <td>Estados Unidos</td>\n",
              "      <td>2020-03-21</td>\n",
              "    </tr>\n",
              "    <tr>\n",
              "      <th>176</th>\n",
              "      <td>177</td>\n",
              "      <td>21/03/2020</td>\n",
              "      <td>Cartagena</td>\n",
              "      <td>casa</td>\n",
              "      <td>20 a 29</td>\n",
              "      <td>M</td>\n",
              "      <td>Relacionado</td>\n",
              "      <td>Colombia</td>\n",
              "      <td>2020-03-21</td>\n",
              "    </tr>\n",
              "    <tr>\n",
              "      <th>177</th>\n",
              "      <td>178</td>\n",
              "      <td>21/03/2020</td>\n",
              "      <td>Cartagena</td>\n",
              "      <td>casa</td>\n",
              "      <td>20 a 29</td>\n",
              "      <td>M</td>\n",
              "      <td>Importado</td>\n",
              "      <td>Estados Unidos</td>\n",
              "      <td>2020-03-21</td>\n",
              "    </tr>\n",
              "    <tr>\n",
              "      <th>178</th>\n",
              "      <td>179</td>\n",
              "      <td>21/03/2020</td>\n",
              "      <td>Cartagena</td>\n",
              "      <td>casa</td>\n",
              "      <td>40 a 49</td>\n",
              "      <td>F</td>\n",
              "      <td>Relacionado</td>\n",
              "      <td>Colombia</td>\n",
              "      <td>2020-03-21</td>\n",
              "    </tr>\n",
              "    <tr>\n",
              "      <th>179</th>\n",
              "      <td>180</td>\n",
              "      <td>21/03/2020</td>\n",
              "      <td>Villa del Rosario</td>\n",
              "      <td>casa</td>\n",
              "      <td>20 a 29</td>\n",
              "      <td>M</td>\n",
              "      <td>Importado</td>\n",
              "      <td>España</td>\n",
              "      <td>2020-03-21</td>\n",
              "    </tr>\n",
              "    <tr>\n",
              "      <th>180</th>\n",
              "      <td>181</td>\n",
              "      <td>21/03/2020</td>\n",
              "      <td>Manizales</td>\n",
              "      <td>casa</td>\n",
              "      <td>20 a 29</td>\n",
              "      <td>F</td>\n",
              "      <td>Importado</td>\n",
              "      <td>Estados Unidos</td>\n",
              "      <td>2020-03-21</td>\n",
              "    </tr>\n",
              "    <tr>\n",
              "      <th>181</th>\n",
              "      <td>182</td>\n",
              "      <td>21/03/2020</td>\n",
              "      <td>Cúcuta</td>\n",
              "      <td>casa</td>\n",
              "      <td>40 a 49</td>\n",
              "      <td>F</td>\n",
              "      <td>Relacionado</td>\n",
              "      <td>Colombia</td>\n",
              "      <td>2020-03-21</td>\n",
              "    </tr>\n",
              "    <tr>\n",
              "      <th>182</th>\n",
              "      <td>183</td>\n",
              "      <td>21/03/2020</td>\n",
              "      <td>Cali</td>\n",
              "      <td>casa</td>\n",
              "      <td>40 a 49</td>\n",
              "      <td>F</td>\n",
              "      <td>Importado</td>\n",
              "      <td>Ecuador</td>\n",
              "      <td>2020-03-21</td>\n",
              "    </tr>\n",
              "    <tr>\n",
              "      <th>183</th>\n",
              "      <td>184</td>\n",
              "      <td>21/03/2020</td>\n",
              "      <td>Pereira</td>\n",
              "      <td>hospital</td>\n",
              "      <td>40 a 49</td>\n",
              "      <td>F</td>\n",
              "      <td>Importado</td>\n",
              "      <td>Estados Unidos</td>\n",
              "      <td>2020-03-21</td>\n",
              "    </tr>\n",
              "    <tr>\n",
              "      <th>184</th>\n",
              "      <td>185</td>\n",
              "      <td>21/03/2020</td>\n",
              "      <td>Palmira</td>\n",
              "      <td>casa</td>\n",
              "      <td>50 a 59</td>\n",
              "      <td>F</td>\n",
              "      <td>Relacionado</td>\n",
              "      <td>Colombia</td>\n",
              "      <td>2020-03-21</td>\n",
              "    </tr>\n",
              "    <tr>\n",
              "      <th>185</th>\n",
              "      <td>186</td>\n",
              "      <td>21/03/2020</td>\n",
              "      <td>Palmira</td>\n",
              "      <td>casa</td>\n",
              "      <td>50 a 59</td>\n",
              "      <td>F</td>\n",
              "      <td>Importado</td>\n",
              "      <td>España</td>\n",
              "      <td>2020-03-21</td>\n",
              "    </tr>\n",
              "    <tr>\n",
              "      <th>186</th>\n",
              "      <td>187</td>\n",
              "      <td>21/03/2020</td>\n",
              "      <td>Cali</td>\n",
              "      <td>casa</td>\n",
              "      <td>70 a 79</td>\n",
              "      <td>M</td>\n",
              "      <td>Relacionado</td>\n",
              "      <td>Colombia</td>\n",
              "      <td>2020-03-21</td>\n",
              "    </tr>\n",
              "    <tr>\n",
              "      <th>187</th>\n",
              "      <td>188</td>\n",
              "      <td>21/03/2020</td>\n",
              "      <td>Cali</td>\n",
              "      <td>fallecido</td>\n",
              "      <td>70 a 79</td>\n",
              "      <td>F</td>\n",
              "      <td>Relacionado</td>\n",
              "      <td>Colombia</td>\n",
              "      <td>2020-03-21</td>\n",
              "    </tr>\n",
              "    <tr>\n",
              "      <th>188</th>\n",
              "      <td>189</td>\n",
              "      <td>21/03/2020</td>\n",
              "      <td>Cali</td>\n",
              "      <td>casa</td>\n",
              "      <td>80 a 89</td>\n",
              "      <td>F</td>\n",
              "      <td>Importado</td>\n",
              "      <td>Estados Unidos</td>\n",
              "      <td>2020-03-21</td>\n",
              "    </tr>\n",
              "    <tr>\n",
              "      <th>189</th>\n",
              "      <td>190</td>\n",
              "      <td>21/03/2020</td>\n",
              "      <td>Cali</td>\n",
              "      <td>casa</td>\n",
              "      <td>20 a 29</td>\n",
              "      <td>M</td>\n",
              "      <td>Importado</td>\n",
              "      <td>España</td>\n",
              "      <td>2020-03-21</td>\n",
              "    </tr>\n",
              "    <tr>\n",
              "      <th>190</th>\n",
              "      <td>191</td>\n",
              "      <td>21/03/2020</td>\n",
              "      <td>Palmira</td>\n",
              "      <td>casa</td>\n",
              "      <td>10 a 19</td>\n",
              "      <td>M</td>\n",
              "      <td>Importado</td>\n",
              "      <td>Estados Unidos</td>\n",
              "      <td>2020-03-21</td>\n",
              "    </tr>\n",
              "    <tr>\n",
              "      <th>191</th>\n",
              "      <td>192</td>\n",
              "      <td>21/03/2020</td>\n",
              "      <td>Cali</td>\n",
              "      <td>casa</td>\n",
              "      <td>30 a 39</td>\n",
              "      <td>F</td>\n",
              "      <td>Relacionado</td>\n",
              "      <td>Colombia</td>\n",
              "      <td>2020-03-21</td>\n",
              "    </tr>\n",
              "    <tr>\n",
              "      <th>192</th>\n",
              "      <td>193</td>\n",
              "      <td>21/03/2020</td>\n",
              "      <td>Cali</td>\n",
              "      <td>casa</td>\n",
              "      <td>50 a 59</td>\n",
              "      <td>F</td>\n",
              "      <td>Importado</td>\n",
              "      <td>Italia</td>\n",
              "      <td>2020-03-21</td>\n",
              "    </tr>\n",
              "    <tr>\n",
              "      <th>193</th>\n",
              "      <td>194</td>\n",
              "      <td>21/03/2020</td>\n",
              "      <td>Palmira</td>\n",
              "      <td>casa</td>\n",
              "      <td>60 a 69</td>\n",
              "      <td>F</td>\n",
              "      <td>Importado</td>\n",
              "      <td>España</td>\n",
              "      <td>2020-03-21</td>\n",
              "    </tr>\n",
              "    <tr>\n",
              "      <th>194</th>\n",
              "      <td>195</td>\n",
              "      <td>21/03/2020</td>\n",
              "      <td>Pereira</td>\n",
              "      <td>casa</td>\n",
              "      <td>60 a 69</td>\n",
              "      <td>F</td>\n",
              "      <td>Importado</td>\n",
              "      <td>Estados Unidos</td>\n",
              "      <td>2020-03-21</td>\n",
              "    </tr>\n",
              "    <tr>\n",
              "      <th>195</th>\n",
              "      <td>196</td>\n",
              "      <td>21/03/2020</td>\n",
              "      <td>Neiva</td>\n",
              "      <td>casa</td>\n",
              "      <td>50 a 59</td>\n",
              "      <td>F</td>\n",
              "      <td>Importado</td>\n",
              "      <td>España</td>\n",
              "      <td>2020-03-21</td>\n",
              "    </tr>\n",
              "    <tr>\n",
              "      <th>196</th>\n",
              "      <td>197</td>\n",
              "      <td>21/03/2020</td>\n",
              "      <td>Cartagena</td>\n",
              "      <td>fallecido</td>\n",
              "      <td>50 a 59</td>\n",
              "      <td>M</td>\n",
              "      <td>Relacionado</td>\n",
              "      <td>Colombia</td>\n",
              "      <td>2020-03-21</td>\n",
              "    </tr>\n",
              "    <tr>\n",
              "      <th>197</th>\n",
              "      <td>198</td>\n",
              "      <td>21/03/2020</td>\n",
              "      <td>Medellín</td>\n",
              "      <td>casa</td>\n",
              "      <td>30 a 39</td>\n",
              "      <td>M</td>\n",
              "      <td>Importado</td>\n",
              "      <td>España</td>\n",
              "      <td>2020-03-21</td>\n",
              "    </tr>\n",
              "    <tr>\n",
              "      <th>198</th>\n",
              "      <td>199</td>\n",
              "      <td>21/03/2020</td>\n",
              "      <td>Guarne</td>\n",
              "      <td>casa</td>\n",
              "      <td>20 a 29</td>\n",
              "      <td>M</td>\n",
              "      <td>Importado</td>\n",
              "      <td>Estados Unidos</td>\n",
              "      <td>2020-03-21</td>\n",
              "    </tr>\n",
              "    <tr>\n",
              "      <th>199</th>\n",
              "      <td>200</td>\n",
              "      <td>21/03/2020</td>\n",
              "      <td>Cartagena</td>\n",
              "      <td>casa</td>\n",
              "      <td>50 a 59</td>\n",
              "      <td>F</td>\n",
              "      <td>Relacionado</td>\n",
              "      <td>Colombia</td>\n",
              "      <td>2020-03-21</td>\n",
              "    </tr>\n",
              "    <tr>\n",
              "      <th>200</th>\n",
              "      <td>201</td>\n",
              "      <td>21/03/2020</td>\n",
              "      <td>Chía</td>\n",
              "      <td>casa</td>\n",
              "      <td>50 a 59</td>\n",
              "      <td>F</td>\n",
              "      <td>Importado</td>\n",
              "      <td>España</td>\n",
              "      <td>2020-03-21</td>\n",
              "    </tr>\n",
              "    <tr>\n",
              "      <th>201</th>\n",
              "      <td>202</td>\n",
              "      <td>21/03/2020</td>\n",
              "      <td>Itaguí</td>\n",
              "      <td>hospital</td>\n",
              "      <td>50 a 59</td>\n",
              "      <td>M</td>\n",
              "      <td>En estudio</td>\n",
              "      <td></td>\n",
              "      <td>2020-03-21</td>\n",
              "    </tr>\n",
              "    <tr>\n",
              "      <th>202</th>\n",
              "      <td>203</td>\n",
              "      <td>21/03/2020</td>\n",
              "      <td>Barranquilla</td>\n",
              "      <td>casa</td>\n",
              "      <td>20 a 29</td>\n",
              "      <td>F</td>\n",
              "      <td>Importado</td>\n",
              "      <td>Estados Unidos</td>\n",
              "      <td>2020-03-21</td>\n",
              "    </tr>\n",
              "    <tr>\n",
              "      <th>203</th>\n",
              "      <td>204</td>\n",
              "      <td>21/03/2020</td>\n",
              "      <td>Barranquilla</td>\n",
              "      <td>casa</td>\n",
              "      <td>30 a 39</td>\n",
              "      <td>M</td>\n",
              "      <td>Importado</td>\n",
              "      <td>Estados Unidos</td>\n",
              "      <td>2020-03-21</td>\n",
              "    </tr>\n",
              "    <tr>\n",
              "      <th>204</th>\n",
              "      <td>205</td>\n",
              "      <td>21/03/2020</td>\n",
              "      <td>Bogotá</td>\n",
              "      <td>casa</td>\n",
              "      <td>20 a 29</td>\n",
              "      <td>M</td>\n",
              "      <td>Relacionado</td>\n",
              "      <td>Colombia</td>\n",
              "      <td>2020-03-21</td>\n",
              "    </tr>\n",
              "    <tr>\n",
              "      <th>205</th>\n",
              "      <td>206</td>\n",
              "      <td>21/03/2020</td>\n",
              "      <td>Bogotá</td>\n",
              "      <td>casa</td>\n",
              "      <td>60 a 69</td>\n",
              "      <td>F</td>\n",
              "      <td>Importado</td>\n",
              "      <td>España</td>\n",
              "      <td>2020-03-21</td>\n",
              "    </tr>\n",
              "    <tr>\n",
              "      <th>206</th>\n",
              "      <td>207</td>\n",
              "      <td>21/03/2020</td>\n",
              "      <td>Bogotá</td>\n",
              "      <td>casa</td>\n",
              "      <td>40 a 49</td>\n",
              "      <td>M</td>\n",
              "      <td>Importado</td>\n",
              "      <td>Guatemala</td>\n",
              "      <td>2020-03-21</td>\n",
              "    </tr>\n",
              "    <tr>\n",
              "      <th>207</th>\n",
              "      <td>208</td>\n",
              "      <td>21/03/2020</td>\n",
              "      <td>Bogotá</td>\n",
              "      <td>casa</td>\n",
              "      <td>60 a 69</td>\n",
              "      <td>M</td>\n",
              "      <td>Importado</td>\n",
              "      <td>España</td>\n",
              "      <td>2020-03-21</td>\n",
              "    </tr>\n",
              "    <tr>\n",
              "      <th>208</th>\n",
              "      <td>209</td>\n",
              "      <td>21/03/2020</td>\n",
              "      <td>Bogotá</td>\n",
              "      <td>casa</td>\n",
              "      <td>60 a 69</td>\n",
              "      <td>F</td>\n",
              "      <td>Importado</td>\n",
              "      <td>Reino Unido</td>\n",
              "      <td>2020-03-21</td>\n",
              "    </tr>\n",
              "    <tr>\n",
              "      <th>209</th>\n",
              "      <td>210</td>\n",
              "      <td>21/03/2020</td>\n",
              "      <td>Bogotá</td>\n",
              "      <td>casa</td>\n",
              "      <td>50 a 59</td>\n",
              "      <td>M</td>\n",
              "      <td>Importado</td>\n",
              "      <td>Turquia</td>\n",
              "      <td>2020-03-21</td>\n",
              "    </tr>\n",
              "  </tbody>\n",
              "</table>\n",
              "</div>"
            ],
            "text/plain": [
              "    ID de caso Fecha de diagnóstico  ... País de procedencia      Fecha\n",
              "175        176           21/03/2020  ...      Estados Unidos 2020-03-21\n",
              "176        177           21/03/2020  ...            Colombia 2020-03-21\n",
              "177        178           21/03/2020  ...      Estados Unidos 2020-03-21\n",
              "178        179           21/03/2020  ...            Colombia 2020-03-21\n",
              "179        180           21/03/2020  ...              España 2020-03-21\n",
              "180        181           21/03/2020  ...      Estados Unidos 2020-03-21\n",
              "181        182           21/03/2020  ...            Colombia 2020-03-21\n",
              "182        183           21/03/2020  ...             Ecuador 2020-03-21\n",
              "183        184           21/03/2020  ...      Estados Unidos 2020-03-21\n",
              "184        185           21/03/2020  ...            Colombia 2020-03-21\n",
              "185        186           21/03/2020  ...              España 2020-03-21\n",
              "186        187           21/03/2020  ...            Colombia 2020-03-21\n",
              "187        188           21/03/2020  ...            Colombia 2020-03-21\n",
              "188        189           21/03/2020  ...      Estados Unidos 2020-03-21\n",
              "189        190           21/03/2020  ...              España 2020-03-21\n",
              "190        191           21/03/2020  ...      Estados Unidos 2020-03-21\n",
              "191        192           21/03/2020  ...            Colombia 2020-03-21\n",
              "192        193           21/03/2020  ...              Italia 2020-03-21\n",
              "193        194           21/03/2020  ...              España 2020-03-21\n",
              "194        195           21/03/2020  ...      Estados Unidos 2020-03-21\n",
              "195        196           21/03/2020  ...              España 2020-03-21\n",
              "196        197           21/03/2020  ...            Colombia 2020-03-21\n",
              "197        198           21/03/2020  ...              España 2020-03-21\n",
              "198        199           21/03/2020  ...      Estados Unidos 2020-03-21\n",
              "199        200           21/03/2020  ...            Colombia 2020-03-21\n",
              "200        201           21/03/2020  ...              España 2020-03-21\n",
              "201        202           21/03/2020  ...                     2020-03-21\n",
              "202        203           21/03/2020  ...      Estados Unidos 2020-03-21\n",
              "203        204           21/03/2020  ...      Estados Unidos 2020-03-21\n",
              "204        205           21/03/2020  ...            Colombia 2020-03-21\n",
              "205        206           21/03/2020  ...              España 2020-03-21\n",
              "206        207           21/03/2020  ...           Guatemala 2020-03-21\n",
              "207        208           21/03/2020  ...              España 2020-03-21\n",
              "208        209           21/03/2020  ...         Reino Unido 2020-03-21\n",
              "209        210           21/03/2020  ...             Turquia 2020-03-21\n",
              "\n",
              "[35 rows x 9 columns]"
            ]
          },
          "metadata": {
            "tags": []
          },
          "execution_count": 70
        }
      ]
    },
    {
      "cell_type": "code",
      "metadata": {
        "id": "_9YnXQtAKOdd",
        "colab_type": "code",
        "colab": {}
      },
      "source": [
        ""
      ],
      "execution_count": 0,
      "outputs": []
    }
  ]
}